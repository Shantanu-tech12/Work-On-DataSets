{
 "cells": [
  {
   "cell_type": "code",
   "execution_count": 1,
   "id": "458f6c74",
   "metadata": {},
   "outputs": [],
   "source": [
    "import numpy as np\n",
    "import pandas as pd\n",
    "import matplotlib.pyplot as plt\n",
    "import seaborn as sns\n",
    "from warnings import filterwarnings\n",
    "filterwarnings('ignore')\n",
    "pd.set_option('display.max_columns', None)"
   ]
  },
  {
   "cell_type": "code",
   "execution_count": 2,
   "id": "a2ef02c9",
   "metadata": {},
   "outputs": [
    {
     "data": {
      "text/plain": [
       "((478741, 27), (121259, 27))"
      ]
     },
     "execution_count": 2,
     "metadata": {},
     "output_type": "execute_result"
    }
   ],
   "source": [
    "train = pd.read_csv('train.csv')\n",
    "test = pd.read_csv('test.csv')\n",
    "train.shape, test.shape"
   ]
  },
  {
   "cell_type": "code",
   "execution_count": 3,
   "id": "7d5180d9",
   "metadata": {},
   "outputs": [
    {
     "data": {
      "text/plain": [
       "Time                           14\n",
       "Road_Surface_Conditions       452\n",
       "Special_Conditions_at_Site     63\n",
       "dtype: int64"
      ]
     },
     "execution_count": 3,
     "metadata": {},
     "output_type": "execute_result"
    }
   ],
   "source": [
    "train.isnull().sum()[train.isnull().sum()!=0]"
   ]
  },
  {
   "cell_type": "code",
   "execution_count": 4,
   "id": "1868d94f",
   "metadata": {
    "scrolled": true
   },
   "outputs": [
    {
     "data": {
      "text/plain": [
       "Time                           1\n",
       "Road_Surface_Conditions       39\n",
       "Special_Conditions_at_Site    10\n",
       "dtype: int64"
      ]
     },
     "execution_count": 4,
     "metadata": {},
     "output_type": "execute_result"
    }
   ],
   "source": [
    "test.isnull().sum()[test.isnull().sum()!=0]"
   ]
  },
  {
   "cell_type": "code",
   "execution_count": 5,
   "id": "107f3fc9",
   "metadata": {},
   "outputs": [
    {
     "data": {
      "text/plain": [
       "(600000, 27)"
      ]
     },
     "execution_count": 5,
     "metadata": {},
     "output_type": "execute_result"
    }
   ],
   "source": [
    "df = pd.concat([train,test], ignore_index = True)\n",
    "df.shape"
   ]
  },
  {
   "cell_type": "code",
   "execution_count": 6,
   "id": "4943c915",
   "metadata": {},
   "outputs": [],
   "source": [
    "df1 = df.copy()"
   ]
  },
  {
   "cell_type": "code",
   "execution_count": 7,
   "id": "318ae0fe",
   "metadata": {},
   "outputs": [],
   "source": [
    "df1.set_index('Accident_ID',inplace=True)"
   ]
  },
  {
   "cell_type": "code",
   "execution_count": 8,
   "id": "0488b8ba",
   "metadata": {},
   "outputs": [
    {
     "data": {
      "text/html": [
       "<div>\n",
       "<style scoped>\n",
       "    .dataframe tbody tr th:only-of-type {\n",
       "        vertical-align: middle;\n",
       "    }\n",
       "\n",
       "    .dataframe tbody tr th {\n",
       "        vertical-align: top;\n",
       "    }\n",
       "\n",
       "    .dataframe thead th {\n",
       "        text-align: right;\n",
       "    }\n",
       "</style>\n",
       "<table border=\"1\" class=\"dataframe\">\n",
       "  <thead>\n",
       "    <tr style=\"text-align: right;\">\n",
       "      <th></th>\n",
       "      <th>Police_Force</th>\n",
       "      <th>Number_of_Vehicles</th>\n",
       "      <th>Number_of_Casualties</th>\n",
       "      <th>Date</th>\n",
       "      <th>Day_of_Week</th>\n",
       "      <th>Time</th>\n",
       "      <th>Local_Authority_(District)</th>\n",
       "      <th>Local_Authority_(Highway)</th>\n",
       "      <th>1st_Road_Class</th>\n",
       "      <th>1st_Road_Number</th>\n",
       "      <th>Road_Type</th>\n",
       "      <th>Speed_limit</th>\n",
       "      <th>2nd_Road_Class</th>\n",
       "      <th>2nd_Road_Number</th>\n",
       "      <th>Pedestrian_Crossing-Human_Control</th>\n",
       "      <th>Pedestrian_Crossing-Physical_Facilities</th>\n",
       "      <th>Light_Conditions</th>\n",
       "      <th>Weather_Conditions</th>\n",
       "      <th>Road_Surface_Conditions</th>\n",
       "      <th>Special_Conditions_at_Site</th>\n",
       "      <th>Carriageway_Hazards</th>\n",
       "      <th>Urban_or_Rural_Area</th>\n",
       "      <th>Did_Police_Officer_Attend_Scene_of_Accident</th>\n",
       "      <th>state</th>\n",
       "      <th>postcode</th>\n",
       "      <th>country</th>\n",
       "    </tr>\n",
       "    <tr>\n",
       "      <th>Accident_ID</th>\n",
       "      <th></th>\n",
       "      <th></th>\n",
       "      <th></th>\n",
       "      <th></th>\n",
       "      <th></th>\n",
       "      <th></th>\n",
       "      <th></th>\n",
       "      <th></th>\n",
       "      <th></th>\n",
       "      <th></th>\n",
       "      <th></th>\n",
       "      <th></th>\n",
       "      <th></th>\n",
       "      <th></th>\n",
       "      <th></th>\n",
       "      <th></th>\n",
       "      <th></th>\n",
       "      <th></th>\n",
       "      <th></th>\n",
       "      <th></th>\n",
       "      <th></th>\n",
       "      <th></th>\n",
       "      <th></th>\n",
       "      <th></th>\n",
       "      <th></th>\n",
       "      <th></th>\n",
       "    </tr>\n",
       "  </thead>\n",
       "  <tbody>\n",
       "    <tr>\n",
       "      <th>1</th>\n",
       "      <td>34</td>\n",
       "      <td>2</td>\n",
       "      <td>1</td>\n",
       "      <td>19/12/12</td>\n",
       "      <td>7</td>\n",
       "      <td>13:20</td>\n",
       "      <td>344</td>\n",
       "      <td>E10000032</td>\n",
       "      <td>4</td>\n",
       "      <td>395</td>\n",
       "      <td>Single carriageway</td>\n",
       "      <td>30</td>\n",
       "      <td>-1</td>\n",
       "      <td>0</td>\n",
       "      <td>None within 50 metres</td>\n",
       "      <td>No physical crossing within 50 meters</td>\n",
       "      <td>Daylight: Street light present</td>\n",
       "      <td>Fine without high winds</td>\n",
       "      <td>Dry</td>\n",
       "      <td>Ol or diesel</td>\n",
       "      <td>None</td>\n",
       "      <td>1</td>\n",
       "      <td>Yes</td>\n",
       "      <td>England</td>\n",
       "      <td>OX3 9UP</td>\n",
       "      <td>United Kingdom</td>\n",
       "    </tr>\n",
       "    <tr>\n",
       "      <th>2</th>\n",
       "      <td>5</td>\n",
       "      <td>2</td>\n",
       "      <td>1</td>\n",
       "      <td>02/11/12</td>\n",
       "      <td>4</td>\n",
       "      <td>7:53</td>\n",
       "      <td>102</td>\n",
       "      <td>E09000026</td>\n",
       "      <td>3</td>\n",
       "      <td>13</td>\n",
       "      <td>One way street</td>\n",
       "      <td>30</td>\n",
       "      <td>-1</td>\n",
       "      <td>0</td>\n",
       "      <td>None within 50 metres</td>\n",
       "      <td>No physical crossing within 50 meters</td>\n",
       "      <td>Daylight: Street light present</td>\n",
       "      <td>Raining without high winds</td>\n",
       "      <td>Dry</td>\n",
       "      <td>None</td>\n",
       "      <td>None</td>\n",
       "      <td>1</td>\n",
       "      <td>No</td>\n",
       "      <td>England</td>\n",
       "      <td>S35 4EZ</td>\n",
       "      <td>United Kingdom</td>\n",
       "    </tr>\n",
       "    <tr>\n",
       "      <th>3</th>\n",
       "      <td>1</td>\n",
       "      <td>2</td>\n",
       "      <td>1</td>\n",
       "      <td>02/11/12</td>\n",
       "      <td>4</td>\n",
       "      <td>16:00</td>\n",
       "      <td>531</td>\n",
       "      <td>E10000016</td>\n",
       "      <td>6</td>\n",
       "      <td>8</td>\n",
       "      <td>Roundabout</td>\n",
       "      <td>40</td>\n",
       "      <td>6</td>\n",
       "      <td>0</td>\n",
       "      <td>None within 50 metres</td>\n",
       "      <td>Zebra crossing</td>\n",
       "      <td>Daylight: Street light present</td>\n",
       "      <td>Fine without high winds</td>\n",
       "      <td>Dry</td>\n",
       "      <td>None</td>\n",
       "      <td>None</td>\n",
       "      <td>1</td>\n",
       "      <td>No</td>\n",
       "      <td>England</td>\n",
       "      <td>BN21 2XR</td>\n",
       "      <td>United Kingdom</td>\n",
       "    </tr>\n",
       "    <tr>\n",
       "      <th>4</th>\n",
       "      <td>1</td>\n",
       "      <td>1</td>\n",
       "      <td>1</td>\n",
       "      <td>06/05/12</td>\n",
       "      <td>1</td>\n",
       "      <td>16:50</td>\n",
       "      <td>7</td>\n",
       "      <td>E08000035</td>\n",
       "      <td>6</td>\n",
       "      <td>13</td>\n",
       "      <td>Single carriageway</td>\n",
       "      <td>30</td>\n",
       "      <td>6</td>\n",
       "      <td>0</td>\n",
       "      <td>None within 50 metres</td>\n",
       "      <td>No physical crossing within 50 meters</td>\n",
       "      <td>Daylight: Street light present</td>\n",
       "      <td>Fine without high winds</td>\n",
       "      <td>Dry</td>\n",
       "      <td>Roadworks</td>\n",
       "      <td>None</td>\n",
       "      <td>1</td>\n",
       "      <td>Yes</td>\n",
       "      <td>England</td>\n",
       "      <td>TA20 3PT</td>\n",
       "      <td>United Kingdom</td>\n",
       "    </tr>\n",
       "    <tr>\n",
       "      <th>5</th>\n",
       "      <td>46</td>\n",
       "      <td>1</td>\n",
       "      <td>1</td>\n",
       "      <td>30/06/12</td>\n",
       "      <td>3</td>\n",
       "      <td>13:25</td>\n",
       "      <td>519</td>\n",
       "      <td>E10000031</td>\n",
       "      <td>3</td>\n",
       "      <td>24</td>\n",
       "      <td>Dual carriageway</td>\n",
       "      <td>30</td>\n",
       "      <td>6</td>\n",
       "      <td>0</td>\n",
       "      <td>None within 50 metres</td>\n",
       "      <td>Zebra crossing</td>\n",
       "      <td>Daylight: Street light present</td>\n",
       "      <td>Fine without high winds</td>\n",
       "      <td>Dry</td>\n",
       "      <td>None</td>\n",
       "      <td>None</td>\n",
       "      <td>1</td>\n",
       "      <td>No</td>\n",
       "      <td>England</td>\n",
       "      <td>DN20 0QF</td>\n",
       "      <td>United Kingdom</td>\n",
       "    </tr>\n",
       "  </tbody>\n",
       "</table>\n",
       "</div>"
      ],
      "text/plain": [
       "             Police_Force  Number_of_Vehicles  Number_of_Casualties      Date  \\\n",
       "Accident_ID                                                                     \n",
       "1                      34                   2                     1  19/12/12   \n",
       "2                       5                   2                     1  02/11/12   \n",
       "3                       1                   2                     1  02/11/12   \n",
       "4                       1                   1                     1  06/05/12   \n",
       "5                      46                   1                     1  30/06/12   \n",
       "\n",
       "             Day_of_Week   Time  Local_Authority_(District)  \\\n",
       "Accident_ID                                                   \n",
       "1                      7  13:20                         344   \n",
       "2                      4   7:53                         102   \n",
       "3                      4  16:00                         531   \n",
       "4                      1  16:50                           7   \n",
       "5                      3  13:25                         519   \n",
       "\n",
       "            Local_Authority_(Highway)  1st_Road_Class  1st_Road_Number  \\\n",
       "Accident_ID                                                              \n",
       "1                           E10000032               4              395   \n",
       "2                           E09000026               3               13   \n",
       "3                           E10000016               6                8   \n",
       "4                           E08000035               6               13   \n",
       "5                           E10000031               3               24   \n",
       "\n",
       "                      Road_Type  Speed_limit  2nd_Road_Class  2nd_Road_Number  \\\n",
       "Accident_ID                                                                     \n",
       "1            Single carriageway           30              -1                0   \n",
       "2                One way street           30              -1                0   \n",
       "3                    Roundabout           40               6                0   \n",
       "4            Single carriageway           30               6                0   \n",
       "5              Dual carriageway           30               6                0   \n",
       "\n",
       "            Pedestrian_Crossing-Human_Control  \\\n",
       "Accident_ID                                     \n",
       "1                       None within 50 metres   \n",
       "2                       None within 50 metres   \n",
       "3                       None within 50 metres   \n",
       "4                       None within 50 metres   \n",
       "5                       None within 50 metres   \n",
       "\n",
       "            Pedestrian_Crossing-Physical_Facilities  \\\n",
       "Accident_ID                                           \n",
       "1             No physical crossing within 50 meters   \n",
       "2             No physical crossing within 50 meters   \n",
       "3                                    Zebra crossing   \n",
       "4             No physical crossing within 50 meters   \n",
       "5                                    Zebra crossing   \n",
       "\n",
       "                           Light_Conditions          Weather_Conditions  \\\n",
       "Accident_ID                                                               \n",
       "1            Daylight: Street light present     Fine without high winds   \n",
       "2            Daylight: Street light present  Raining without high winds   \n",
       "3            Daylight: Street light present     Fine without high winds   \n",
       "4            Daylight: Street light present     Fine without high winds   \n",
       "5            Daylight: Street light present     Fine without high winds   \n",
       "\n",
       "            Road_Surface_Conditions Special_Conditions_at_Site  \\\n",
       "Accident_ID                                                      \n",
       "1                               Dry               Ol or diesel   \n",
       "2                               Dry                       None   \n",
       "3                               Dry                       None   \n",
       "4                               Dry                  Roadworks   \n",
       "5                               Dry                       None   \n",
       "\n",
       "            Carriageway_Hazards  Urban_or_Rural_Area  \\\n",
       "Accident_ID                                            \n",
       "1                          None                    1   \n",
       "2                          None                    1   \n",
       "3                          None                    1   \n",
       "4                          None                    1   \n",
       "5                          None                    1   \n",
       "\n",
       "            Did_Police_Officer_Attend_Scene_of_Accident    state  postcode  \\\n",
       "Accident_ID                                                                  \n",
       "1                                                   Yes  England   OX3 9UP   \n",
       "2                                                    No  England   S35 4EZ   \n",
       "3                                                    No  England  BN21 2XR   \n",
       "4                                                   Yes  England  TA20 3PT   \n",
       "5                                                    No  England  DN20 0QF   \n",
       "\n",
       "                    country  \n",
       "Accident_ID                  \n",
       "1            United Kingdom  \n",
       "2            United Kingdom  \n",
       "3            United Kingdom  \n",
       "4            United Kingdom  \n",
       "5            United Kingdom  "
      ]
     },
     "execution_count": 8,
     "metadata": {},
     "output_type": "execute_result"
    }
   ],
   "source": [
    "df1.head()"
   ]
  },
  {
   "cell_type": "code",
   "execution_count": 9,
   "id": "1bce4693",
   "metadata": {},
   "outputs": [],
   "source": [
    "df1.sort_index(inplace = True)"
   ]
  },
  {
   "cell_type": "markdown",
   "id": "1e33d1d4",
   "metadata": {},
   "source": [
    "# Checking Duplicates"
   ]
  },
  {
   "cell_type": "code",
   "execution_count": 10,
   "id": "2228b205",
   "metadata": {
    "scrolled": true
   },
   "outputs": [
    {
     "data": {
      "text/html": [
       "<div>\n",
       "<style scoped>\n",
       "    .dataframe tbody tr th:only-of-type {\n",
       "        vertical-align: middle;\n",
       "    }\n",
       "\n",
       "    .dataframe tbody tr th {\n",
       "        vertical-align: top;\n",
       "    }\n",
       "\n",
       "    .dataframe thead th {\n",
       "        text-align: right;\n",
       "    }\n",
       "</style>\n",
       "<table border=\"1\" class=\"dataframe\">\n",
       "  <thead>\n",
       "    <tr style=\"text-align: right;\">\n",
       "      <th></th>\n",
       "      <th>Police_Force</th>\n",
       "      <th>Number_of_Vehicles</th>\n",
       "      <th>Number_of_Casualties</th>\n",
       "      <th>Date</th>\n",
       "      <th>Day_of_Week</th>\n",
       "      <th>Time</th>\n",
       "      <th>Local_Authority_(District)</th>\n",
       "      <th>Local_Authority_(Highway)</th>\n",
       "      <th>1st_Road_Class</th>\n",
       "      <th>1st_Road_Number</th>\n",
       "      <th>Road_Type</th>\n",
       "      <th>Speed_limit</th>\n",
       "      <th>2nd_Road_Class</th>\n",
       "      <th>2nd_Road_Number</th>\n",
       "      <th>Pedestrian_Crossing-Human_Control</th>\n",
       "      <th>Pedestrian_Crossing-Physical_Facilities</th>\n",
       "      <th>Light_Conditions</th>\n",
       "      <th>Weather_Conditions</th>\n",
       "      <th>Road_Surface_Conditions</th>\n",
       "      <th>Special_Conditions_at_Site</th>\n",
       "      <th>Carriageway_Hazards</th>\n",
       "      <th>Urban_or_Rural_Area</th>\n",
       "      <th>Did_Police_Officer_Attend_Scene_of_Accident</th>\n",
       "      <th>state</th>\n",
       "      <th>postcode</th>\n",
       "      <th>country</th>\n",
       "    </tr>\n",
       "    <tr>\n",
       "      <th>Accident_ID</th>\n",
       "      <th></th>\n",
       "      <th></th>\n",
       "      <th></th>\n",
       "      <th></th>\n",
       "      <th></th>\n",
       "      <th></th>\n",
       "      <th></th>\n",
       "      <th></th>\n",
       "      <th></th>\n",
       "      <th></th>\n",
       "      <th></th>\n",
       "      <th></th>\n",
       "      <th></th>\n",
       "      <th></th>\n",
       "      <th></th>\n",
       "      <th></th>\n",
       "      <th></th>\n",
       "      <th></th>\n",
       "      <th></th>\n",
       "      <th></th>\n",
       "      <th></th>\n",
       "      <th></th>\n",
       "      <th></th>\n",
       "      <th></th>\n",
       "      <th></th>\n",
       "      <th></th>\n",
       "    </tr>\n",
       "  </thead>\n",
       "  <tbody>\n",
       "  </tbody>\n",
       "</table>\n",
       "</div>"
      ],
      "text/plain": [
       "Empty DataFrame\n",
       "Columns: [Police_Force, Number_of_Vehicles, Number_of_Casualties, Date, Day_of_Week, Time, Local_Authority_(District), Local_Authority_(Highway), 1st_Road_Class, 1st_Road_Number, Road_Type, Speed_limit, 2nd_Road_Class, 2nd_Road_Number, Pedestrian_Crossing-Human_Control, Pedestrian_Crossing-Physical_Facilities, Light_Conditions, Weather_Conditions, Road_Surface_Conditions, Special_Conditions_at_Site, Carriageway_Hazards, Urban_or_Rural_Area, Did_Police_Officer_Attend_Scene_of_Accident, state, postcode, country]\n",
       "Index: []"
      ]
     },
     "execution_count": 10,
     "metadata": {},
     "output_type": "execute_result"
    }
   ],
   "source": [
    "df1[df1.duplicated(keep = 'first')]"
   ]
  },
  {
   "cell_type": "code",
   "execution_count": 11,
   "id": "a56dd2c9",
   "metadata": {},
   "outputs": [
    {
     "data": {
      "text/html": [
       "<div>\n",
       "<style scoped>\n",
       "    .dataframe tbody tr th:only-of-type {\n",
       "        vertical-align: middle;\n",
       "    }\n",
       "\n",
       "    .dataframe tbody tr th {\n",
       "        vertical-align: top;\n",
       "    }\n",
       "\n",
       "    .dataframe thead th {\n",
       "        text-align: right;\n",
       "    }\n",
       "</style>\n",
       "<table border=\"1\" class=\"dataframe\">\n",
       "  <thead>\n",
       "    <tr style=\"text-align: right;\">\n",
       "      <th></th>\n",
       "      <th>Police_Force</th>\n",
       "      <th>Number_of_Vehicles</th>\n",
       "      <th>Number_of_Casualties</th>\n",
       "      <th>Date</th>\n",
       "      <th>Day_of_Week</th>\n",
       "      <th>Time</th>\n",
       "      <th>Local_Authority_(District)</th>\n",
       "      <th>Local_Authority_(Highway)</th>\n",
       "      <th>1st_Road_Class</th>\n",
       "      <th>1st_Road_Number</th>\n",
       "      <th>Road_Type</th>\n",
       "      <th>Speed_limit</th>\n",
       "      <th>2nd_Road_Class</th>\n",
       "      <th>2nd_Road_Number</th>\n",
       "      <th>Pedestrian_Crossing-Human_Control</th>\n",
       "      <th>Pedestrian_Crossing-Physical_Facilities</th>\n",
       "      <th>Light_Conditions</th>\n",
       "      <th>Weather_Conditions</th>\n",
       "      <th>Road_Surface_Conditions</th>\n",
       "      <th>Special_Conditions_at_Site</th>\n",
       "      <th>Carriageway_Hazards</th>\n",
       "      <th>Urban_or_Rural_Area</th>\n",
       "      <th>Did_Police_Officer_Attend_Scene_of_Accident</th>\n",
       "      <th>state</th>\n",
       "      <th>postcode</th>\n",
       "      <th>country</th>\n",
       "    </tr>\n",
       "    <tr>\n",
       "      <th>Accident_ID</th>\n",
       "      <th></th>\n",
       "      <th></th>\n",
       "      <th></th>\n",
       "      <th></th>\n",
       "      <th></th>\n",
       "      <th></th>\n",
       "      <th></th>\n",
       "      <th></th>\n",
       "      <th></th>\n",
       "      <th></th>\n",
       "      <th></th>\n",
       "      <th></th>\n",
       "      <th></th>\n",
       "      <th></th>\n",
       "      <th></th>\n",
       "      <th></th>\n",
       "      <th></th>\n",
       "      <th></th>\n",
       "      <th></th>\n",
       "      <th></th>\n",
       "      <th></th>\n",
       "      <th></th>\n",
       "      <th></th>\n",
       "      <th></th>\n",
       "      <th></th>\n",
       "      <th></th>\n",
       "    </tr>\n",
       "  </thead>\n",
       "  <tbody>\n",
       "  </tbody>\n",
       "</table>\n",
       "</div>"
      ],
      "text/plain": [
       "Empty DataFrame\n",
       "Columns: [Police_Force, Number_of_Vehicles, Number_of_Casualties, Date, Day_of_Week, Time, Local_Authority_(District), Local_Authority_(Highway), 1st_Road_Class, 1st_Road_Number, Road_Type, Speed_limit, 2nd_Road_Class, 2nd_Road_Number, Pedestrian_Crossing-Human_Control, Pedestrian_Crossing-Physical_Facilities, Light_Conditions, Weather_Conditions, Road_Surface_Conditions, Special_Conditions_at_Site, Carriageway_Hazards, Urban_or_Rural_Area, Did_Police_Officer_Attend_Scene_of_Accident, state, postcode, country]\n",
       "Index: []"
      ]
     },
     "execution_count": 11,
     "metadata": {},
     "output_type": "execute_result"
    }
   ],
   "source": [
    "df1[df1.index.duplicated()]"
   ]
  },
  {
   "cell_type": "code",
   "execution_count": 12,
   "id": "37de41d3",
   "metadata": {
    "scrolled": true
   },
   "outputs": [
    {
     "name": "stdout",
     "output_type": "stream",
     "text": [
      "<class 'pandas.core.frame.DataFrame'>\n",
      "Int64Index: 600000 entries, 1 to 600000\n",
      "Data columns (total 26 columns):\n",
      " #   Column                                       Non-Null Count   Dtype \n",
      "---  ------                                       --------------   ----- \n",
      " 0   Police_Force                                 600000 non-null  int64 \n",
      " 1   Number_of_Vehicles                           600000 non-null  int64 \n",
      " 2   Number_of_Casualties                         600000 non-null  int64 \n",
      " 3   Date                                         600000 non-null  object\n",
      " 4   Day_of_Week                                  600000 non-null  int64 \n",
      " 5   Time                                         599985 non-null  object\n",
      " 6   Local_Authority_(District)                   600000 non-null  int64 \n",
      " 7   Local_Authority_(Highway)                    600000 non-null  object\n",
      " 8   1st_Road_Class                               600000 non-null  int64 \n",
      " 9   1st_Road_Number                              600000 non-null  int64 \n",
      " 10  Road_Type                                    600000 non-null  object\n",
      " 11  Speed_limit                                  600000 non-null  int64 \n",
      " 12  2nd_Road_Class                               600000 non-null  int64 \n",
      " 13  2nd_Road_Number                              600000 non-null  int64 \n",
      " 14  Pedestrian_Crossing-Human_Control            600000 non-null  object\n",
      " 15  Pedestrian_Crossing-Physical_Facilities      600000 non-null  object\n",
      " 16  Light_Conditions                             600000 non-null  object\n",
      " 17  Weather_Conditions                           600000 non-null  object\n",
      " 18  Road_Surface_Conditions                      599509 non-null  object\n",
      " 19  Special_Conditions_at_Site                   599927 non-null  object\n",
      " 20  Carriageway_Hazards                          600000 non-null  object\n",
      " 21  Urban_or_Rural_Area                          600000 non-null  int64 \n",
      " 22  Did_Police_Officer_Attend_Scene_of_Accident  600000 non-null  object\n",
      " 23  state                                        600000 non-null  object\n",
      " 24  postcode                                     600000 non-null  object\n",
      " 25  country                                      600000 non-null  object\n",
      "dtypes: int64(11), object(15)\n",
      "memory usage: 139.7+ MB\n"
     ]
    }
   ],
   "source": [
    "df1.info()"
   ]
  },
  {
   "cell_type": "markdown",
   "id": "7636fb93",
   "metadata": {},
   "source": [
    "## Generating Target Variable"
   ]
  },
  {
   "cell_type": "code",
   "execution_count": 13,
   "id": "a41e1aed",
   "metadata": {},
   "outputs": [],
   "source": [
    "tgt = np.round((df.groupby(['postcode'])['Number_of_Casualties'].sum())/(df.groupby(['postcode'])['Accident_ID'].count()),2)"
   ]
  },
  {
   "cell_type": "code",
   "execution_count": 14,
   "id": "284125e0",
   "metadata": {},
   "outputs": [],
   "source": [
    "df1['Accident_Risk_Index'] = df1['postcode'].map(tgt)"
   ]
  },
  {
   "cell_type": "code",
   "execution_count": 15,
   "id": "cafbdbb1",
   "metadata": {},
   "outputs": [
    {
     "data": {
      "text/html": [
       "<div>\n",
       "<style scoped>\n",
       "    .dataframe tbody tr th:only-of-type {\n",
       "        vertical-align: middle;\n",
       "    }\n",
       "\n",
       "    .dataframe tbody tr th {\n",
       "        vertical-align: top;\n",
       "    }\n",
       "\n",
       "    .dataframe thead th {\n",
       "        text-align: right;\n",
       "    }\n",
       "</style>\n",
       "<table border=\"1\" class=\"dataframe\">\n",
       "  <thead>\n",
       "    <tr style=\"text-align: right;\">\n",
       "      <th></th>\n",
       "      <th>Police_Force</th>\n",
       "      <th>Number_of_Vehicles</th>\n",
       "      <th>Number_of_Casualties</th>\n",
       "      <th>Date</th>\n",
       "      <th>Day_of_Week</th>\n",
       "      <th>Time</th>\n",
       "      <th>Local_Authority_(District)</th>\n",
       "      <th>Local_Authority_(Highway)</th>\n",
       "      <th>1st_Road_Class</th>\n",
       "      <th>1st_Road_Number</th>\n",
       "      <th>Road_Type</th>\n",
       "      <th>Speed_limit</th>\n",
       "      <th>2nd_Road_Class</th>\n",
       "      <th>2nd_Road_Number</th>\n",
       "      <th>Pedestrian_Crossing-Human_Control</th>\n",
       "      <th>Pedestrian_Crossing-Physical_Facilities</th>\n",
       "      <th>Light_Conditions</th>\n",
       "      <th>Weather_Conditions</th>\n",
       "      <th>Road_Surface_Conditions</th>\n",
       "      <th>Special_Conditions_at_Site</th>\n",
       "      <th>Carriageway_Hazards</th>\n",
       "      <th>Urban_or_Rural_Area</th>\n",
       "      <th>Did_Police_Officer_Attend_Scene_of_Accident</th>\n",
       "      <th>state</th>\n",
       "      <th>postcode</th>\n",
       "      <th>country</th>\n",
       "      <th>Accident_Risk_Index</th>\n",
       "    </tr>\n",
       "    <tr>\n",
       "      <th>Accident_ID</th>\n",
       "      <th></th>\n",
       "      <th></th>\n",
       "      <th></th>\n",
       "      <th></th>\n",
       "      <th></th>\n",
       "      <th></th>\n",
       "      <th></th>\n",
       "      <th></th>\n",
       "      <th></th>\n",
       "      <th></th>\n",
       "      <th></th>\n",
       "      <th></th>\n",
       "      <th></th>\n",
       "      <th></th>\n",
       "      <th></th>\n",
       "      <th></th>\n",
       "      <th></th>\n",
       "      <th></th>\n",
       "      <th></th>\n",
       "      <th></th>\n",
       "      <th></th>\n",
       "      <th></th>\n",
       "      <th></th>\n",
       "      <th></th>\n",
       "      <th></th>\n",
       "      <th></th>\n",
       "      <th></th>\n",
       "    </tr>\n",
       "  </thead>\n",
       "  <tbody>\n",
       "    <tr>\n",
       "      <th>1</th>\n",
       "      <td>34</td>\n",
       "      <td>2</td>\n",
       "      <td>1</td>\n",
       "      <td>19/12/12</td>\n",
       "      <td>7</td>\n",
       "      <td>13:20</td>\n",
       "      <td>344</td>\n",
       "      <td>E10000032</td>\n",
       "      <td>4</td>\n",
       "      <td>395</td>\n",
       "      <td>Single carriageway</td>\n",
       "      <td>30</td>\n",
       "      <td>-1</td>\n",
       "      <td>0</td>\n",
       "      <td>None within 50 metres</td>\n",
       "      <td>No physical crossing within 50 meters</td>\n",
       "      <td>Daylight: Street light present</td>\n",
       "      <td>Fine without high winds</td>\n",
       "      <td>Dry</td>\n",
       "      <td>Ol or diesel</td>\n",
       "      <td>None</td>\n",
       "      <td>1</td>\n",
       "      <td>Yes</td>\n",
       "      <td>England</td>\n",
       "      <td>OX3 9UP</td>\n",
       "      <td>United Kingdom</td>\n",
       "      <td>1.57</td>\n",
       "    </tr>\n",
       "    <tr>\n",
       "      <th>2</th>\n",
       "      <td>5</td>\n",
       "      <td>2</td>\n",
       "      <td>1</td>\n",
       "      <td>02/11/12</td>\n",
       "      <td>4</td>\n",
       "      <td>7:53</td>\n",
       "      <td>102</td>\n",
       "      <td>E09000026</td>\n",
       "      <td>3</td>\n",
       "      <td>13</td>\n",
       "      <td>One way street</td>\n",
       "      <td>30</td>\n",
       "      <td>-1</td>\n",
       "      <td>0</td>\n",
       "      <td>None within 50 metres</td>\n",
       "      <td>No physical crossing within 50 meters</td>\n",
       "      <td>Daylight: Street light present</td>\n",
       "      <td>Raining without high winds</td>\n",
       "      <td>Dry</td>\n",
       "      <td>None</td>\n",
       "      <td>None</td>\n",
       "      <td>1</td>\n",
       "      <td>No</td>\n",
       "      <td>England</td>\n",
       "      <td>S35 4EZ</td>\n",
       "      <td>United Kingdom</td>\n",
       "      <td>0.33</td>\n",
       "    </tr>\n",
       "    <tr>\n",
       "      <th>3</th>\n",
       "      <td>1</td>\n",
       "      <td>2</td>\n",
       "      <td>1</td>\n",
       "      <td>02/11/12</td>\n",
       "      <td>4</td>\n",
       "      <td>16:00</td>\n",
       "      <td>531</td>\n",
       "      <td>E10000016</td>\n",
       "      <td>6</td>\n",
       "      <td>8</td>\n",
       "      <td>Roundabout</td>\n",
       "      <td>40</td>\n",
       "      <td>6</td>\n",
       "      <td>0</td>\n",
       "      <td>None within 50 metres</td>\n",
       "      <td>Zebra crossing</td>\n",
       "      <td>Daylight: Street light present</td>\n",
       "      <td>Fine without high winds</td>\n",
       "      <td>Dry</td>\n",
       "      <td>None</td>\n",
       "      <td>None</td>\n",
       "      <td>1</td>\n",
       "      <td>No</td>\n",
       "      <td>England</td>\n",
       "      <td>BN21 2XR</td>\n",
       "      <td>United Kingdom</td>\n",
       "      <td>1.14</td>\n",
       "    </tr>\n",
       "    <tr>\n",
       "      <th>4</th>\n",
       "      <td>1</td>\n",
       "      <td>1</td>\n",
       "      <td>1</td>\n",
       "      <td>06/05/12</td>\n",
       "      <td>1</td>\n",
       "      <td>16:50</td>\n",
       "      <td>7</td>\n",
       "      <td>E08000035</td>\n",
       "      <td>6</td>\n",
       "      <td>13</td>\n",
       "      <td>Single carriageway</td>\n",
       "      <td>30</td>\n",
       "      <td>6</td>\n",
       "      <td>0</td>\n",
       "      <td>None within 50 metres</td>\n",
       "      <td>No physical crossing within 50 meters</td>\n",
       "      <td>Daylight: Street light present</td>\n",
       "      <td>Fine without high winds</td>\n",
       "      <td>Dry</td>\n",
       "      <td>Roadworks</td>\n",
       "      <td>None</td>\n",
       "      <td>1</td>\n",
       "      <td>Yes</td>\n",
       "      <td>England</td>\n",
       "      <td>TA20 3PT</td>\n",
       "      <td>United Kingdom</td>\n",
       "      <td>1.67</td>\n",
       "    </tr>\n",
       "    <tr>\n",
       "      <th>5</th>\n",
       "      <td>46</td>\n",
       "      <td>1</td>\n",
       "      <td>1</td>\n",
       "      <td>30/06/12</td>\n",
       "      <td>3</td>\n",
       "      <td>13:25</td>\n",
       "      <td>519</td>\n",
       "      <td>E10000031</td>\n",
       "      <td>3</td>\n",
       "      <td>24</td>\n",
       "      <td>Dual carriageway</td>\n",
       "      <td>30</td>\n",
       "      <td>6</td>\n",
       "      <td>0</td>\n",
       "      <td>None within 50 metres</td>\n",
       "      <td>Zebra crossing</td>\n",
       "      <td>Daylight: Street light present</td>\n",
       "      <td>Fine without high winds</td>\n",
       "      <td>Dry</td>\n",
       "      <td>None</td>\n",
       "      <td>None</td>\n",
       "      <td>1</td>\n",
       "      <td>No</td>\n",
       "      <td>England</td>\n",
       "      <td>DN20 0QF</td>\n",
       "      <td>United Kingdom</td>\n",
       "      <td>0.75</td>\n",
       "    </tr>\n",
       "  </tbody>\n",
       "</table>\n",
       "</div>"
      ],
      "text/plain": [
       "             Police_Force  Number_of_Vehicles  Number_of_Casualties      Date  \\\n",
       "Accident_ID                                                                     \n",
       "1                      34                   2                     1  19/12/12   \n",
       "2                       5                   2                     1  02/11/12   \n",
       "3                       1                   2                     1  02/11/12   \n",
       "4                       1                   1                     1  06/05/12   \n",
       "5                      46                   1                     1  30/06/12   \n",
       "\n",
       "             Day_of_Week   Time  Local_Authority_(District)  \\\n",
       "Accident_ID                                                   \n",
       "1                      7  13:20                         344   \n",
       "2                      4   7:53                         102   \n",
       "3                      4  16:00                         531   \n",
       "4                      1  16:50                           7   \n",
       "5                      3  13:25                         519   \n",
       "\n",
       "            Local_Authority_(Highway)  1st_Road_Class  1st_Road_Number  \\\n",
       "Accident_ID                                                              \n",
       "1                           E10000032               4              395   \n",
       "2                           E09000026               3               13   \n",
       "3                           E10000016               6                8   \n",
       "4                           E08000035               6               13   \n",
       "5                           E10000031               3               24   \n",
       "\n",
       "                      Road_Type  Speed_limit  2nd_Road_Class  2nd_Road_Number  \\\n",
       "Accident_ID                                                                     \n",
       "1            Single carriageway           30              -1                0   \n",
       "2                One way street           30              -1                0   \n",
       "3                    Roundabout           40               6                0   \n",
       "4            Single carriageway           30               6                0   \n",
       "5              Dual carriageway           30               6                0   \n",
       "\n",
       "            Pedestrian_Crossing-Human_Control  \\\n",
       "Accident_ID                                     \n",
       "1                       None within 50 metres   \n",
       "2                       None within 50 metres   \n",
       "3                       None within 50 metres   \n",
       "4                       None within 50 metres   \n",
       "5                       None within 50 metres   \n",
       "\n",
       "            Pedestrian_Crossing-Physical_Facilities  \\\n",
       "Accident_ID                                           \n",
       "1             No physical crossing within 50 meters   \n",
       "2             No physical crossing within 50 meters   \n",
       "3                                    Zebra crossing   \n",
       "4             No physical crossing within 50 meters   \n",
       "5                                    Zebra crossing   \n",
       "\n",
       "                           Light_Conditions          Weather_Conditions  \\\n",
       "Accident_ID                                                               \n",
       "1            Daylight: Street light present     Fine without high winds   \n",
       "2            Daylight: Street light present  Raining without high winds   \n",
       "3            Daylight: Street light present     Fine without high winds   \n",
       "4            Daylight: Street light present     Fine without high winds   \n",
       "5            Daylight: Street light present     Fine without high winds   \n",
       "\n",
       "            Road_Surface_Conditions Special_Conditions_at_Site  \\\n",
       "Accident_ID                                                      \n",
       "1                               Dry               Ol or diesel   \n",
       "2                               Dry                       None   \n",
       "3                               Dry                       None   \n",
       "4                               Dry                  Roadworks   \n",
       "5                               Dry                       None   \n",
       "\n",
       "            Carriageway_Hazards  Urban_or_Rural_Area  \\\n",
       "Accident_ID                                            \n",
       "1                          None                    1   \n",
       "2                          None                    1   \n",
       "3                          None                    1   \n",
       "4                          None                    1   \n",
       "5                          None                    1   \n",
       "\n",
       "            Did_Police_Officer_Attend_Scene_of_Accident    state  postcode  \\\n",
       "Accident_ID                                                                  \n",
       "1                                                   Yes  England   OX3 9UP   \n",
       "2                                                    No  England   S35 4EZ   \n",
       "3                                                    No  England  BN21 2XR   \n",
       "4                                                   Yes  England  TA20 3PT   \n",
       "5                                                    No  England  DN20 0QF   \n",
       "\n",
       "                    country  Accident_Risk_Index  \n",
       "Accident_ID                                       \n",
       "1            United Kingdom                 1.57  \n",
       "2            United Kingdom                 0.33  \n",
       "3            United Kingdom                 1.14  \n",
       "4            United Kingdom                 1.67  \n",
       "5            United Kingdom                 0.75  "
      ]
     },
     "execution_count": 15,
     "metadata": {},
     "output_type": "execute_result"
    }
   ],
   "source": [
    "df1.head()"
   ]
  },
  {
   "cell_type": "markdown",
   "id": "22496604",
   "metadata": {},
   "source": [
    "# <font color='purple'> Understanding Categorical variables"
   ]
  },
  {
   "cell_type": "code",
   "execution_count": 16,
   "id": "d4a09fbb",
   "metadata": {},
   "outputs": [],
   "source": [
    "# Categorical variable list\n",
    "cat = list(df1.select_dtypes(include='object').columns)"
   ]
  },
  {
   "cell_type": "code",
   "execution_count": 17,
   "id": "4bedb039",
   "metadata": {
    "scrolled": true
   },
   "outputs": [
    {
     "name": "stdout",
     "output_type": "stream",
     "text": [
      "Date\n",
      "731\n",
      "-------------------------------------------\n",
      "Time\n",
      "1380\n",
      "-------------------------------------------\n",
      "Local_Authority_(Highway)\n",
      "207\n",
      "-------------------------------------------\n",
      "Road_Type\n",
      "6\n",
      "-------------------------------------------\n",
      "Pedestrian_Crossing-Human_Control\n",
      "3\n",
      "-------------------------------------------\n",
      "Pedestrian_Crossing-Physical_Facilities\n",
      "6\n",
      "-------------------------------------------\n",
      "Light_Conditions\n",
      "5\n",
      "-------------------------------------------\n",
      "Weather_Conditions\n",
      "9\n",
      "-------------------------------------------\n",
      "Road_Surface_Conditions\n",
      "6\n",
      "-------------------------------------------\n",
      "Special_Conditions_at_Site\n",
      "9\n",
      "-------------------------------------------\n",
      "Carriageway_Hazards\n",
      "6\n",
      "-------------------------------------------\n",
      "Did_Police_Officer_Attend_Scene_of_Accident\n",
      "2\n",
      "-------------------------------------------\n",
      "state\n",
      "3\n",
      "-------------------------------------------\n",
      "postcode\n",
      "99689\n",
      "-------------------------------------------\n",
      "country\n",
      "1\n",
      "-------------------------------------------\n"
     ]
    }
   ],
   "source": [
    "# Number of unique in each categotical variable\n",
    "cat_unique_len = dict()\n",
    "for i in df1.select_dtypes(include='object').columns:\n",
    "    print(f'{i}')\n",
    "    print(len(df1[i].unique()))\n",
    "    print('-------------------------------------------')\n",
    "    cat_unique_len[i]=len(df1[i].unique())"
   ]
  },
  {
   "cell_type": "code",
   "execution_count": 18,
   "id": "9e8bc6ed",
   "metadata": {
    "scrolled": true
   },
   "outputs": [
    {
     "name": "stdout",
     "output_type": "stream",
     "text": [
      "Date\n",
      "['19/12/12' '02/11/12' '06/05/12' '30/06/12' '04/03/12' '11/04/12'\n",
      " '06/06/12' '27/03/12' '13/09/12' '04/02/12' '09/11/12' '08/01/12'\n",
      " '06/10/13' '19/01/12' '22/06/12' '22/04/13' '17/02/12' '08/08/12'\n",
      " '03/02/12' '27/09/13' '27/09/12' '13/03/13' '28/04/12' '24/07/12'\n",
      " '18/10/12' '10/10/12' '13/06/13' '11/01/12' '16/03/12' '10/11/12'\n",
      " '13/04/12' '21/11/12' '30/08/12' '15/11/12' '08/09/12' '04/04/12'\n",
      " '23/02/12' '22/02/12' '06/01/12' '31/05/12' '13/12/12' '17/05/12'\n",
      " '30/05/12' '16/07/12' '21/06/12' '26/04/12' '14/11/12' '11/08/13'\n",
      " '10/09/12' '22/09/12' '04/10/12' '24/10/13' '19/07/13' '31/01/12'\n",
      " '01/05/12' '26/07/12' '30/03/12' '07/03/12' '07/01/13' '12/05/12'\n",
      " '12/10/12' '24/10/12' '14/09/12' '01/09/13' '27/11/12' '23/12/13'\n",
      " '13/06/12' '31/12/12' '23/01/12' '28/11/12' '07/04/12' '24/11/12'\n",
      " '24/06/13' '16/10/12' '02/03/13' '21/12/12' '30/04/13' '26/09/12'\n",
      " '08/02/12' '24/01/12' '02/10/12' '06/10/12' '20/02/12' '26/01/12'\n",
      " '08/01/13' '23/04/12' '04/09/12' '09/08/12' '01/02/12' '07/05/13'\n",
      " '08/11/12' '29/10/12' '06/04/12' '28/01/12' '07/08/12' '14/01/12'\n",
      " '24/03/12' '21/10/13' '26/05/12' '27/04/12' '04/05/12' '26/02/12'\n",
      " '19/02/12' '14/03/12' '13/11/12' '21/07/12' '02/04/12' '19/10/12'\n",
      " '01/07/12' '12/07/12' '23/06/12' '28/11/13' '21/03/12' '14/07/13'\n",
      " '23/07/12' '18/04/13' '29/03/13' '03/11/12' '12/09/12' '01/12/12'\n",
      " '30/04/12' '11/06/12' '17/12/12' '17/07/12' '30/01/12' '04/07/12'\n",
      " '15/06/12' '10/02/12' '14/07/12' '27/08/13' '29/06/13' '10/03/12'\n",
      " '26/03/12' '22/02/13' '20/07/12' '03/07/12' '05/02/13' '05/02/12'\n",
      " '13/08/13' '18/06/12' '15/03/13' '03/08/12' '15/02/12' '27/07/12'\n",
      " '26/07/13' '01/04/13' '07/12/12' '13/10/12' '13/03/12' '13/05/12'\n",
      " '06/03/12' '25/03/12' '11/10/13' '13/02/13' '05/05/13' '27/02/12'\n",
      " '01/10/13' '01/10/12' '19/02/13' '14/02/12' '24/08/12' '15/10/12'\n",
      " '28/07/12' '09/05/12' '23/11/12' '03/01/12' '28/08/12' '05/09/12'\n",
      " '28/02/12' '08/03/12' '29/05/12' '25/07/12' '19/07/12' '11/09/12'\n",
      " '29/03/12' '07/01/12' '11/02/12' '16/02/12' '14/04/12' '01/06/13'\n",
      " '27/01/12' '29/09/12' '09/03/13' '15/04/13' '01/03/12' '08/12/12'\n",
      " '12/07/13' '07/09/12' '09/12/13' '02/06/12' '22/08/13' '20/04/13'\n",
      " '21/02/12' '10/08/13' '09/01/12' '18/05/12' '17/01/12' '08/10/13'\n",
      " '21/04/12' '29/07/12' '25/05/12' '25/09/12' '05/09/13' '10/12/12'\n",
      " '22/10/12' '20/12/12' '18/09/12' '03/03/13' '03/04/12' '16/11/12'\n",
      " '06/12/12' '20/01/12' '14/03/13' '16/09/13' '15/04/12' '29/08/13'\n",
      " '19/05/12' '18/12/12' '08/05/12' '28/03/12' '25/02/13' '11/12/12'\n",
      " '07/11/12' '22/04/12' '08/11/13' '31/10/12' '19/03/12' '12/02/12'\n",
      " '28/01/13' '09/09/12' '10/08/12' '03/10/12' '28/06/12' '27/07/13'\n",
      " '12/06/12' '24/02/12' '04/01/12' '20/05/12' '27/11/13' '05/08/13'\n",
      " '11/05/13' '08/10/12' '30/11/12' '18/04/12' '19/04/13' '17/04/12'\n",
      " '05/12/12' '01/08/12' '12/04/12' '29/02/12' '09/02/12' '10/11/13'\n",
      " '13/08/12' '17/03/12' '21/01/12' '16/12/13' '30/03/13' '22/11/12'\n",
      " '12/12/13' '17/12/13' '16/08/13' '02/01/12' '05/05/12' '08/02/13'\n",
      " '26/04/13' '05/11/13' '30/08/13' '13/09/13' '04/08/12' '01/09/12'\n",
      " '10/06/13' '10/04/13' '06/06/13' '06/12/13' '29/01/12' '19/09/12'\n",
      " '03/09/13' '13/01/12' '25/04/12' '10/01/12' '09/04/12' '20/06/13'\n",
      " '27/12/12' '18/07/13' '19/11/12' '17/10/12' '16/05/12' '23/08/12'\n",
      " '06/02/12' '15/02/13' '22/01/12' '07/04/13' '25/09/13' '24/07/13'\n",
      " '18/06/13' '25/06/13' '20/03/12' '19/06/12' '10/04/12' '04/12/13'\n",
      " '01/02/13' '06/07/13' '03/05/12' '08/03/13' '20/08/13' '07/07/12'\n",
      " '20/09/12' '05/04/13' '15/09/12' '18/03/12' '16/01/12' '27/05/12'\n",
      " '03/04/13' '28/06/13' '03/12/12' '11/12/13' '31/05/13' '25/10/12'\n",
      " '23/07/13' '26/06/13' '03/03/12' '13/10/13' '25/02/12' '06/11/12'\n",
      " '16/10/13' '10/05/13' '29/08/12' '28/05/12' '19/04/12' '24/04/13'\n",
      " '31/08/12' '23/05/13' '19/08/12' '14/05/12' '17/09/12' '02/08/12'\n",
      " '18/02/12' '03/08/13' '10/01/13' '11/06/13' '02/03/12' '02/02/12'\n",
      " '06/08/12' '21/04/13' '21/09/13' '22/08/12' '31/08/13' '30/12/12'\n",
      " '12/10/13' '01/11/12' '17/06/12' '27/06/12' '20/10/12' '09/03/12'\n",
      " '05/10/12' '29/11/12' '23/10/12' '11/07/13' '11/03/12' '25/05/13'\n",
      " '07/03/13' '18/01/12' '21/07/13' '05/03/13' '02/07/13' '04/03/13'\n",
      " '24/04/12' '03/02/13' '22/11/13' '26/09/13' '07/02/12' '23/05/12'\n",
      " '15/05/13' '30/10/13' '18/08/12' '26/10/12' '08/06/12' '12/03/12'\n",
      " '21/02/13' '24/09/12' '14/06/12' '29/09/13' '14/06/13' '10/07/12'\n",
      " '04/11/13' '28/04/13' '06/02/13' '12/08/12' '01/04/12' '20/04/12'\n",
      " '10/05/12' '10/07/13' '26/08/13' '11/04/13' '02/07/12' '05/06/13'\n",
      " '16/08/12' '05/10/13' '01/01/13' '09/02/13' '17/06/13' '22/05/12'\n",
      " '26/11/12' '08/07/12' '15/12/12' '25/12/12' '10/09/13' '14/01/13'\n",
      " '17/08/12' '26/03/13' '12/01/12' '21/06/13' '16/04/12' '08/06/13'\n",
      " '03/06/12' '31/07/12' '06/09/12' '01/01/12' '05/01/12' '09/10/13'\n",
      " '07/11/13' '05/11/12' '18/05/13' '18/10/13' '15/08/12' '15/05/12'\n",
      " '29/04/12' '22/03/13' '04/04/13' '26/02/13' '23/03/12' '06/01/13'\n",
      " '03/06/13' '01/06/12' '24/09/13' '04/07/13' '02/04/13' '04/06/13'\n",
      " '02/05/12' '29/05/13' '14/12/13' '28/12/12' '05/04/12' '27/10/12'\n",
      " '22/03/12' '30/01/13' '26/12/13' '06/08/13' '10/02/13' '07/02/13'\n",
      " '03/09/12' '14/08/12' '11/07/12' '18/09/13' '25/07/13' '08/08/13'\n",
      " '29/11/13' '12/03/13' '29/01/13' '14/12/12' '25/10/13' '09/06/12'\n",
      " '03/11/13' '22/01/13' '14/10/13' '16/07/13' '13/04/13' '24/12/12'\n",
      " '22/07/13' '16/01/13' '27/02/13' '28/02/13' '18/12/13' '04/12/12'\n",
      " '11/05/12' '16/04/13' '24/12/13' '26/06/12' '04/09/13' '07/10/13'\n",
      " '03/12/13' '16/12/12' '21/09/12' '20/08/12' '31/01/13' '29/12/12'\n",
      " '25/06/12' '18/01/13' '30/09/13' '07/06/12' '01/03/13' '31/07/13'\n",
      " '06/09/13' '20/03/13' '31/03/12' '20/11/12' '11/11/12' '19/06/13'\n",
      " '13/07/12' '02/02/13' '15/01/12' '18/07/12' '28/08/13' '17/01/13'\n",
      " '09/10/12' '18/11/12' '12/04/13' '01/07/13' '15/06/13' '11/08/12'\n",
      " '07/05/12' '25/11/13' '11/09/13' '22/12/12' '10/10/13' '26/05/13'\n",
      " '18/03/13' '15/03/12' '23/11/13' '15/01/13' '21/05/12' '25/01/13'\n",
      " '02/08/13' '25/11/12' '04/01/13' '06/05/13' '08/07/13' '12/06/13'\n",
      " '25/08/12' '02/06/13' '08/04/12' '21/08/13' '02/05/13' '14/02/13'\n",
      " '23/10/13' '16/03/13' '25/01/12' '20/06/12' '23/09/13' '09/07/12'\n",
      " '19/11/13' '04/02/13' '29/06/12' '16/06/13' '21/08/12' '20/05/13'\n",
      " '24/01/13' '27/06/13' '02/09/13' '16/11/13' '11/02/13' '16/05/13'\n",
      " '14/10/12' '17/02/13' '12/11/13' '09/06/13' '09/05/13' '09/07/13'\n",
      " '05/07/13' '10/03/13' '11/10/12' '12/11/12' '27/05/13' '17/08/13'\n",
      " '19/05/13' '05/07/12' '20/07/13' '23/01/13' '19/03/13' '30/07/12'\n",
      " '17/11/13' '16/06/12' '20/12/13' '03/07/13' '03/10/13' '07/06/13'\n",
      " '05/06/12' '15/07/12' '06/07/12' '30/06/13' '02/12/12' '09/01/13'\n",
      " '29/10/13' '09/11/13' '05/03/12' '28/07/13' '01/12/13' '14/05/13'\n",
      " '30/09/12' '12/01/13' '30/10/12' '21/01/13' '06/11/13' '14/11/13'\n",
      " '16/02/13' '09/12/12' '24/05/13' '23/03/13' '29/12/13' '26/01/13'\n",
      " '28/09/13' '07/08/13' '25/03/13' '04/11/12' '28/09/12' '23/09/12'\n",
      " '27/03/13' '21/11/13' '06/03/13' '02/09/12' '13/01/13' '27/08/12'\n",
      " '13/11/13' '03/05/13' '02/01/13' '28/03/13' '12/05/13' '13/02/12'\n",
      " '25/04/13' '27/04/13' '24/06/12' '22/10/13' '12/09/13' '10/12/13'\n",
      " '22/05/13' '19/12/13' '26/11/13' '12/08/13' '22/09/13' '30/05/13'\n",
      " '28/10/12' '07/10/12' '20/09/13' '19/09/13' '19/01/13' '09/08/13'\n",
      " '24/05/12' '22/07/12' '05/08/12' '21/10/12' '26/12/12' '24/08/13'\n",
      " '07/09/13' '13/05/13' '13/12/13' '03/01/13' '21/03/13' '11/03/13'\n",
      " '11/11/13' '04/10/13' '28/05/13' '12/02/13' '17/11/12' '02/10/13'\n",
      " '13/07/13' '05/01/13' '19/10/13' '11/01/13' '15/09/13' '21/12/13'\n",
      " '26/10/13' '01/05/13' '01/08/13' '23/08/13' '20/10/13' '10/06/12'\n",
      " '14/08/13' '12/12/12' '30/07/13' '08/05/13' '04/06/12' '17/10/13'\n",
      " '07/12/13' '17/04/13' '02/11/13' '09/04/13' '23/12/12' '23/02/13'\n",
      " '15/10/13' '23/04/13' '08/04/13' '04/08/13' '27/10/13' '30/11/13'\n",
      " '09/09/13' '07/07/13' '25/08/13' '28/10/13' '29/07/13' '01/11/13'\n",
      " '02/12/13' '20/02/13' '04/05/13' '16/09/12' '15/07/13' '17/07/13'\n",
      " '15/11/13' '18/11/13' '06/04/13' '05/12/13' '26/08/12' '24/03/13'\n",
      " '24/11/13' '18/02/13' '17/09/13' '23/06/13' '17/05/13' '27/01/13'\n",
      " '29/04/13' '19/08/13' '14/09/13' '20/11/13' '15/08/13' '31/10/13'\n",
      " '08/09/13' '22/06/13' '31/03/13' '14/04/13' '21/05/13' '17/03/13'\n",
      " '15/12/13' '18/08/13' '24/02/13' '28/12/13' '30/12/13' '08/12/13'\n",
      " '22/12/13' '27/12/13' '20/01/13' '25/12/13' '31/12/13']\n",
      "-------------------------------------------\n",
      "Time\n"
     ]
    },
    {
     "name": "stdout",
     "output_type": "stream",
     "text": [
      "['13:20' '7:53' '16:00' ... '5:48' '4:12' '3:33']\n",
      "-------------------------------------------\n",
      "Local_Authority_(Highway)\n",
      "['E10000032' 'E09000026' 'E10000016' 'E08000035' 'E10000031' 'W06000004'\n",
      " 'E06000049' 'S12000019' 'E06000050' 'E09000025' 'E06000048' 'E10000029'\n",
      " 'E06000046' 'E06000009' 'E10000034' 'E06000018' 'E09000016' 'E08000030'\n",
      " 'E09000012' 'E08000025' 'E10000009' 'S12000010' 'E08000012' 'E10000030'\n",
      " 'E09000028' 'E08000032' 'E06000024' 'E06000011' 'E06000022' 'E09000027'\n",
      " 'E06000040' 'S12000038' 'S12000035' 'E06000002' 'S12000006' 'E10000006'\n",
      " 'E09000007' 'E10000007' 'E06000047' 'E09000006' 'E08000022' 'E06000035'\n",
      " 'E06000023' 'E08000014' 'E06000055' 'E09000031' 'W06000002' 'W06000009'\n",
      " 'E10000015' 'E08000036' 'E10000024' 'E06000030' 'S12000041' 'E06000054'\n",
      " 'E09000020' 'E10000013' 'E06000014' 'E06000013' 'E09000008' 'E08000015'\n",
      " 'E06000034' 'E08000019' 'W06000014' 'E06000043' 'E08000009' 'E10000008'\n",
      " 'S12000018' 'E10000023' 'E10000012' 'E10000021' 'E08000017' 'E08000021'\n",
      " 'W06000011' 'E09000013' 'E06000039' 'E09000003' 'E06000005' 'E09000010'\n",
      " 'E10000018' 'E09000009' 'E09000022' 'E06000033' 'E08000001' 'E08000020'\n",
      " 'E10000002' 'E10000017' 'E10000011' 'E09000032' 'E08000010' 'S12000036'\n",
      " 'S12000024' 'W06000010' 'W06000023' 'E06000038' 'E09000002' 'E10000027'\n",
      " 'E09000021' 'E10000014' 'E06000001' 'E06000015' 'E08000007' 'E08000024'\n",
      " 'E10000028' 'E06000036' 'E08000026' 'S12000015' 'E08000011' 'E08000033'\n",
      " 'S12000043' 'E06000052' 'E08000018' 'E09000015' 'E08000023' 'S12000029'\n",
      " 'W06000001' 'E08000003' 'E09000014' 'S12000020' 'E10000020' 'E10000025'\n",
      " 'E09000019' 'S12000040' 'W06000006' 'W06000005' 'E09000033' 'E06000004'\n",
      " 'E09000023' 'E09000029' 'W06000022' 'S12000028' 'S12000017' 'E06000021'\n",
      " 'E09000001' 'E06000042' 'S12000021' 'E06000029' 'E10000019' 'E08000027'\n",
      " 'S12000027' 'E06000026' 'E08000006' 'E06000010' 'E08000016' 'E06000016'\n",
      " 'S12000042' 'S12000030' 'E09000030' 'E09000004' 'E06000051' 'E10000003'\n",
      " 'S12000044' 'E06000012' 'E06000031' 'E08000031' 'W06000018' 'E06000007'\n",
      " 'S12000009' 'S12000014' 'E08000004' 'E06000037' 'E08000013' 'E09000011'\n",
      " 'S12000033' 'E06000056' 'E09000005' 'E06000025' 'W06000016' 'E08000029'\n",
      " 'E09000017' 'E08000008' 'E06000027' 'E08000034' 'W06000013' 'S12000034'\n",
      " 'S12000011' 'E06000041' 'E06000020' 'W06000024' 'E06000045' 'E06000032'\n",
      " 'E09000018' 'W06000003' 'E09000024' 'W06000008' 'W06000012' 'W06000021'\n",
      " 'S12000026' 'E06000028' 'S12000008' 'E06000017' 'E08000002' 'E06000006'\n",
      " 'E08000005' 'E06000044' 'E06000003' 'E06000019' 'E08000028' 'S12000039'\n",
      " 'W06000015' 'S12000005' 'EHEATHROW' 'E06000008' 'W06000019' 'S12000013'\n",
      " 'S12000023' 'W06000020' 'E06000053']\n",
      "-------------------------------------------\n",
      "Road_Type\n",
      "['Single carriageway' 'One way street' 'Roundabout' 'Dual carriageway'\n",
      " 'Slip road' 'Unknown']\n",
      "-------------------------------------------\n",
      "Pedestrian_Crossing-Human_Control\n",
      "['None within 50 metres' 'Control by other authorised person'\n",
      " 'Control by school crossing patrol']\n",
      "-------------------------------------------\n",
      "Pedestrian_Crossing-Physical_Facilities\n",
      "['No physical crossing within 50 meters' 'Zebra crossing'\n",
      " 'Pedestrian phase at traffic signal junction'\n",
      " 'non-junction pedestrian crossing' 'Central refuge'\n",
      " 'Footbridge or subway']\n",
      "-------------------------------------------\n",
      "Light_Conditions\n",
      "['Daylight: Street light present' 'Darkness: Street lighting unknown'\n",
      " 'Darkness: Street lights present and lit' 'Darkeness: No street lighting'\n",
      " 'Darkness: Street lights present but unlit']\n",
      "-------------------------------------------\n",
      "Weather_Conditions\n",
      "['Fine without high winds' 'Raining without high winds'\n",
      " 'Snowing without high winds' 'Fine with high winds'\n",
      " 'Raining with high winds' 'Unknown' 'Other' 'Snowing with high winds'\n",
      " 'Fog or mist']\n",
      "-------------------------------------------\n",
      "Road_Surface_Conditions\n",
      "['Dry' 'Wet/Damp' 'Frost/Ice' 'Snow' nan 'Flood (Over 3cm of water)']\n",
      "-------------------------------------------\n",
      "Special_Conditions_at_Site\n",
      "['Ol or diesel' 'None' 'Roadworks' 'Mud'\n",
      " 'Permanent sign or marking defective or obscured'\n",
      " 'Road surface defective' 'Auto traffic singal out'\n",
      " 'Auto traffic signal partly defective' nan]\n",
      "-------------------------------------------\n",
      "Carriageway_Hazards\n",
      "['None' 'Any animal (except a ridden horse)' 'Other object in carriageway'\n",
      " 'Involvement with previous accident'\n",
      " 'Pedestrian in carriageway (not injured)'\n",
      " 'Dislodged vehicle load in carriageway']\n",
      "-------------------------------------------\n",
      "Did_Police_Officer_Attend_Scene_of_Accident\n",
      "['Yes' 'No']\n",
      "-------------------------------------------\n",
      "state\n",
      "['England' 'Alba / Scotland' 'Cymru / Wales']\n",
      "-------------------------------------------\n",
      "postcode\n",
      "['OX3 9UP' 'S35 4EZ' 'BN21 2XR' ... 'LE13 0PB' 'CF35 6EE' 'RM11 1JU']\n",
      "-------------------------------------------\n",
      "country\n",
      "['United Kingdom']\n",
      "-------------------------------------------\n"
     ]
    }
   ],
   "source": [
    "# All the unique classes in each categorical variables\n",
    "for i in df1.select_dtypes(include='object').columns:\n",
    "    print(f'{i}')\n",
    "    print(df1[i].unique())\n",
    "    print('-------------------------------------------')"
   ]
  },
  {
   "cell_type": "markdown",
   "id": "6ad49052",
   "metadata": {},
   "source": [
    "# **Data Disctionary for Categorical variables**\n",
    "* **DATE**: Not so sure on what to do with Date.\n",
    "* **TIME**: There is 1368 unique time so it can be saperated into categories but will take a lot of time.\n",
    "* **Local_Authority_(Highway)**: Local Authority that can enact traffic rules. (Different state wise)\n",
    "    * **'EHEATHROW'**: Hearthrow is an airport in England. https://www.google.com/search?client=firefox-b-d&q=EHEATHROW\n",
    "    * **'W06000020'**: This is Torfaen is a county(Guessing similar to a state but not a state since there are three states given in the data) in Wales. https://en.wikipedia.org/wiki/Torfaen\n",
    "    * E in the data is for England and S is for Scotland\n",
    "* **Road_Type**:  Carriageway stands for highway. single carriageway is two lane highway. Roundabout is circle. Dual Carriageway is 4 lane highway. Slip Road is service road.\n",
    "* **Pedestrian_Crossing-Human_Control**: A form of pedestrian crossing that gives priority to pedestrians or cycles crossing a road. Controlled crossings should be contrasted with a uncontrolled crossings, which do not give priority to pedestrians, and which typically take the form of subtle road markings, sometimes combined with a central refuge. https://www.cycling-embassy.org.uk/dictionary/controlled-crossing\n",
    "    * **'None within 50 metres'**: I am guessing none within 50 meters of accident took place.\n",
    "    * **'Control by other authorised person'**: 'Control by school crossing patrol' Controlled by someone\n",
    "* **Pedestrian_Crossing-Physical_Facilities**: Physical facilities available for pedestrain\n",
    "    * **No physical crossing within 50 meters**: None within 50 meters of accident (guess)\n",
    "    * **Zebra crossing**: zebra crossing\n",
    "    * **Pedestrian phase at traffic signal junction**: Traffic signal for pedestrian\n",
    "    * **non-junction pedestrian crossing**: A type of pedestrain crossing\n",
    "    * **Central refuge**: A stop where pedestrain can stop before finishing to cross the road\n",
    "    * **Footbridge or subway**: a bridge or underground tunnel for pedestrain\n",
    "* **Light_Conditions**: Light condition during accident\n",
    "    * **Daylight: Street light present**: daylight and street light also present\n",
    "    * **Darkness: Street lighting unknown**: Unknown condition\n",
    "    * **Darkness: Street lights present and lit**: Present and lit during accident\n",
    "    * **Darkeness: No street lighting**: Absence of street light\n",
    "    * **Darkness: Street lights present but unlit**: Not lit street light\n",
    "* **Weather_Conditions**: Wheather conditions during accident\n",
    "* **Carriageway_Hazards**: Different Hazards on the highways\n",
    "    * **Any animal (except a ridden horse)**: Animal on road expect a horse\n",
    "    * **Pedestrian in carriageway (not injured)**: A pedestrian on the road\n",
    "    * **Dislodged vehicle load in carriageway**: Vehicle load on highway (what kind of load is debatable)\n",
    "    * **Involvement with previous accident**: Not sure what it says\n",
    "* **state**:\n",
    "    * Alba / Scotland: Alba is another name for Scotland\n",
    "    * Cymru / Wales: Cymru is another name for Wales"
   ]
  },
  {
   "cell_type": "code",
   "execution_count": 19,
   "id": "d3899ca2",
   "metadata": {},
   "outputs": [
    {
     "data": {
      "text/plain": [
       "{'Date': 731,\n",
       " 'Time': 1380,\n",
       " 'Local_Authority_(Highway)': 207,\n",
       " 'Road_Type': 6,\n",
       " 'Pedestrian_Crossing-Human_Control': 3,\n",
       " 'Pedestrian_Crossing-Physical_Facilities': 6,\n",
       " 'Light_Conditions': 5,\n",
       " 'Weather_Conditions': 9,\n",
       " 'Road_Surface_Conditions': 6,\n",
       " 'Special_Conditions_at_Site': 9,\n",
       " 'Carriageway_Hazards': 6,\n",
       " 'Did_Police_Officer_Attend_Scene_of_Accident': 2,\n",
       " 'state': 3,\n",
       " 'postcode': 99689,\n",
       " 'country': 1}"
      ]
     },
     "execution_count": 19,
     "metadata": {},
     "output_type": "execute_result"
    }
   ],
   "source": [
    "cat_unique_len"
   ]
  },
  {
   "cell_type": "markdown",
   "id": "5cfe835b",
   "metadata": {},
   "source": [
    "## Treating Null Values"
   ]
  },
  {
   "cell_type": "code",
   "execution_count": 20,
   "id": "fa8aa64b",
   "metadata": {
    "scrolled": true
   },
   "outputs": [
    {
     "data": {
      "text/plain": [
       "Time                           15\n",
       "Road_Surface_Conditions       491\n",
       "Special_Conditions_at_Site     73\n",
       "dtype: int64"
      ]
     },
     "execution_count": 20,
     "metadata": {},
     "output_type": "execute_result"
    }
   ],
   "source": [
    "df1.isnull().sum()[df1.isnull().sum()!=0]"
   ]
  },
  {
   "cell_type": "markdown",
   "id": "a2297951",
   "metadata": {},
   "source": [
    "### Road_Surface_Conditions"
   ]
  },
  {
   "cell_type": "code",
   "execution_count": 21,
   "id": "b6bd6f3f",
   "metadata": {},
   "outputs": [
    {
     "data": {
      "text/plain": [
       "array(['Dry', 'Wet/Damp', 'Frost/Ice', 'Snow', nan,\n",
       "       'Flood (Over 3cm of water)'], dtype=object)"
      ]
     },
     "execution_count": 21,
     "metadata": {},
     "output_type": "execute_result"
    }
   ],
   "source": [
    "df1['Road_Surface_Conditions'].unique()"
   ]
  },
  {
   "cell_type": "code",
   "execution_count": 22,
   "id": "50d909df",
   "metadata": {},
   "outputs": [
    {
     "data": {
      "text/plain": [
       "Dry                          74.696500\n",
       "Wet/Damp                     20.143333\n",
       "Frost/Ice                     3.414333\n",
       "Snow                          1.647833\n",
       "Flood (Over 3cm of water)     0.016167\n",
       "Name: Road_Surface_Conditions, dtype: float64"
      ]
     },
     "execution_count": 22,
     "metadata": {},
     "output_type": "execute_result"
    }
   ],
   "source": [
    "df1['Road_Surface_Conditions'].value_counts()/len(df1)*100\n",
    "# Remove flood, Snow, Frost/ice"
   ]
  },
  {
   "cell_type": "code",
   "execution_count": 23,
   "id": "02553063",
   "metadata": {},
   "outputs": [
    {
     "data": {
      "text/plain": [
       "9887"
      ]
     },
     "execution_count": 23,
     "metadata": {},
     "output_type": "execute_result"
    }
   ],
   "source": [
    "len(df1[(df1['Road_Surface_Conditions'] == 'Snow')])"
   ]
  },
  {
   "cell_type": "code",
   "execution_count": 24,
   "id": "8487ea10",
   "metadata": {},
   "outputs": [],
   "source": [
    "df1.drop(df1[(df1['Road_Surface_Conditions'] == 'Snow')].index,inplace = True)"
   ]
  },
  {
   "cell_type": "code",
   "execution_count": 25,
   "id": "96059932",
   "metadata": {},
   "outputs": [
    {
     "data": {
      "text/plain": [
       "97"
      ]
     },
     "execution_count": 25,
     "metadata": {},
     "output_type": "execute_result"
    }
   ],
   "source": [
    "len(df1[(df1['Road_Surface_Conditions'] == 'Flood (Over 3cm of water)')])"
   ]
  },
  {
   "cell_type": "code",
   "execution_count": 26,
   "id": "02907cfd",
   "metadata": {},
   "outputs": [],
   "source": [
    "df1.drop(df1[(df1['Road_Surface_Conditions'] == 'Flood (Over 3cm of water)')].index, inplace = True)"
   ]
  },
  {
   "cell_type": "code",
   "execution_count": 27,
   "id": "9157e4d1",
   "metadata": {},
   "outputs": [
    {
     "data": {
      "text/plain": [
       "20486"
      ]
     },
     "execution_count": 27,
     "metadata": {},
     "output_type": "execute_result"
    }
   ],
   "source": [
    "len(df1[(df1['Road_Surface_Conditions'] == 'Frost/Ice')])"
   ]
  },
  {
   "cell_type": "code",
   "execution_count": 28,
   "id": "ed0e7734",
   "metadata": {},
   "outputs": [],
   "source": [
    "df1.drop(df1[(df1['Road_Surface_Conditions'] == 'Frost/Ice')].index, inplace = True)"
   ]
  },
  {
   "cell_type": "code",
   "execution_count": 29,
   "id": "22a1e845",
   "metadata": {},
   "outputs": [
    {
     "data": {
      "text/plain": [
       "Dry         78.692782\n",
       "Wet/Damp    21.221007\n",
       "Name: Road_Surface_Conditions, dtype: float64"
      ]
     },
     "execution_count": 29,
     "metadata": {},
     "output_type": "execute_result"
    }
   ],
   "source": [
    "df1['Road_Surface_Conditions'].value_counts()/len(df1)*100"
   ]
  },
  {
   "cell_type": "code",
   "execution_count": 30,
   "id": "15f7d148",
   "metadata": {},
   "outputs": [],
   "source": [
    "# Road_Surface_Conditions\n",
    "df1['Road_Surface_Conditions'].fillna(df1['Road_Surface_Conditions'].mode()[0],inplace=True)"
   ]
  },
  {
   "cell_type": "markdown",
   "id": "1f6401d1",
   "metadata": {},
   "source": [
    "### Time"
   ]
  },
  {
   "cell_type": "code",
   "execution_count": 31,
   "id": "5b9bc29c",
   "metadata": {},
   "outputs": [
    {
     "data": {
      "text/plain": [
       "0    16:00\n",
       "Name: Time, dtype: object"
      ]
     },
     "execution_count": 31,
     "metadata": {},
     "output_type": "execute_result"
    }
   ],
   "source": [
    "df1.Time.mode()"
   ]
  },
  {
   "cell_type": "code",
   "execution_count": 32,
   "id": "a3685e2f",
   "metadata": {},
   "outputs": [],
   "source": [
    "df1.Time.fillna(df1.Time.mode()[0], inplace = True)"
   ]
  },
  {
   "cell_type": "markdown",
   "id": "eb289398",
   "metadata": {},
   "source": [
    "### Special_Conditions_at_Site"
   ]
  },
  {
   "cell_type": "code",
   "execution_count": 33,
   "id": "f53869b0",
   "metadata": {
    "scrolled": true
   },
   "outputs": [
    {
     "data": {
      "text/plain": [
       "None                                               89.302934\n",
       "Roadworks                                           9.638649\n",
       "Ol or diesel                                        0.252840\n",
       "Road surface defective                              0.241954\n",
       "Mud                                                 0.195775\n",
       "Auto traffic singal out                             0.171721\n",
       "Permanent sign or marking defective or obscured     0.131863\n",
       "Auto traffic signal partly defective                0.053026\n",
       "Name: Special_Conditions_at_Site, dtype: float64"
      ]
     },
     "execution_count": 33,
     "metadata": {},
     "output_type": "execute_result"
    }
   ],
   "source": [
    "df1['Special_Conditions_at_Site'].value_counts()/len(df1)*100"
   ]
  },
  {
   "cell_type": "code",
   "execution_count": 34,
   "id": "c60f944d",
   "metadata": {},
   "outputs": [],
   "source": [
    "df1.drop(df1[df1['Special_Conditions_at_Site'] == 'Ol or diesel'].index, inplace = True)"
   ]
  },
  {
   "cell_type": "code",
   "execution_count": 35,
   "id": "d938e7ce",
   "metadata": {},
   "outputs": [],
   "source": [
    "df1.drop(df1[df1['Special_Conditions_at_Site'] == 'Road surface defective'].index, inplace = True)"
   ]
  },
  {
   "cell_type": "code",
   "execution_count": 36,
   "id": "54890f9a",
   "metadata": {},
   "outputs": [],
   "source": [
    "df1.drop(df1[df1['Special_Conditions_at_Site'] == 'Mud'].index, inplace = True)"
   ]
  },
  {
   "cell_type": "code",
   "execution_count": 37,
   "id": "aa5ec341",
   "metadata": {},
   "outputs": [],
   "source": [
    "df1.drop(df1[df1['Special_Conditions_at_Site'] == 'Auto traffic singal out'].index, inplace = True)"
   ]
  },
  {
   "cell_type": "code",
   "execution_count": 38,
   "id": "aa9b43ed",
   "metadata": {},
   "outputs": [],
   "source": [
    "df1.drop(df1[df1['Special_Conditions_at_Site'] == 'Permanent sign or marking defective or obscured'].index, inplace = True)"
   ]
  },
  {
   "cell_type": "code",
   "execution_count": 39,
   "id": "dd097a60",
   "metadata": {},
   "outputs": [],
   "source": [
    "df1.drop(df1[df1['Special_Conditions_at_Site'] == 'Auto traffic signal partly defective'].index, inplace = True)"
   ]
  },
  {
   "cell_type": "code",
   "execution_count": 40,
   "id": "5922c924",
   "metadata": {},
   "outputs": [
    {
     "data": {
      "text/plain": [
       "None         90.247992\n",
       "Roadworks     9.740651\n",
       "Name: Special_Conditions_at_Site, dtype: float64"
      ]
     },
     "execution_count": 40,
     "metadata": {},
     "output_type": "execute_result"
    }
   ],
   "source": [
    "df1['Special_Conditions_at_Site'].value_counts()/len(df1)*100"
   ]
  },
  {
   "cell_type": "code",
   "execution_count": 41,
   "id": "d0674b72",
   "metadata": {},
   "outputs": [
    {
     "data": {
      "text/plain": [
       "0    None\n",
       "Name: Special_Conditions_at_Site, dtype: object"
      ]
     },
     "execution_count": 41,
     "metadata": {},
     "output_type": "execute_result"
    }
   ],
   "source": [
    "df1['Special_Conditions_at_Site'].mode()"
   ]
  },
  {
   "cell_type": "code",
   "execution_count": 42,
   "id": "ffc35d2a",
   "metadata": {},
   "outputs": [],
   "source": [
    "# Special_Conditions_at_Site\n",
    "df1['Special_Conditions_at_Site'].fillna('None',inplace=True)"
   ]
  },
  {
   "cell_type": "code",
   "execution_count": 43,
   "id": "384fbb5c",
   "metadata": {},
   "outputs": [
    {
     "data": {
      "text/plain": [
       "Series([], dtype: int64)"
      ]
     },
     "execution_count": 43,
     "metadata": {},
     "output_type": "execute_result"
    }
   ],
   "source": [
    "df1.isnull().sum()[df1.isnull().sum()!=0]"
   ]
  },
  {
   "cell_type": "code",
   "execution_count": 44,
   "id": "807ab4e5",
   "metadata": {},
   "outputs": [
    {
     "data": {
      "text/plain": [
       "(563566, 27)"
      ]
     },
     "execution_count": 44,
     "metadata": {},
     "output_type": "execute_result"
    }
   ],
   "source": [
    "df1.shape"
   ]
  },
  {
   "cell_type": "markdown",
   "id": "f6cc29d0",
   "metadata": {},
   "source": [
    "# <font color='purple'> Understanding Numerical variables"
   ]
  },
  {
   "cell_type": "code",
   "execution_count": 45,
   "id": "68a0639f",
   "metadata": {},
   "outputs": [],
   "source": [
    "# List of numerical features\n",
    "num = list(df1.select_dtypes(include=np.number).columns)"
   ]
  },
  {
   "cell_type": "code",
   "execution_count": 46,
   "id": "a625bf15",
   "metadata": {
    "scrolled": true
   },
   "outputs": [
    {
     "data": {
      "text/plain": [
       "array([  13,    8,   24, ..., 9216, 6088, 6981], dtype=int64)"
      ]
     },
     "execution_count": 46,
     "metadata": {},
     "output_type": "execute_result"
    }
   ],
   "source": [
    "df1['1st_Road_Number'].unique()"
   ]
  },
  {
   "cell_type": "code",
   "execution_count": 47,
   "id": "5a84d152",
   "metadata": {
    "scrolled": true
   },
   "outputs": [
    {
     "data": {
      "text/html": [
       "<div>\n",
       "<style scoped>\n",
       "    .dataframe tbody tr th:only-of-type {\n",
       "        vertical-align: middle;\n",
       "    }\n",
       "\n",
       "    .dataframe tbody tr th {\n",
       "        vertical-align: top;\n",
       "    }\n",
       "\n",
       "    .dataframe thead th {\n",
       "        text-align: right;\n",
       "    }\n",
       "</style>\n",
       "<table border=\"1\" class=\"dataframe\">\n",
       "  <thead>\n",
       "    <tr style=\"text-align: right;\">\n",
       "      <th></th>\n",
       "      <th>Police_Force</th>\n",
       "      <th>Number_of_Vehicles</th>\n",
       "      <th>Number_of_Casualties</th>\n",
       "      <th>Day_of_Week</th>\n",
       "      <th>Local_Authority_(District)</th>\n",
       "      <th>1st_Road_Class</th>\n",
       "      <th>1st_Road_Number</th>\n",
       "      <th>Speed_limit</th>\n",
       "      <th>2nd_Road_Class</th>\n",
       "      <th>2nd_Road_Number</th>\n",
       "      <th>Urban_or_Rural_Area</th>\n",
       "      <th>Accident_Risk_Index</th>\n",
       "    </tr>\n",
       "    <tr>\n",
       "      <th>Accident_ID</th>\n",
       "      <th></th>\n",
       "      <th></th>\n",
       "      <th></th>\n",
       "      <th></th>\n",
       "      <th></th>\n",
       "      <th></th>\n",
       "      <th></th>\n",
       "      <th></th>\n",
       "      <th></th>\n",
       "      <th></th>\n",
       "      <th></th>\n",
       "      <th></th>\n",
       "    </tr>\n",
       "  </thead>\n",
       "  <tbody>\n",
       "    <tr>\n",
       "      <th>2</th>\n",
       "      <td>5</td>\n",
       "      <td>2</td>\n",
       "      <td>1</td>\n",
       "      <td>4</td>\n",
       "      <td>102</td>\n",
       "      <td>3</td>\n",
       "      <td>13</td>\n",
       "      <td>30</td>\n",
       "      <td>-1</td>\n",
       "      <td>0</td>\n",
       "      <td>1</td>\n",
       "      <td>0.33</td>\n",
       "    </tr>\n",
       "    <tr>\n",
       "      <th>3</th>\n",
       "      <td>1</td>\n",
       "      <td>2</td>\n",
       "      <td>1</td>\n",
       "      <td>4</td>\n",
       "      <td>531</td>\n",
       "      <td>6</td>\n",
       "      <td>8</td>\n",
       "      <td>40</td>\n",
       "      <td>6</td>\n",
       "      <td>0</td>\n",
       "      <td>1</td>\n",
       "      <td>1.14</td>\n",
       "    </tr>\n",
       "    <tr>\n",
       "      <th>4</th>\n",
       "      <td>1</td>\n",
       "      <td>1</td>\n",
       "      <td>1</td>\n",
       "      <td>1</td>\n",
       "      <td>7</td>\n",
       "      <td>6</td>\n",
       "      <td>13</td>\n",
       "      <td>30</td>\n",
       "      <td>6</td>\n",
       "      <td>0</td>\n",
       "      <td>1</td>\n",
       "      <td>1.67</td>\n",
       "    </tr>\n",
       "    <tr>\n",
       "      <th>5</th>\n",
       "      <td>46</td>\n",
       "      <td>1</td>\n",
       "      <td>1</td>\n",
       "      <td>3</td>\n",
       "      <td>519</td>\n",
       "      <td>3</td>\n",
       "      <td>24</td>\n",
       "      <td>30</td>\n",
       "      <td>6</td>\n",
       "      <td>0</td>\n",
       "      <td>1</td>\n",
       "      <td>0.75</td>\n",
       "    </tr>\n",
       "    <tr>\n",
       "      <th>6</th>\n",
       "      <td>44</td>\n",
       "      <td>2</td>\n",
       "      <td>1</td>\n",
       "      <td>1</td>\n",
       "      <td>638</td>\n",
       "      <td>6</td>\n",
       "      <td>1</td>\n",
       "      <td>30</td>\n",
       "      <td>6</td>\n",
       "      <td>0</td>\n",
       "      <td>1</td>\n",
       "      <td>0.33</td>\n",
       "    </tr>\n",
       "    <tr>\n",
       "      <th>...</th>\n",
       "      <td>...</td>\n",
       "      <td>...</td>\n",
       "      <td>...</td>\n",
       "      <td>...</td>\n",
       "      <td>...</td>\n",
       "      <td>...</td>\n",
       "      <td>...</td>\n",
       "      <td>...</td>\n",
       "      <td>...</td>\n",
       "      <td>...</td>\n",
       "      <td>...</td>\n",
       "      <td>...</td>\n",
       "    </tr>\n",
       "    <tr>\n",
       "      <th>599996</th>\n",
       "      <td>13</td>\n",
       "      <td>2</td>\n",
       "      <td>1</td>\n",
       "      <td>4</td>\n",
       "      <td>211</td>\n",
       "      <td>6</td>\n",
       "      <td>1293</td>\n",
       "      <td>30</td>\n",
       "      <td>-1</td>\n",
       "      <td>0</td>\n",
       "      <td>1</td>\n",
       "      <td>1.17</td>\n",
       "    </tr>\n",
       "    <tr>\n",
       "      <th>599997</th>\n",
       "      <td>6</td>\n",
       "      <td>2</td>\n",
       "      <td>4</td>\n",
       "      <td>6</td>\n",
       "      <td>80</td>\n",
       "      <td>3</td>\n",
       "      <td>310</td>\n",
       "      <td>30</td>\n",
       "      <td>-1</td>\n",
       "      <td>0</td>\n",
       "      <td>1</td>\n",
       "      <td>1.79</td>\n",
       "    </tr>\n",
       "    <tr>\n",
       "      <th>599998</th>\n",
       "      <td>33</td>\n",
       "      <td>2</td>\n",
       "      <td>1</td>\n",
       "      <td>2</td>\n",
       "      <td>321</td>\n",
       "      <td>3</td>\n",
       "      <td>3283</td>\n",
       "      <td>30</td>\n",
       "      <td>5</td>\n",
       "      <td>0</td>\n",
       "      <td>2</td>\n",
       "      <td>1.56</td>\n",
       "    </tr>\n",
       "    <tr>\n",
       "      <th>599999</th>\n",
       "      <td>1</td>\n",
       "      <td>2</td>\n",
       "      <td>1</td>\n",
       "      <td>6</td>\n",
       "      <td>23</td>\n",
       "      <td>4</td>\n",
       "      <td>9</td>\n",
       "      <td>30</td>\n",
       "      <td>6</td>\n",
       "      <td>0</td>\n",
       "      <td>1</td>\n",
       "      <td>1.25</td>\n",
       "    </tr>\n",
       "    <tr>\n",
       "      <th>600000</th>\n",
       "      <td>1</td>\n",
       "      <td>2</td>\n",
       "      <td>0</td>\n",
       "      <td>2</td>\n",
       "      <td>22</td>\n",
       "      <td>5</td>\n",
       "      <td>13</td>\n",
       "      <td>30</td>\n",
       "      <td>6</td>\n",
       "      <td>0</td>\n",
       "      <td>1</td>\n",
       "      <td>0.80</td>\n",
       "    </tr>\n",
       "  </tbody>\n",
       "</table>\n",
       "<p>563566 rows × 12 columns</p>\n",
       "</div>"
      ],
      "text/plain": [
       "             Police_Force  Number_of_Vehicles  Number_of_Casualties  \\\n",
       "Accident_ID                                                           \n",
       "2                       5                   2                     1   \n",
       "3                       1                   2                     1   \n",
       "4                       1                   1                     1   \n",
       "5                      46                   1                     1   \n",
       "6                      44                   2                     1   \n",
       "...                   ...                 ...                   ...   \n",
       "599996                 13                   2                     1   \n",
       "599997                  6                   2                     4   \n",
       "599998                 33                   2                     1   \n",
       "599999                  1                   2                     1   \n",
       "600000                  1                   2                     0   \n",
       "\n",
       "             Day_of_Week  Local_Authority_(District)  1st_Road_Class  \\\n",
       "Accident_ID                                                            \n",
       "2                      4                         102               3   \n",
       "3                      4                         531               6   \n",
       "4                      1                           7               6   \n",
       "5                      3                         519               3   \n",
       "6                      1                         638               6   \n",
       "...                  ...                         ...             ...   \n",
       "599996                 4                         211               6   \n",
       "599997                 6                          80               3   \n",
       "599998                 2                         321               3   \n",
       "599999                 6                          23               4   \n",
       "600000                 2                          22               5   \n",
       "\n",
       "             1st_Road_Number  Speed_limit  2nd_Road_Class  2nd_Road_Number  \\\n",
       "Accident_ID                                                                  \n",
       "2                         13           30              -1                0   \n",
       "3                          8           40               6                0   \n",
       "4                         13           30               6                0   \n",
       "5                         24           30               6                0   \n",
       "6                          1           30               6                0   \n",
       "...                      ...          ...             ...              ...   \n",
       "599996                  1293           30              -1                0   \n",
       "599997                   310           30              -1                0   \n",
       "599998                  3283           30               5                0   \n",
       "599999                     9           30               6                0   \n",
       "600000                    13           30               6                0   \n",
       "\n",
       "             Urban_or_Rural_Area  Accident_Risk_Index  \n",
       "Accident_ID                                            \n",
       "2                              1                 0.33  \n",
       "3                              1                 1.14  \n",
       "4                              1                 1.67  \n",
       "5                              1                 0.75  \n",
       "6                              1                 0.33  \n",
       "...                          ...                  ...  \n",
       "599996                         1                 1.17  \n",
       "599997                         1                 1.79  \n",
       "599998                         2                 1.56  \n",
       "599999                         1                 1.25  \n",
       "600000                         1                 0.80  \n",
       "\n",
       "[563566 rows x 12 columns]"
      ]
     },
     "execution_count": 47,
     "metadata": {},
     "output_type": "execute_result"
    }
   ],
   "source": [
    "df1[num]"
   ]
  },
  {
   "cell_type": "markdown",
   "id": "13ad8077",
   "metadata": {},
   "source": [
    "# Data Dictionary of Numerical columns\n",
    "* **Accident_ID**: Id of the accident\n",
    "* **Police_Force**: Number of police force deployed at the accident scene\n",
    "* **Number_of_Vehicles**: Number of vehicles involved in accident\n",
    "* **Number_of_Casualties**: Deaths in the accidents\n",
    "* **Day_of_Week**: Sunday,Monday,...etc\n",
    "* **Local_Authority_(District)**: Cannot decide based on state. It should be category and not numerical\n",
    "    * Can be differentiated based on England(east west..etc),Wales(east, west, etc..), Scotland(east, west, etc..)\n",
    "* **Speed_limit**: Speed limit on the road \n",
    "* **Urban_or_Rural_Area**: Type of area at which accident happened\n",
    "* **1st_Road_Class**: Different types of roads https://www.gov.uk/government/publications/guidance-on-road-classification-and-the-primary-route-network/guidance-on-road-classification-and-the-primary-route-network\n",
    "    * **1**: **Motorways** - \n",
    "    * **3**: **A roads** – major roads intended to provide large-scale transport links within or between areas\n",
    "    * **4**: **B roads** – roads intended to connect different areas, and to feed traffic between A roads and smaller roads on the network\n",
    "    * **5**: **classified unnumbered** – smaller roads intended to connect together unclassified roads with A and B roads, and often linking a housing estate or a village to the rest of the network. Similar to ‘minor roads’ on an Ordnance Survey map and sometimes known unofficially as **C roads**\n",
    "    * **6**: **unclassified** – local roads intended for local traffic. The vast majority (60%) of roads in the UK fall within this category\n",
    "* **1st_Road_Number**: Number of road\n",
    "* **2nd_Road_Class**: Types are same as 1st road class.\n",
    "* **2nd_Road_Number**: Number of road"
   ]
  },
  {
   "cell_type": "markdown",
   "id": "d2118fe4",
   "metadata": {},
   "source": [
    "### Police_Force"
   ]
  },
  {
   "cell_type": "code",
   "execution_count": 48,
   "id": "e43baca3",
   "metadata": {},
   "outputs": [
    {
     "data": {
      "text/plain": [
       "array([ 5,  1, 46, 44, 43, 42,  6,  7, 15, 13, 21, 12, 52, 96, 14, 22, 95,\n",
       "       11, 61, 53, 50, 93, 94, 34, 51, 63, 92, 32, 35, 36, 20,  4, 62, 16,\n",
       "       41, 33, 45, 47, 97, 10, 98, 23,  3, 49, 60, 31,  9, 17, 48, 54,  8,\n",
       "       37, 59, 40, 64, 55, 30, 19, 91, 38,  2, 29, 39, 56, 18, 24],\n",
       "      dtype=int64)"
      ]
     },
     "execution_count": 48,
     "metadata": {},
     "output_type": "execute_result"
    }
   ],
   "source": [
    "df1.Police_Force.unique()"
   ]
  },
  {
   "cell_type": "code",
   "execution_count": 49,
   "id": "12540dbe",
   "metadata": {},
   "outputs": [
    {
     "data": {
      "text/plain": [
       "(1, 98)"
      ]
     },
     "execution_count": 49,
     "metadata": {},
     "output_type": "execute_result"
    }
   ],
   "source": [
    "min(df1.Police_Force), max(df1.Police_Force)"
   ]
  },
  {
   "cell_type": "code",
   "execution_count": 50,
   "id": "4cd4ce8d",
   "metadata": {},
   "outputs": [],
   "source": [
    "# To bring it in range we need to do scaling"
   ]
  },
  {
   "cell_type": "markdown",
   "id": "1532978b",
   "metadata": {},
   "source": [
    "### Number_of_Vehicles"
   ]
  },
  {
   "cell_type": "code",
   "execution_count": 51,
   "id": "3d407906",
   "metadata": {},
   "outputs": [
    {
     "data": {
      "text/plain": [
       "array([2, 1, 3, 4], dtype=int64)"
      ]
     },
     "execution_count": 51,
     "metadata": {},
     "output_type": "execute_result"
    }
   ],
   "source": [
    "df1.Number_of_Vehicles.unique()"
   ]
  },
  {
   "cell_type": "code",
   "execution_count": 52,
   "id": "7c7123a8",
   "metadata": {},
   "outputs": [
    {
     "data": {
      "text/plain": [
       "2    62.428535\n",
       "1    30.991401\n",
       "3     5.239670\n",
       "4     1.340393\n",
       "Name: Number_of_Vehicles, dtype: float64"
      ]
     },
     "execution_count": 52,
     "metadata": {},
     "output_type": "execute_result"
    }
   ],
   "source": [
    "df1.Number_of_Vehicles.value_counts()/len(df1.Number_of_Vehicles)*100\n",
    "# remove 3,4"
   ]
  },
  {
   "cell_type": "code",
   "execution_count": 53,
   "id": "0f2402f6",
   "metadata": {},
   "outputs": [],
   "source": [
    "df1.drop(df1[df1.Number_of_Vehicles == 3].index, inplace = True)"
   ]
  },
  {
   "cell_type": "code",
   "execution_count": 54,
   "id": "47fd0886",
   "metadata": {},
   "outputs": [],
   "source": [
    "df1.drop(df1[df1.Number_of_Vehicles == 4].index, inplace = True)"
   ]
  },
  {
   "cell_type": "code",
   "execution_count": 55,
   "id": "0ea14de3",
   "metadata": {},
   "outputs": [
    {
     "data": {
      "text/plain": [
       "2    66.825709\n",
       "1    33.174291\n",
       "Name: Number_of_Vehicles, dtype: float64"
      ]
     },
     "execution_count": 55,
     "metadata": {},
     "output_type": "execute_result"
    }
   ],
   "source": [
    "df1.Number_of_Vehicles.value_counts()/len(df1.Number_of_Vehicles)*100"
   ]
  },
  {
   "cell_type": "markdown",
   "id": "2ca65646",
   "metadata": {},
   "source": [
    "### Number_of_Casualties"
   ]
  },
  {
   "cell_type": "code",
   "execution_count": 56,
   "id": "42faef58",
   "metadata": {},
   "outputs": [
    {
     "data": {
      "text/plain": [
       "array([1, 3, 0, 2, 4, 5], dtype=int64)"
      ]
     },
     "execution_count": 56,
     "metadata": {},
     "output_type": "execute_result"
    }
   ],
   "source": [
    "df1.Number_of_Casualties.unique()"
   ]
  },
  {
   "cell_type": "code",
   "execution_count": 57,
   "id": "7df23148",
   "metadata": {},
   "outputs": [
    {
     "data": {
      "text/plain": [
       "1    54.476403\n",
       "0    20.846637\n",
       "2    16.452573\n",
       "3     5.762009\n",
       "4     1.494445\n",
       "5     0.967932\n",
       "Name: Number_of_Casualties, dtype: float64"
      ]
     },
     "execution_count": 57,
     "metadata": {},
     "output_type": "execute_result"
    }
   ],
   "source": [
    "df1.Number_of_Casualties.value_counts()/len(df1.Number_of_Casualties)*100\n",
    "# Remove 3,4,5"
   ]
  },
  {
   "cell_type": "code",
   "execution_count": 58,
   "id": "ea39c8cc",
   "metadata": {},
   "outputs": [],
   "source": [
    "df1.drop(df1[df1.Number_of_Casualties == 3].index, inplace = True)"
   ]
  },
  {
   "cell_type": "code",
   "execution_count": 59,
   "id": "76293c93",
   "metadata": {},
   "outputs": [],
   "source": [
    "df1.drop(df1[df1.Number_of_Casualties == 4].index, inplace = True)"
   ]
  },
  {
   "cell_type": "code",
   "execution_count": 60,
   "id": "0ede03a9",
   "metadata": {},
   "outputs": [],
   "source": [
    "df1.drop(df1[df1.Number_of_Casualties == 5].index, inplace = True)"
   ]
  },
  {
   "cell_type": "code",
   "execution_count": 61,
   "id": "474a4066",
   "metadata": {},
   "outputs": [
    {
     "data": {
      "text/plain": [
       "1    59.358256\n",
       "0    22.714789\n",
       "2    17.926955\n",
       "Name: Number_of_Casualties, dtype: float64"
      ]
     },
     "execution_count": 61,
     "metadata": {},
     "output_type": "execute_result"
    }
   ],
   "source": [
    "df1.Number_of_Casualties.value_counts()/len(df1.Number_of_Casualties)*100"
   ]
  },
  {
   "cell_type": "markdown",
   "id": "3574062b",
   "metadata": {},
   "source": [
    "### Day_of_Week"
   ]
  },
  {
   "cell_type": "code",
   "execution_count": 62,
   "id": "f34224df",
   "metadata": {},
   "outputs": [
    {
     "data": {
      "text/plain": [
       "array([4, 1, 3, 2, 6, 5, 7], dtype=int64)"
      ]
     },
     "execution_count": 62,
     "metadata": {},
     "output_type": "execute_result"
    }
   ],
   "source": [
    "df1.Day_of_Week.unique()"
   ]
  },
  {
   "cell_type": "code",
   "execution_count": 63,
   "id": "3d390edb",
   "metadata": {},
   "outputs": [
    {
     "data": {
      "text/plain": [
       "6    20.077693\n",
       "3    19.761457\n",
       "7    15.811608\n",
       "5    14.567565\n",
       "2    12.264711\n",
       "4     9.373674\n",
       "1     8.143291\n",
       "Name: Day_of_Week, dtype: float64"
      ]
     },
     "execution_count": 63,
     "metadata": {},
     "output_type": "execute_result"
    }
   ],
   "source": [
    "df1.Day_of_Week.value_counts()/len(df1.Day_of_Week)*100"
   ]
  },
  {
   "cell_type": "markdown",
   "id": "1eee7347",
   "metadata": {},
   "source": [
    "### Local_Authority_(District)"
   ]
  },
  {
   "cell_type": "code",
   "execution_count": 64,
   "id": "9edb1475",
   "metadata": {
    "scrolled": true
   },
   "outputs": [
    {
     "data": {
      "text/plain": [
       "array([102, 531,   7, 519, 638, 502, 529,  95,  87, 521, 305, 218, 279,\n",
       "       157, 203,  26, 205, 155, 152, 939, 520,   6, 144, 325, 923,  81,\n",
       "        23, 908, 253,  27, 349, 299,   9, 503, 485, 479, 161, 755, 446,\n",
       "       933,  99, 141, 150, 283, 668, 644, 292, 137, 489, 647, 656,  22,\n",
       "       513, 649, 199, 523, 471, 494, 486, 309, 922,  80,  25, 318, 929,\n",
       "       497, 303,  91, 300, 634, 672,  24, 135,  20, 293,  71, 524, 715,\n",
       "       233, 643, 326, 345, 907,  92,  82, 201, 504,  21, 145, 678, 467,\n",
       "       930, 671, 684,  93, 200,  89,  18, 132,   1,  85, 331, 613, 306,\n",
       "       204, 532, 321, 525, 320, 198, 195, 322,  94, 686, 330,  83, 278,\n",
       "       898, 248, 553, 576, 208, 541, 505, 533, 659, 275, 352, 468,  98,\n",
       "        96, 534, 287, 498, 518, 343, 190, 271, 562, 924, 490, 558,  75,\n",
       "       491, 108,  10, 527, 590,   8, 193,  79, 353, 106,  12, 500, 528,\n",
       "       202, 560, 928, 544, 512, 333, 207, 214, 941, 611, 905, 192, 633,\n",
       "        28, 648, 517, 110, 539, 314, 690, 105, 932, 465, 310, 262, 206,\n",
       "       546, 100, 483, 657, 488, 708, 133, 342, 297, 698, 670, 487, 510,\n",
       "       453, 332, 925, 667, 495, 472, 496, 507, 294, 665, 143, 319, 120,\n",
       "       337, 603, 543,  97, 651, 516,  90, 920, 509, 522, 549, 474, 351,\n",
       "       927, 147, 340,  88, 146, 209, 443, 480, 328, 213,  30, 149, 255,\n",
       "       298,  86, 458, 323, 914, 338, 556, 506, 935, 101, 646, 669,  74,\n",
       "       470, 329, 136, 336, 542, 313, 530, 492, 501, 104, 545, 302, 153,\n",
       "       514, 936, 695, 301,  77, 258, 912, 312, 350, 538, 473, 211,   5,\n",
       "        70, 700, 535, 148, 267, 582, 455, 315, 296, 388, 290, 478,  11,\n",
       "       564, 499, 263, 721, 680, 256, 281, 484, 184, 142, 609, 134, 596,\n",
       "       236, 138, 346, 344,  19, 913, 482, 457, 641, 234, 658, 139, 536,\n",
       "       481, 308, 228, 584, 688, 572, 701, 459,  84, 475, 934,  14, 215,\n",
       "       563, 324, 151, 604, 327, 288, 188, 554, 601, 526, 216, 140, 317,\n",
       "       551, 197, 571,   4, 163, 575, 289, 339, 739, 156, 712, 751, 511,\n",
       "       674, 366, 580,  78, 186, 257, 363, 561, 937, 593, 158, 381, 360,\n",
       "       277, 154, 677, 466, 401, 212, 637, 515, 364, 557, 650, 906,  69,\n",
       "       566, 624, 452, 460, 269, 687, 130, 738, 550, 107, 918, 673,  68,\n",
       "       477, 411, 282, 348, 261, 285, 548, 103,   3, 461, 121, 926, 354,\n",
       "       938, 242, 750, 693,  13, 334, 356, 274, 704, 445, 762, 196, 718,\n",
       "       335, 642, 436, 904, 710, 304, 341, 766, 469, 628, 462, 311, 194,\n",
       "       627, 660, 117, 916, 273, 589, 394, 251, 915, 569, 620, 493, 635,\n",
       "       653, 921, 640, 588, 508, 931, 919, 463, 371, 903, 291, 210,  72,\n",
       "       683, 276, 707, 594, 547, 223,  15, 219, 221, 600, 681, 264, 785,\n",
       "       355, 476, 456, 911, 540, 451, 284, 719,  29, 632, 736, 692, 800,\n",
       "       552, 587, 249, 897, 567, 631, 382, 379, 464,  17, 295, 307, 127,\n",
       "       617, 128, 265, 899, 639, 109, 697, 626, 917, 694, 583, 696,  33,\n",
       "       661, 266, 735, 537, 691, 555, 605, 610, 623, 619, 910, 124, 573,\n",
       "       706, 568, 260, 783, 621, 679, 386,  16, 578, 280, 663, 259, 286,\n",
       "        76, 654, 119, 316, 439, 664, 131, 369, 761, 723, 222, 630, 252,\n",
       "       454, 893, 247, 565, 111, 586, 581, 717, 675, 720, 367, 384, 123,\n",
       "        65, 612, 559, 272, 733, 599, 685, 748, 375, 191, 159, 189, 250,\n",
       "       607, 618, 372, 112, 365, 449, 254, 434, 574, 359, 347, 577, 226,\n",
       "       129, 758, 714, 726, 614, 734, 220, 909, 585, 789, 374, 662, 716,\n",
       "       645, 764, 745, 171, 606, 370, 230, 240, 389, 268, 940, 433, 741,\n",
       "       655, 361, 448, 425, 270, 728, 160,  32, 727, 164, 724, 689, 357,\n",
       "       705, 217, 362, 769, 625, 902, 711,  73, 703, 749, 615, 782, 187,\n",
       "       636, 592, 740, 815, 358, 570, 713, 652, 892, 629, 598, 246, 579,\n",
       "       238, 224, 682, 237, 597, 447, 162, 811, 243, 757, 900, 901, 450,\n",
       "       702, 441, 591, 173, 438, 368, 760, 788, 616, 752, 232, 393, 122,\n",
       "       595, 744, 732, 729, 753, 795, 126, 699, 437, 225, 722, 622, 666,\n",
       "       387,  31, 780, 746, 730, 377, 747, 731, 244, 116, 799, 376, 754,\n",
       "       426, 113, 742, 442, 165, 725, 241, 235, 602,  67, 440, 776, 828,\n",
       "       676, 118, 743, 373, 407, 786, 737, 759, 125, 397, 229, 756, 398,\n",
       "       709, 427, 444, 383, 114, 771, 417, 166, 435, 770, 431, 390, 245,\n",
       "       416, 231, 894, 773, 239,   2, 115, 608, 772, 378, 415, 418, 392,\n",
       "       810, 765, 775, 409, 430, 380,  66, 405, 432, 399, 774, 886, 781,\n",
       "       424, 802, 767, 763, 385, 185, 779, 896, 421, 396, 891, 227, 428,\n",
       "       167, 890, 833, 885, 768, 423, 888, 391, 419, 400, 895, 801, 796,\n",
       "       422, 797, 404, 402, 793, 413, 414,  64, 874, 778, 790, 180, 889,\n",
       "        34, 849, 178, 784, 814, 787, 420, 408, 822,  62, 168, 395, 410,\n",
       "       170, 182,  36, 821, 805, 791, 887, 798, 808, 826, 181, 169, 834,\n",
       "       777, 829,  63, 403, 792, 429, 412, 835, 803, 804, 813, 839, 825,\n",
       "       844, 843, 827, 816, 853, 809, 818, 794, 824, 406, 807, 179, 183,\n",
       "        35, 823, 830, 172, 848, 859, 806, 817, 840, 838,  60, 174, 863,\n",
       "       819, 177, 812, 856,  61, 845, 881,  37], dtype=int64)"
      ]
     },
     "execution_count": 64,
     "metadata": {},
     "output_type": "execute_result"
    }
   ],
   "source": [
    "df1['Local_Authority_(District)'].unique()"
   ]
  },
  {
   "cell_type": "code",
   "execution_count": 65,
   "id": "7f02cd75",
   "metadata": {},
   "outputs": [
    {
     "data": {
      "text/plain": [
       "879"
      ]
     },
     "execution_count": 65,
     "metadata": {},
     "output_type": "execute_result"
    }
   ],
   "source": [
    "len(df1['Local_Authority_(District)'].unique())"
   ]
  },
  {
   "cell_type": "code",
   "execution_count": 66,
   "id": "bb7a5f13",
   "metadata": {},
   "outputs": [
    {
     "data": {
      "text/plain": [
       "(1, 941)"
      ]
     },
     "execution_count": 66,
     "metadata": {},
     "output_type": "execute_result"
    }
   ],
   "source": [
    "min(df1['Local_Authority_(District)'].unique()), max(df1['Local_Authority_(District)'].unique())"
   ]
  },
  {
   "cell_type": "markdown",
   "id": "587e9fb5",
   "metadata": {},
   "source": [
    "### 1st_Road_Class"
   ]
  },
  {
   "cell_type": "code",
   "execution_count": 67,
   "id": "cf360aa6",
   "metadata": {},
   "outputs": [
    {
     "data": {
      "text/plain": [
       "array([3, 6, 5, 4, 1], dtype=int64)"
      ]
     },
     "execution_count": 67,
     "metadata": {},
     "output_type": "execute_result"
    }
   ],
   "source": [
    "df1['1st_Road_Class'].unique()"
   ]
  },
  {
   "cell_type": "code",
   "execution_count": 68,
   "id": "65221990",
   "metadata": {},
   "outputs": [
    {
     "data": {
      "text/plain": [
       "6    36.658781\n",
       "3    31.582444\n",
       "4    16.818266\n",
       "5    13.181341\n",
       "1     1.759168\n",
       "Name: 1st_Road_Class, dtype: float64"
      ]
     },
     "execution_count": 68,
     "metadata": {},
     "output_type": "execute_result"
    }
   ],
   "source": [
    "df1['1st_Road_Class'].value_counts()/len(df1['1st_Road_Class'])*100\n",
    "# Remove 1"
   ]
  },
  {
   "cell_type": "code",
   "execution_count": 69,
   "id": "870074eb",
   "metadata": {},
   "outputs": [],
   "source": [
    "df1.drop(df1[df1['1st_Road_Class'] == 1].index, inplace = True)"
   ]
  },
  {
   "cell_type": "code",
   "execution_count": 70,
   "id": "d08cec3a",
   "metadata": {},
   "outputs": [
    {
     "data": {
      "text/plain": [
       "6    37.315219\n",
       "3    32.147981\n",
       "4    17.119425\n",
       "5    13.417375\n",
       "Name: 1st_Road_Class, dtype: float64"
      ]
     },
     "execution_count": 70,
     "metadata": {},
     "output_type": "execute_result"
    }
   ],
   "source": [
    "df1['1st_Road_Class'].value_counts()/len(df1['1st_Road_Class'])*100"
   ]
  },
  {
   "cell_type": "markdown",
   "id": "99154569",
   "metadata": {},
   "source": [
    "### 1st_Road_Number"
   ]
  },
  {
   "cell_type": "code",
   "execution_count": 71,
   "id": "f93ed766",
   "metadata": {},
   "outputs": [
    {
     "data": {
      "text/plain": [
       "array([  13,    8,   24, ..., 6088, 6981, 6071], dtype=int64)"
      ]
     },
     "execution_count": 71,
     "metadata": {},
     "output_type": "execute_result"
    }
   ],
   "source": [
    "df1['1st_Road_Number'].unique()"
   ]
  },
  {
   "cell_type": "code",
   "execution_count": 72,
   "id": "d0a05751",
   "metadata": {},
   "outputs": [
    {
     "data": {
      "text/plain": [
       "5476"
      ]
     },
     "execution_count": 72,
     "metadata": {},
     "output_type": "execute_result"
    }
   ],
   "source": [
    "len(df1['1st_Road_Number'].unique())"
   ]
  },
  {
   "cell_type": "markdown",
   "id": "c9a3c438",
   "metadata": {},
   "source": [
    "### Speed_limit"
   ]
  },
  {
   "cell_type": "code",
   "execution_count": 73,
   "id": "ccd3f20b",
   "metadata": {},
   "outputs": [
    {
     "data": {
      "text/plain": [
       "array([30, 40, 20, 60, 50, 70], dtype=int64)"
      ]
     },
     "execution_count": 73,
     "metadata": {},
     "output_type": "execute_result"
    }
   ],
   "source": [
    "df1.Speed_limit.unique()"
   ]
  },
  {
   "cell_type": "code",
   "execution_count": 74,
   "id": "e45250fc",
   "metadata": {},
   "outputs": [
    {
     "data": {
      "text/plain": [
       "30    75.282452\n",
       "60    11.497568\n",
       "40     6.226050\n",
       "20     2.416349\n",
       "70     2.330187\n",
       "50     2.247395\n",
       "Name: Speed_limit, dtype: float64"
      ]
     },
     "execution_count": 74,
     "metadata": {},
     "output_type": "execute_result"
    }
   ],
   "source": [
    "df1.Speed_limit.value_counts()/len(df1)*100\n",
    "# remove 70,20,50"
   ]
  },
  {
   "cell_type": "markdown",
   "id": "f99c0726",
   "metadata": {},
   "source": [
    "### 2nd_Road_Class"
   ]
  },
  {
   "cell_type": "code",
   "execution_count": 75,
   "id": "000f8b9f",
   "metadata": {},
   "outputs": [
    {
     "data": {
      "text/plain": [
       "array([-1,  6,  5,  3,  4], dtype=int64)"
      ]
     },
     "execution_count": 75,
     "metadata": {},
     "output_type": "execute_result"
    }
   ],
   "source": [
    "df1['2nd_Road_Class'].unique()\n",
    "# -1 will change to 1"
   ]
  },
  {
   "cell_type": "code",
   "execution_count": 76,
   "id": "bfb6fe9d",
   "metadata": {},
   "outputs": [],
   "source": [
    "df1['2nd_Road_Class'].replace({-1:1}, regex = True, inplace = True)"
   ]
  },
  {
   "cell_type": "code",
   "execution_count": 77,
   "id": "13d5ced8",
   "metadata": {},
   "outputs": [
    {
     "data": {
      "text/plain": [
       "array([1, 6, 5, 3, 4], dtype=int64)"
      ]
     },
     "execution_count": 77,
     "metadata": {},
     "output_type": "execute_result"
    }
   ],
   "source": [
    "df1['2nd_Road_Class'].unique()"
   ]
  },
  {
   "cell_type": "code",
   "execution_count": 78,
   "id": "f3ddddc3",
   "metadata": {
    "scrolled": true
   },
   "outputs": [
    {
     "data": {
      "text/plain": [
       "6    44.535195\n",
       "1    38.633994\n",
       "3     8.311652\n",
       "5     5.440894\n",
       "4     3.078265\n",
       "Name: 2nd_Road_Class, dtype: float64"
      ]
     },
     "execution_count": 78,
     "metadata": {},
     "output_type": "execute_result"
    }
   ],
   "source": [
    "df1['2nd_Road_Class'].value_counts()/len(df1)*100\n",
    "# remove 3,5,4"
   ]
  },
  {
   "cell_type": "code",
   "execution_count": 79,
   "id": "d7c3b41d",
   "metadata": {},
   "outputs": [],
   "source": [
    "df1.drop(df1[df1['2nd_Road_Class'] == 3].index, inplace = True)"
   ]
  },
  {
   "cell_type": "code",
   "execution_count": 80,
   "id": "97e2b883",
   "metadata": {},
   "outputs": [],
   "source": [
    "df1.drop(df1[df1['2nd_Road_Class'] == 4].index, inplace = True)"
   ]
  },
  {
   "cell_type": "code",
   "execution_count": 81,
   "id": "5b67e62e",
   "metadata": {},
   "outputs": [],
   "source": [
    "df1.drop(df1[df1['2nd_Road_Class'] == 5].index, inplace = True)"
   ]
  },
  {
   "cell_type": "code",
   "execution_count": 82,
   "id": "ac4df8dc",
   "metadata": {},
   "outputs": [
    {
     "data": {
      "text/plain": [
       "6    53.547709\n",
       "1    46.452291\n",
       "Name: 2nd_Road_Class, dtype: float64"
      ]
     },
     "execution_count": 82,
     "metadata": {},
     "output_type": "execute_result"
    }
   ],
   "source": [
    "df1['2nd_Road_Class'].value_counts()/len(df1)*100"
   ]
  },
  {
   "cell_type": "markdown",
   "id": "c934c762",
   "metadata": {},
   "source": [
    "### 2nd_Road_Number"
   ]
  },
  {
   "cell_type": "code",
   "execution_count": 83,
   "id": "4e5cc640",
   "metadata": {},
   "outputs": [
    {
     "data": {
      "text/plain": [
       "array([0], dtype=int64)"
      ]
     },
     "execution_count": 83,
     "metadata": {},
     "output_type": "execute_result"
    }
   ],
   "source": [
    "df1['2nd_Road_Number'].unique()\n",
    "# Will Remove the column"
   ]
  },
  {
   "cell_type": "code",
   "execution_count": 84,
   "id": "a66321b2",
   "metadata": {},
   "outputs": [],
   "source": [
    "df1.drop('2nd_Road_Number', axis = 1, inplace = True)"
   ]
  },
  {
   "cell_type": "markdown",
   "id": "bce2902e",
   "metadata": {},
   "source": [
    "### Urban_or_Rural_Area"
   ]
  },
  {
   "cell_type": "code",
   "execution_count": 85,
   "id": "6e64387e",
   "metadata": {},
   "outputs": [
    {
     "data": {
      "text/plain": [
       "Urban_or_Rural_Area\n",
       "1    67.619747\n",
       "2    32.380253\n",
       "Name: state, dtype: float64"
      ]
     },
     "execution_count": 85,
     "metadata": {},
     "output_type": "execute_result"
    }
   ],
   "source": [
    "df1.groupby(df1['Urban_or_Rural_Area']).count()['state']/len(df1)*100\n",
    "# Unbalanced data"
   ]
  },
  {
   "cell_type": "code",
   "execution_count": 86,
   "id": "1cbc1102",
   "metadata": {},
   "outputs": [
    {
     "data": {
      "text/plain": [
       "(394790, 26)"
      ]
     },
     "execution_count": 86,
     "metadata": {},
     "output_type": "execute_result"
    }
   ],
   "source": [
    "df1.shape"
   ]
  },
  {
   "cell_type": "markdown",
   "id": "e4b41682",
   "metadata": {},
   "source": [
    "# Handling high cardinality in categorical Features and Feature Engineering"
   ]
  },
  {
   "cell_type": "markdown",
   "id": "5fb01942",
   "metadata": {},
   "source": [
    "### Date"
   ]
  },
  {
   "cell_type": "code",
   "execution_count": 87,
   "id": "de26776f",
   "metadata": {
    "scrolled": true
   },
   "outputs": [
    {
     "data": {
      "text/plain": [
       "731"
      ]
     },
     "execution_count": 87,
     "metadata": {},
     "output_type": "execute_result"
    }
   ],
   "source": [
    "len(df1.Date.unique())"
   ]
  },
  {
   "cell_type": "code",
   "execution_count": 88,
   "id": "0094fc04",
   "metadata": {},
   "outputs": [],
   "source": [
    "df1['Day'] = df1.Date.str.split('/',expand=True)[0]"
   ]
  },
  {
   "cell_type": "code",
   "execution_count": 89,
   "id": "c08e4e33",
   "metadata": {},
   "outputs": [],
   "source": [
    "df1['Month'] = df1.Date.str.split('/',expand = True)[1]"
   ]
  },
  {
   "cell_type": "code",
   "execution_count": 90,
   "id": "05e86042",
   "metadata": {},
   "outputs": [],
   "source": [
    "df1['Year'] = df1.Date.str.split('/',expand = True)[2]"
   ]
  },
  {
   "cell_type": "code",
   "execution_count": 91,
   "id": "49522cbf",
   "metadata": {},
   "outputs": [],
   "source": [
    "df1.drop('Date', axis = 1, inplace = True)"
   ]
  },
  {
   "cell_type": "code",
   "execution_count": 92,
   "id": "7ce00abf",
   "metadata": {},
   "outputs": [],
   "source": [
    "df1.Day = df1.Day.astype(int)\n",
    "df1.Month = df1.Month.astype(int)\n",
    "df1.Year = df1.Year.astype(int)"
   ]
  },
  {
   "cell_type": "markdown",
   "id": "f35b6200",
   "metadata": {},
   "source": [
    "### Time"
   ]
  },
  {
   "cell_type": "code",
   "execution_count": 93,
   "id": "484b5fee",
   "metadata": {},
   "outputs": [
    {
     "data": {
      "text/plain": [
       "1364"
      ]
     },
     "execution_count": 93,
     "metadata": {},
     "output_type": "execute_result"
    }
   ],
   "source": [
    "len(df1.Time.unique())"
   ]
  },
  {
   "cell_type": "code",
   "execution_count": 94,
   "id": "cc5dbd8d",
   "metadata": {},
   "outputs": [],
   "source": [
    "df1.Time.replace({':':'.'}, regex = True, inplace = True)\n",
    "df1.Time = df1.Time.astype(float)"
   ]
  },
  {
   "cell_type": "code",
   "execution_count": 95,
   "id": "24019693",
   "metadata": {},
   "outputs": [
    {
     "data": {
      "text/plain": [
       "Accident_ID\n",
       "2          7.53\n",
       "3         16.00\n",
       "4         16.50\n",
       "5         13.25\n",
       "6         12.31\n",
       "          ...  \n",
       "599992     9.04\n",
       "599993    22.54\n",
       "599996    20.45\n",
       "599999    11.50\n",
       "600000    10.20\n",
       "Name: Time, Length: 394790, dtype: float64"
      ]
     },
     "execution_count": 95,
     "metadata": {},
     "output_type": "execute_result"
    }
   ],
   "source": [
    "df1.Time"
   ]
  },
  {
   "cell_type": "markdown",
   "id": "94929cca",
   "metadata": {},
   "source": [
    "### Local_Authority_(Highway)"
   ]
  },
  {
   "cell_type": "code",
   "execution_count": 96,
   "id": "8084bb53",
   "metadata": {
    "scrolled": true
   },
   "outputs": [
    {
     "data": {
      "text/plain": [
       "array(['E09000026', 'E10000016', 'E08000035', 'E10000031', 'W06000004',\n",
       "       'E06000049', 'E06000050', 'E09000025', 'E06000048', 'E10000029',\n",
       "       'E10000032', 'E06000046', 'E06000009', 'E10000034', 'E06000018',\n",
       "       'E09000016', 'E08000030', 'E10000009', 'S12000010', 'E06000022',\n",
       "       'E09000027', 'S12000038', 'E06000002', 'S12000006', 'E10000006',\n",
       "       'E09000012', 'E09000007', 'E08000022', 'E06000055', 'E10000024',\n",
       "       'E06000030', 'S12000041', 'E06000054', 'E08000036', 'E10000015',\n",
       "       'E06000014', 'E06000013', 'E08000019', 'W06000014', 'E06000043',\n",
       "       'E08000009', 'E10000008', 'S12000018', 'E10000023', 'E10000012',\n",
       "       'E10000007', 'E10000021', 'E08000017', 'E10000013', 'E09000013',\n",
       "       'E06000039', 'E09000003', 'E09000028', 'E06000005', 'E09000022',\n",
       "       'E08000015', 'E08000020', 'E10000030', 'E10000002', 'E08000012',\n",
       "       'E06000040', 'E10000011', 'E10000017', 'E08000010', 'S12000036',\n",
       "       'S12000024', 'W06000010', 'E06000038', 'E09000002', 'E10000027',\n",
       "       'E09000021', 'E10000014', 'E06000001', 'E06000011', 'E08000014',\n",
       "       'E08000025', 'E08000007', 'E10000028', 'E08000026', 'E06000047',\n",
       "       'E10000018', 'E08000032', 'E08000011', 'E08000033', 'S12000043',\n",
       "       'E06000052', 'E08000018', 'W06000001', 'E09000031', 'E09000006',\n",
       "       'S12000020', 'E10000025', 'S12000035', 'W06000023', 'S12000040',\n",
       "       'S12000019', 'S12000029', 'E08000001', 'E06000024', 'E06000023',\n",
       "       'E06000004', 'E06000035', 'E09000023', 'E09000009', 'W06000022',\n",
       "       'E09000029', 'W06000005', 'E06000015', 'E06000042', 'E06000029',\n",
       "       'S12000021', 'E08000027', 'E09000020', 'S12000027', 'E10000019',\n",
       "       'E08000021', 'E06000026', 'E06000010', 'E09000008', 'E06000016',\n",
       "       'S12000042', 'S12000030', 'E09000015', 'W06000006', 'S12000044',\n",
       "       'E08000031', 'W06000018', 'E06000007', 'S12000009', 'E08000006',\n",
       "       'E08000023', 'E09000032', 'E08000004', 'E09000033', 'E06000037',\n",
       "       'E08000013', 'E06000051', 'E09000011', 'S12000033', 'E10000003',\n",
       "       'E06000036', 'S12000014', 'E06000056', 'E09000005', 'E06000025',\n",
       "       'W06000016', 'W06000009', 'E08000029', 'E06000021', 'E06000027',\n",
       "       'E09000014', 'E08000034', 'W06000013', 'E06000031', 'S12000011',\n",
       "       'E06000041', 'E09000004', 'E06000020', 'W06000024', 'E09000001',\n",
       "       'E08000016', 'S12000034', 'E06000033', 'E06000012', 'E06000045',\n",
       "       'E08000003', 'E06000032', 'E09000018', 'E08000024', 'E09000017',\n",
       "       'W06000011', 'S12000028', 'W06000003', 'E09000024', 'W06000008',\n",
       "       'E09000019', 'W06000012', 'E06000034', 'S12000026', 'E10000020',\n",
       "       'S12000008', 'E08000002', 'E06000006', 'E09000030', 'E06000044',\n",
       "       'E09000010', 'S12000015', 'E08000028', 'S12000039', 'W06000015',\n",
       "       'W06000002', 'E06000003', 'S12000005', 'E06000028', 'E06000019',\n",
       "       'E06000008', 'W06000021', 'E08000005', 'S12000017', 'EHEATHROW',\n",
       "       'E08000008', 'W06000019', 'E06000017', 'S12000013', 'S12000023',\n",
       "       'W06000020', 'E06000053'], dtype=object)"
      ]
     },
     "execution_count": 96,
     "metadata": {},
     "output_type": "execute_result"
    }
   ],
   "source": [
    "df1['Local_Authority_(Highway)'].unique()"
   ]
  },
  {
   "cell_type": "code",
   "execution_count": 97,
   "id": "5c382304",
   "metadata": {},
   "outputs": [],
   "source": [
    "def change(x):\n",
    "    if 'E' in x:\n",
    "        return 'E'\n",
    "    elif 'S' in x:\n",
    "        return 'S'\n",
    "    elif 'W' in x:\n",
    "        return 'W'"
   ]
  },
  {
   "cell_type": "code",
   "execution_count": 98,
   "id": "d08fc685",
   "metadata": {},
   "outputs": [],
   "source": [
    "df1['Local_Authority_Highway_statewise'] = df1['Local_Authority_(Highway)'].apply(change)"
   ]
  },
  {
   "cell_type": "code",
   "execution_count": 99,
   "id": "183a8dfa",
   "metadata": {},
   "outputs": [
    {
     "data": {
      "text/plain": [
       "Accident_ID\n",
       "2         E\n",
       "3         E\n",
       "4         E\n",
       "5         E\n",
       "6         W\n",
       "         ..\n",
       "599992    S\n",
       "599993    E\n",
       "599996    E\n",
       "599999    E\n",
       "600000    E\n",
       "Name: Local_Authority_Highway_statewise, Length: 394790, dtype: object"
      ]
     },
     "execution_count": 99,
     "metadata": {},
     "output_type": "execute_result"
    }
   ],
   "source": [
    "df1['Local_Authority_Highway_statewise']"
   ]
  },
  {
   "cell_type": "code",
   "execution_count": 100,
   "id": "a54f80a5",
   "metadata": {},
   "outputs": [],
   "source": [
    "df1.drop('Local_Authority_(Highway)', axis = 1, inplace = True)"
   ]
  },
  {
   "cell_type": "markdown",
   "id": "8d72f217",
   "metadata": {},
   "source": [
    "### Road_Type"
   ]
  },
  {
   "cell_type": "code",
   "execution_count": 101,
   "id": "7bec79d0",
   "metadata": {},
   "outputs": [
    {
     "data": {
      "text/plain": [
       "array(['One way street', 'Roundabout', 'Single carriageway',\n",
       "       'Dual carriageway', 'Slip road', 'Unknown'], dtype=object)"
      ]
     },
     "execution_count": 101,
     "metadata": {},
     "output_type": "execute_result"
    }
   ],
   "source": [
    "df1.Road_Type.unique()"
   ]
  },
  {
   "cell_type": "code",
   "execution_count": 102,
   "id": "2e1816f6",
   "metadata": {},
   "outputs": [
    {
     "data": {
      "text/plain": [
       "Single carriageway    83.659667\n",
       "Dual carriageway       9.521011\n",
       "Roundabout             3.980344\n",
       "One way street         2.787558\n",
       "Slip road              0.048127\n",
       "Unknown                0.003293\n",
       "Name: Road_Type, dtype: float64"
      ]
     },
     "execution_count": 102,
     "metadata": {},
     "output_type": "execute_result"
    }
   ],
   "source": [
    "df1.Road_Type.value_counts()/len(df1)*100"
   ]
  },
  {
   "cell_type": "code",
   "execution_count": 103,
   "id": "860bb2ff",
   "metadata": {},
   "outputs": [],
   "source": [
    "df1.drop(df1[df1.Road_Type == 'Roundabout'].index, inplace = True)"
   ]
  },
  {
   "cell_type": "code",
   "execution_count": 104,
   "id": "be10d3fe",
   "metadata": {},
   "outputs": [],
   "source": [
    "df1.drop(df1[df1.Road_Type == 'One way street'].index, inplace = True)"
   ]
  },
  {
   "cell_type": "code",
   "execution_count": 105,
   "id": "25d6112a",
   "metadata": {},
   "outputs": [],
   "source": [
    "df1.drop(df1[df1.Road_Type == 'Slip road'].index, inplace = True)"
   ]
  },
  {
   "cell_type": "code",
   "execution_count": 106,
   "id": "d0865683",
   "metadata": {},
   "outputs": [],
   "source": [
    "df1.drop(df1[df1.Road_Type == 'Unknown'].index, inplace = True)"
   ]
  },
  {
   "cell_type": "code",
   "execution_count": 107,
   "id": "0d78817c",
   "metadata": {},
   "outputs": [
    {
     "data": {
      "text/plain": [
       "Single carriageway    89.782204\n",
       "Dual carriageway      10.217796\n",
       "Name: Road_Type, dtype: float64"
      ]
     },
     "execution_count": 107,
     "metadata": {},
     "output_type": "execute_result"
    }
   ],
   "source": [
    "df1.Road_Type.value_counts()/len(df1)*100"
   ]
  },
  {
   "cell_type": "markdown",
   "id": "ab432492",
   "metadata": {},
   "source": [
    "### Pedestrian_Crossing-Human_Control"
   ]
  },
  {
   "cell_type": "code",
   "execution_count": 108,
   "id": "d7788be4",
   "metadata": {},
   "outputs": [
    {
     "data": {
      "text/plain": [
       "None within 50 metres                 94.795416\n",
       "Control by other authorised person     5.199691\n",
       "Control by school crossing patrol      0.004893\n",
       "Name: Pedestrian_Crossing-Human_Control, dtype: float64"
      ]
     },
     "execution_count": 108,
     "metadata": {},
     "output_type": "execute_result"
    }
   ],
   "source": [
    "df1['Pedestrian_Crossing-Human_Control'].value_counts()/len(df1)*100\n",
    "# since it has one category with 95% value hence we need to drop this column"
   ]
  },
  {
   "cell_type": "code",
   "execution_count": 109,
   "id": "b2120da5",
   "metadata": {},
   "outputs": [],
   "source": [
    "df1.drop('Pedestrian_Crossing-Human_Control', axis = 1, inplace = True)"
   ]
  },
  {
   "cell_type": "markdown",
   "id": "c54cc7ad",
   "metadata": {},
   "source": [
    "### Pedestrian_Crossing-Physical_Facilities"
   ]
  },
  {
   "cell_type": "code",
   "execution_count": 110,
   "id": "fe1f8646",
   "metadata": {},
   "outputs": [
    {
     "data": {
      "text/plain": [
       "array(['No physical crossing within 50 meters', 'Zebra crossing',\n",
       "       'Pedestrian phase at traffic signal junction',\n",
       "       'non-junction pedestrian crossing', 'Central refuge',\n",
       "       'Footbridge or subway'], dtype=object)"
      ]
     },
     "execution_count": 110,
     "metadata": {},
     "output_type": "execute_result"
    }
   ],
   "source": [
    "df1['Pedestrian_Crossing-Physical_Facilities'].unique()"
   ]
  },
  {
   "cell_type": "code",
   "execution_count": 111,
   "id": "72f8224a",
   "metadata": {},
   "outputs": [
    {
     "data": {
      "text/plain": [
       "No physical crossing within 50 meters          86.818098\n",
       "Zebra crossing                                  5.743093\n",
       "Pedestrian phase at traffic signal junction     4.966184\n",
       "non-junction pedestrian crossing                2.043396\n",
       "Central refuge                                  0.417269\n",
       "Footbridge or subway                            0.011961\n",
       "Name: Pedestrian_Crossing-Physical_Facilities, dtype: float64"
      ]
     },
     "execution_count": 111,
     "metadata": {},
     "output_type": "execute_result"
    }
   ],
   "source": [
    "df1['Pedestrian_Crossing-Physical_Facilities'].value_counts()/len(df1)*100\n",
    "# since it has one category with 87% value hence we need to drop this column"
   ]
  },
  {
   "cell_type": "code",
   "execution_count": 112,
   "id": "bc9d2da9",
   "metadata": {},
   "outputs": [],
   "source": [
    "df1.drop('Pedestrian_Crossing-Physical_Facilities', axis = 1, inplace = True)"
   ]
  },
  {
   "cell_type": "markdown",
   "id": "0fd9911f",
   "metadata": {},
   "source": [
    "### Light_Conditions"
   ]
  },
  {
   "cell_type": "code",
   "execution_count": 113,
   "id": "e7c435d2",
   "metadata": {},
   "outputs": [
    {
     "data": {
      "text/plain": [
       "Daylight: Street light present               75.719280\n",
       "Darkness: Street lights present and lit      18.582209\n",
       "Darkness: Street lighting unknown             3.299009\n",
       "Darkeness: No street lighting                 2.357095\n",
       "Darkness: Street lights present but unlit     0.042407\n",
       "Name: Light_Conditions, dtype: float64"
      ]
     },
     "execution_count": 113,
     "metadata": {},
     "output_type": "execute_result"
    }
   ],
   "source": [
    "df1['Light_Conditions'].value_counts()/len(df1)*100"
   ]
  },
  {
   "cell_type": "code",
   "execution_count": 114,
   "id": "30d79425",
   "metadata": {},
   "outputs": [],
   "source": [
    "df1.drop(df1[df1['Light_Conditions'] == 'Darkness: Street lighting unknown'].index, inplace = True)"
   ]
  },
  {
   "cell_type": "code",
   "execution_count": 115,
   "id": "bbb9193f",
   "metadata": {},
   "outputs": [],
   "source": [
    "df1.drop(df1[df1['Light_Conditions'] == 'Darkeness: No street lighting'].index, inplace = True)"
   ]
  },
  {
   "cell_type": "code",
   "execution_count": 116,
   "id": "da5089ce",
   "metadata": {},
   "outputs": [],
   "source": [
    "df1.drop(df1[df1['Light_Conditions'] == 'Darkness: Street lights present but unlit'].index, inplace = True)"
   ]
  },
  {
   "cell_type": "code",
   "execution_count": 117,
   "id": "c0ee2f2c",
   "metadata": {},
   "outputs": [
    {
     "data": {
      "text/plain": [
       "Daylight: Street light present             80.294893\n",
       "Darkness: Street lights present and lit    19.705107\n",
       "Name: Light_Conditions, dtype: float64"
      ]
     },
     "execution_count": 117,
     "metadata": {},
     "output_type": "execute_result"
    }
   ],
   "source": [
    "df1['Light_Conditions'].value_counts()/len(df1)*100"
   ]
  },
  {
   "cell_type": "markdown",
   "id": "9a4d3e03",
   "metadata": {},
   "source": [
    "### Weather_Conditions"
   ]
  },
  {
   "cell_type": "code",
   "execution_count": 118,
   "id": "23b07851",
   "metadata": {},
   "outputs": [
    {
     "data": {
      "text/plain": [
       "Fine without high winds       76.564477\n",
       "Raining without high winds    14.220031\n",
       "Raining with high winds        3.923264\n",
       "Fine with high winds           3.021577\n",
       "Snowing without high winds     0.995085\n",
       "Other                          0.896211\n",
       "Fog or mist                    0.264337\n",
       "Snowing with high winds        0.065436\n",
       "Unknown                        0.049581\n",
       "Name: Weather_Conditions, dtype: float64"
      ]
     },
     "execution_count": 118,
     "metadata": {},
     "output_type": "execute_result"
    }
   ],
   "source": [
    "df1['Weather_Conditions'].value_counts()/len(df1)*100"
   ]
  },
  {
   "cell_type": "code",
   "execution_count": 119,
   "id": "64397b89",
   "metadata": {},
   "outputs": [],
   "source": [
    "df1.drop(df1[df1['Weather_Conditions'] == 'Raining with high winds'].index, inplace = True)"
   ]
  },
  {
   "cell_type": "code",
   "execution_count": 120,
   "id": "bb00f46b",
   "metadata": {},
   "outputs": [],
   "source": [
    "df1.drop(df1[df1['Weather_Conditions'] == 'Fine with high winds'].index, inplace = True)"
   ]
  },
  {
   "cell_type": "code",
   "execution_count": 121,
   "id": "b27fdd36",
   "metadata": {},
   "outputs": [],
   "source": [
    "df1.drop(df1[df1['Weather_Conditions'] == 'Snowing without high winds'].index, inplace = True)"
   ]
  },
  {
   "cell_type": "code",
   "execution_count": 122,
   "id": "80653f94",
   "metadata": {},
   "outputs": [],
   "source": [
    "df1.drop(df1[df1['Weather_Conditions'] == 'Other'].index, inplace = True)"
   ]
  },
  {
   "cell_type": "code",
   "execution_count": 123,
   "id": "ef85ef3f",
   "metadata": {},
   "outputs": [],
   "source": [
    "df1.drop(df1[df1['Weather_Conditions'] == 'Fog or mist'].index, inplace = True)"
   ]
  },
  {
   "cell_type": "code",
   "execution_count": 124,
   "id": "fe30cf77",
   "metadata": {},
   "outputs": [],
   "source": [
    "df1.drop(df1[df1['Weather_Conditions'] == 'Snowing with high winds'].index, inplace = True)"
   ]
  },
  {
   "cell_type": "code",
   "execution_count": 125,
   "id": "b5dcf76c",
   "metadata": {},
   "outputs": [],
   "source": [
    "df1.drop(df1[df1['Weather_Conditions'] == 'Unknown'].index, inplace = True)"
   ]
  },
  {
   "cell_type": "code",
   "execution_count": 126,
   "id": "8f095399",
   "metadata": {},
   "outputs": [
    {
     "data": {
      "text/plain": [
       "Fine without high winds       84.3365\n",
       "Raining without high winds    15.6635\n",
       "Name: Weather_Conditions, dtype: float64"
      ]
     },
     "execution_count": 126,
     "metadata": {},
     "output_type": "execute_result"
    }
   ],
   "source": [
    "df1['Weather_Conditions'].value_counts()/len(df1)*100"
   ]
  },
  {
   "cell_type": "markdown",
   "id": "de3776f9",
   "metadata": {},
   "source": [
    "### Carriageway_Hazards"
   ]
  },
  {
   "cell_type": "code",
   "execution_count": 127,
   "id": "290558c9",
   "metadata": {},
   "outputs": [
    {
     "data": {
      "text/plain": [
       "None                                       96.288452\n",
       "Other object in carriageway                 3.377829\n",
       "Any animal (except a ridden horse)          0.247352\n",
       "Pedestrian in carriageway (not injured)     0.062870\n",
       "Involvement with previous accident          0.015876\n",
       "Dislodged vehicle load in carriageway       0.007621\n",
       "Name: Carriageway_Hazards, dtype: float64"
      ]
     },
     "execution_count": 127,
     "metadata": {},
     "output_type": "execute_result"
    }
   ],
   "source": [
    "df1['Carriageway_Hazards'].value_counts()/len(df1)*100"
   ]
  },
  {
   "cell_type": "code",
   "execution_count": 128,
   "id": "84fe8bb7",
   "metadata": {},
   "outputs": [],
   "source": [
    "df1.drop('Carriageway_Hazards', axis = 1, inplace = True)"
   ]
  },
  {
   "cell_type": "markdown",
   "id": "1e79deb3",
   "metadata": {},
   "source": [
    "### Did_Police_Officer_Attend_Scene_of_Accident"
   ]
  },
  {
   "cell_type": "code",
   "execution_count": 129,
   "id": "5f67418a",
   "metadata": {},
   "outputs": [
    {
     "data": {
      "text/plain": [
       "Yes    82.270684\n",
       "No     17.729316\n",
       "Name: Did_Police_Officer_Attend_Scene_of_Accident, dtype: float64"
      ]
     },
     "execution_count": 129,
     "metadata": {},
     "output_type": "execute_result"
    }
   ],
   "source": [
    "df1['Did_Police_Officer_Attend_Scene_of_Accident'].value_counts()/len(df1)*100"
   ]
  },
  {
   "cell_type": "markdown",
   "id": "785fdcaa",
   "metadata": {},
   "source": [
    "### state"
   ]
  },
  {
   "cell_type": "code",
   "execution_count": 130,
   "id": "eb3bccad",
   "metadata": {},
   "outputs": [
    {
     "data": {
      "text/plain": [
       "array(['England', 'Alba / Scotland', 'Cymru / Wales'], dtype=object)"
      ]
     },
     "execution_count": 130,
     "metadata": {},
     "output_type": "execute_result"
    }
   ],
   "source": [
    "df1.state.unique()"
   ]
  },
  {
   "cell_type": "code",
   "execution_count": 131,
   "id": "22938042",
   "metadata": {},
   "outputs": [],
   "source": [
    "# we will drop it as we have done feature engineering in Local_Authority_(Highway)"
   ]
  },
  {
   "cell_type": "code",
   "execution_count": 132,
   "id": "104e8b40",
   "metadata": {},
   "outputs": [],
   "source": [
    "df1.drop('state', axis = 1, inplace = True)"
   ]
  },
  {
   "cell_type": "markdown",
   "id": "62c9f207",
   "metadata": {},
   "source": [
    "### postcode"
   ]
  },
  {
   "cell_type": "code",
   "execution_count": 133,
   "id": "326bb3bf",
   "metadata": {
    "scrolled": true
   },
   "outputs": [
    {
     "data": {
      "text/html": [
       "<div>\n",
       "<style scoped>\n",
       "    .dataframe tbody tr th:only-of-type {\n",
       "        vertical-align: middle;\n",
       "    }\n",
       "\n",
       "    .dataframe tbody tr th {\n",
       "        vertical-align: top;\n",
       "    }\n",
       "\n",
       "    .dataframe thead th {\n",
       "        text-align: right;\n",
       "    }\n",
       "</style>\n",
       "<table border=\"1\" class=\"dataframe\">\n",
       "  <thead>\n",
       "    <tr style=\"text-align: right;\">\n",
       "      <th></th>\n",
       "      <th>0</th>\n",
       "      <th>1</th>\n",
       "      <th>2</th>\n",
       "    </tr>\n",
       "    <tr>\n",
       "      <th>Accident_ID</th>\n",
       "      <th></th>\n",
       "      <th></th>\n",
       "      <th></th>\n",
       "    </tr>\n",
       "  </thead>\n",
       "  <tbody>\n",
       "    <tr>\n",
       "      <th>4</th>\n",
       "      <td>TA20</td>\n",
       "      <td>3PT</td>\n",
       "      <td>None</td>\n",
       "    </tr>\n",
       "    <tr>\n",
       "      <th>5</th>\n",
       "      <td>DN20</td>\n",
       "      <td>0QF</td>\n",
       "      <td>None</td>\n",
       "    </tr>\n",
       "    <tr>\n",
       "      <th>10</th>\n",
       "      <td>LA4</td>\n",
       "      <td>4JN</td>\n",
       "      <td>None</td>\n",
       "    </tr>\n",
       "    <tr>\n",
       "      <th>11</th>\n",
       "      <td>WA15</td>\n",
       "      <td>8ER</td>\n",
       "      <td>None</td>\n",
       "    </tr>\n",
       "    <tr>\n",
       "      <th>12</th>\n",
       "      <td>RH19</td>\n",
       "      <td>4LD</td>\n",
       "      <td>None</td>\n",
       "    </tr>\n",
       "    <tr>\n",
       "      <th>...</th>\n",
       "      <td>...</td>\n",
       "      <td>...</td>\n",
       "      <td>...</td>\n",
       "    </tr>\n",
       "    <tr>\n",
       "      <th>599990</th>\n",
       "      <td>AL2</td>\n",
       "      <td>1FS</td>\n",
       "      <td>None</td>\n",
       "    </tr>\n",
       "    <tr>\n",
       "      <th>599993</th>\n",
       "      <td>DL14</td>\n",
       "      <td>8HH</td>\n",
       "      <td>None</td>\n",
       "    </tr>\n",
       "    <tr>\n",
       "      <th>599996</th>\n",
       "      <td>NN2</td>\n",
       "      <td>8PF</td>\n",
       "      <td>None</td>\n",
       "    </tr>\n",
       "    <tr>\n",
       "      <th>599999</th>\n",
       "      <td>IP10</td>\n",
       "      <td>0AH</td>\n",
       "      <td>None</td>\n",
       "    </tr>\n",
       "    <tr>\n",
       "      <th>600000</th>\n",
       "      <td>E14</td>\n",
       "      <td>8JT</td>\n",
       "      <td>None</td>\n",
       "    </tr>\n",
       "  </tbody>\n",
       "</table>\n",
       "<p>314936 rows × 3 columns</p>\n",
       "</div>"
      ],
      "text/plain": [
       "                0    1     2\n",
       "Accident_ID                 \n",
       "4            TA20  3PT  None\n",
       "5            DN20  0QF  None\n",
       "10            LA4  4JN  None\n",
       "11           WA15  8ER  None\n",
       "12           RH19  4LD  None\n",
       "...           ...  ...   ...\n",
       "599990        AL2  1FS  None\n",
       "599993       DL14  8HH  None\n",
       "599996        NN2  8PF  None\n",
       "599999       IP10  0AH  None\n",
       "600000        E14  8JT  None\n",
       "\n",
       "[314936 rows x 3 columns]"
      ]
     },
     "execution_count": 133,
     "metadata": {},
     "output_type": "execute_result"
    }
   ],
   "source": [
    "df1.postcode.str.split(expand = True)"
   ]
  },
  {
   "cell_type": "code",
   "execution_count": 134,
   "id": "adbe09d0",
   "metadata": {},
   "outputs": [
    {
     "data": {
      "text/plain": [
       "88176"
      ]
     },
     "execution_count": 134,
     "metadata": {},
     "output_type": "execute_result"
    }
   ],
   "source": [
    "len(df1.postcode.unique())"
   ]
  },
  {
   "cell_type": "code",
   "execution_count": 135,
   "id": "0e186c74",
   "metadata": {},
   "outputs": [
    {
     "data": {
      "text/plain": [
       "Accident_ID\n",
       "4         76673\n",
       "5         20627\n",
       "10        38299\n",
       "11        82856\n",
       "12        62401\n",
       "          ...  \n",
       "599990      658\n",
       "599993    19513\n",
       "599996    52112\n",
       "599999    33988\n",
       "600000    22810\n",
       "Name: postcode, Length: 314936, dtype: int64"
      ]
     },
     "execution_count": 135,
     "metadata": {},
     "output_type": "execute_result"
    }
   ],
   "source": [
    "df1['postcode'].map({j: i for i ,j in dict(enumerate(np.sort(df1['postcode'].unique()))).items()})"
   ]
  },
  {
   "cell_type": "code",
   "execution_count": 136,
   "id": "d462cf28",
   "metadata": {},
   "outputs": [],
   "source": [
    "df1['postcode_label_encoded'] = df1['postcode'].map({\n",
    "    j: i for i ,j in dict(enumerate(np.sort(df1['postcode'].unique()))).items()})"
   ]
  },
  {
   "cell_type": "code",
   "execution_count": 137,
   "id": "ddfc318c",
   "metadata": {},
   "outputs": [],
   "source": [
    "df1.drop('postcode', axis = 1, inplace = True)"
   ]
  },
  {
   "cell_type": "markdown",
   "id": "d25e7a09",
   "metadata": {},
   "source": [
    "### country"
   ]
  },
  {
   "cell_type": "code",
   "execution_count": 138,
   "id": "44f959c5",
   "metadata": {},
   "outputs": [],
   "source": [
    "df1.drop('country', axis = 1, inplace = True)"
   ]
  },
  {
   "cell_type": "code",
   "execution_count": 139,
   "id": "08cfa0dd",
   "metadata": {},
   "outputs": [
    {
     "data": {
      "text/plain": [
       "(314936, 23)"
      ]
     },
     "execution_count": 139,
     "metadata": {},
     "output_type": "execute_result"
    }
   ],
   "source": [
    "df1.shape"
   ]
  },
  {
   "cell_type": "markdown",
   "id": "7276a72a",
   "metadata": {},
   "source": [
    "# Changing Wrongly classified featues"
   ]
  },
  {
   "cell_type": "code",
   "execution_count": 140,
   "id": "9b17a3bb",
   "metadata": {},
   "outputs": [],
   "source": [
    "df2 = df1.copy()"
   ]
  },
  {
   "cell_type": "code",
   "execution_count": 141,
   "id": "74ddb41f",
   "metadata": {},
   "outputs": [],
   "source": [
    "df2.Time = df2.Time.astype(float)\n",
    "df2.Day = df2.Day.astype('object')\n",
    "df2.Month = df2.Month.astype('object')\n",
    "df2.Year = df2.Year.astype('object')"
   ]
  },
  {
   "cell_type": "code",
   "execution_count": 142,
   "id": "ccfa2f45",
   "metadata": {},
   "outputs": [],
   "source": [
    "df2['Local_Authority_(District)'] = df2['Local_Authority_(District)'].astype('object')"
   ]
  },
  {
   "cell_type": "code",
   "execution_count": 143,
   "id": "8c43fdf7",
   "metadata": {},
   "outputs": [],
   "source": [
    "df2['1st_Road_Class'] = df2['1st_Road_Class'].astype('object')"
   ]
  },
  {
   "cell_type": "code",
   "execution_count": 144,
   "id": "f42562a4",
   "metadata": {},
   "outputs": [],
   "source": [
    "df2['1st_Road_Number'] = df2['1st_Road_Number'].astype('object')"
   ]
  },
  {
   "cell_type": "code",
   "execution_count": 145,
   "id": "eda287a6",
   "metadata": {},
   "outputs": [],
   "source": [
    "df2['2nd_Road_Class'] = df2['2nd_Road_Class'].astype('object')"
   ]
  },
  {
   "cell_type": "code",
   "execution_count": 146,
   "id": "2c89667e",
   "metadata": {},
   "outputs": [],
   "source": [
    "df2['Urban_or_Rural_Area'] = df2['Urban_or_Rural_Area'].astype('object')"
   ]
  },
  {
   "cell_type": "code",
   "execution_count": 147,
   "id": "ca2d3207",
   "metadata": {},
   "outputs": [],
   "source": [
    "df2['Day_of_Week'] = df2['Day_of_Week'].astype('object')"
   ]
  },
  {
   "cell_type": "markdown",
   "id": "742cd3c7",
   "metadata": {},
   "source": [
    "# <font color='hotpink'> Univariate Analysis Categorical Variables"
   ]
  },
  {
   "cell_type": "code",
   "execution_count": 148,
   "id": "d266a782",
   "metadata": {},
   "outputs": [],
   "source": [
    "cat = list(df2.select_dtypes(include=np.object_))\n",
    "cat.remove('Local_Authority_(District)')\n",
    "cat.remove('1st_Road_Number')"
   ]
  },
  {
   "cell_type": "code",
   "execution_count": 149,
   "id": "29107a62",
   "metadata": {},
   "outputs": [
    {
     "data": {
      "text/plain": [
       "(['Day_of_Week',\n",
       "  '1st_Road_Class',\n",
       "  'Road_Type',\n",
       "  '2nd_Road_Class',\n",
       "  'Light_Conditions',\n",
       "  'Weather_Conditions',\n",
       "  'Road_Surface_Conditions',\n",
       "  'Special_Conditions_at_Site',\n",
       "  'Urban_or_Rural_Area',\n",
       "  'Did_Police_Officer_Attend_Scene_of_Accident',\n",
       "  'Day',\n",
       "  'Month',\n",
       "  'Year',\n",
       "  'Local_Authority_Highway_statewise'],\n",
       " 14)"
      ]
     },
     "execution_count": 149,
     "metadata": {},
     "output_type": "execute_result"
    }
   ],
   "source": [
    "(cat,len(cat))"
   ]
  },
  {
   "cell_type": "markdown",
   "id": "8789b40a",
   "metadata": {
    "scrolled": true
   },
   "source": [
    "plt.rcParams['figure.figsize']=[15,15]\n",
    "c =1\n",
    "for i in cat:\n",
    "    plt.subplot(4,4,c)\n",
    "    sns.countplot(data=df2,x=i)\n",
    "    c+=1\n",
    "    plt.xticks(rotation=90)\n",
    "plt.tight_layout()\n",
    "plt.show()"
   ]
  },
  {
   "cell_type": "markdown",
   "id": "a700ad4c",
   "metadata": {},
   "source": [
    "# Inferences\n",
    "* Day_of_Week: 6th and 3rd day of week seem more frequently occuring than other classes. 4th day is the least occuring\n",
    "* 1st_Road_Class: 6 road class is seen more frequently than other classes followed by 3 road class. 4 is slightly more than 5 road number. \n",
    "* Road Type:Single Carriageway is seen most in the data. Presence of Dual carriageway is  very less compared to the former type of carriageway\n",
    "* 2nd_Road_Class: 6 road calss is seen more than 1.\n",
    "* Light_Conditions: Daylight:Street light present is seen more than Darkness: Street lights present and lit.\n",
    "* Weather_Conditions: Fine without high winds is more frequent than Raining wighout high winds.\n",
    "* Road_Surface_Conditions: Dry condition is seem to be occuring more than other condition\n",
    "* Special_Conditions_at_Site: None is seen more frequent.\n",
    "* Urban_or_Rural_Area: Urban area is seen more frequently than Rural area.\n",
    "* Did_Police_Officer_Attend_Scene_of_Accident: During most accidents police officer attended the scene of accident.\n",
    "* Day: 6TH date and 19th dates are seen more than other dates. 6th date seen slightly more than 19th date. 31st is the least seen date here since not all months have 31st.\n",
    "* Month:1st and 2nd months are seen more frequent than other months. 12th month seen least in the data\n",
    "* Year: Year 2012's data is provided more than the year 2013\n",
    "* Local_AUTHORITY_Highway_statewise: There are more authority data is available form England. Scotland and Wales are seen quite less in comparision to England"
   ]
  },
  {
   "cell_type": "markdown",
   "id": "699b88ae",
   "metadata": {},
   "source": [
    "# <font color='hotpink'> Univariate Analysis Numerical feature"
   ]
  },
  {
   "cell_type": "code",
   "execution_count": 150,
   "id": "e2f96d59",
   "metadata": {},
   "outputs": [],
   "source": [
    "num = list(df2.select_dtypes(include=np.number).columns)\n",
    "num.remove('postcode_label_encoded')"
   ]
  },
  {
   "cell_type": "markdown",
   "id": "03a2b0a7",
   "metadata": {},
   "source": [
    "c =1\n",
    "for i in num:\n",
    "    plt.subplot(3,2,c)\n",
    "    sns.histplot(data=df2,x=i,kde=True)\n",
    "    c+=1\n",
    "    plt.xticks(rotation=90)\n",
    "plt.tight_layout()\n",
    "plt.show()"
   ]
  },
  {
   "cell_type": "code",
   "execution_count": 151,
   "id": "5c5f6117",
   "metadata": {},
   "outputs": [
    {
     "data": {
      "text/plain": [
       "-0.06231598448525448"
      ]
     },
     "execution_count": 151,
     "metadata": {},
     "output_type": "execute_result"
    }
   ],
   "source": [
    "df2['Accident_Risk_Index'].skew()"
   ]
  },
  {
   "cell_type": "code",
   "execution_count": 152,
   "id": "f4125441",
   "metadata": {},
   "outputs": [
    {
     "data": {
      "text/plain": [
       "0.19700851601441238"
      ]
     },
     "execution_count": 152,
     "metadata": {},
     "output_type": "execute_result"
    }
   ],
   "source": [
    "df2['Accident_Risk_Index'].kurt()"
   ]
  },
  {
   "cell_type": "markdown",
   "id": "2bdd9ccf",
   "metadata": {},
   "source": [
    "# Inferences\n",
    "* Police_Force: There are 0 Police Force seen in lot of districts. Between 45 and 55 follows the former one. There are up to 86 police force availble for few districts.\n",
    "* Number_of_Vehicles: The data has 2 number of vehicles involved in the accident more than 1.\n",
    "* Number of casualties: There are 1 number of casualty occuring more than other followed by 0. And 2 number of casulaty occuring least.\n",
    "* Speed_limit: 30 speed limit is seen more frequent than other speed limit. Followed by 60 than 40. Least seen speed_limit is 70.\n",
    "* Accident_Risk_Index: The target is normal and no need to transform it. The target has seen 1 Risk index the most. The Range of target is from 0 to 2.5."
   ]
  },
  {
   "cell_type": "markdown",
   "id": "ffd62a6e",
   "metadata": {},
   "source": [
    "# <font color='Blue'> Bivariate Analysis Categorical Feature"
   ]
  },
  {
   "cell_type": "markdown",
   "id": "155736b5",
   "metadata": {},
   "source": [
    "# Categorical columns vs target(Numerical)"
   ]
  },
  {
   "cell_type": "markdown",
   "id": "42d4b9d1",
   "metadata": {
    "scrolled": true
   },
   "source": [
    "plt.rcParams['figure.figsize']=[15,15]\n",
    "c =1\n",
    "for i in cat:\n",
    "    plt.subplot(4,4,c)\n",
    "    sns.barplot(data=df2,x=i,y='Accident_Risk_Index')\n",
    "    c+=1\n",
    "    plt.xticks(rotation=90)\n",
    "plt.tight_layout()\n",
    "plt.show()"
   ]
  },
  {
   "cell_type": "markdown",
   "id": "205786a9",
   "metadata": {},
   "source": [
    "# Inference\n",
    "* Day_of_Week: All day of week seem to have same accident risk indedx except for 1st and 7th where 1st being the lowest.\n",
    "* 1st_Road_Class: The class 3rd has more risk index than othe classes followed by 5th class which is slightly lower than calss 3. 6th class is slightly less than 4th class\n",
    "* Road_Type: Dual carriageway has higher average risk index than single carriageway\n",
    "* 2nd_Road_Class: 6th road class has higher average risk index than 1st road calss\n",
    "* Light_Conditions: Darkness has lower risk index than daylight\n",
    "* Weather_Conditions: Fine without high winds has higer average accident risk index than raining without high winds.\n",
    "* Road_Surface_Conditions: Dry condition has higher average risk index than Wet/Damp.\n",
    "* Special_Conditions_at_Site: Both the conditions has almost equal average risk index.\n",
    "* Urban_of_Rural_Area: Although Rural area is seen least in the data average risk index is higher for Rural area\n",
    "* Day: All the day has almost identical average risk index. 17and 28th being slightly higher. Lowest average risk index is on the 15th.\n",
    "* Month: From 6th month average risk index is almost identical. 2nd month is highest risk index which is slightly higher than 1st month. \n",
    "* Year: 2012 has higher risk index than 2013\n",
    "* Local_Authority_Highway_statewise: Wales has higher risk index than other two contries. Even though England's data is seen more average accident risk index is lowest in England"
   ]
  },
  {
   "cell_type": "markdown",
   "id": "a93f5c0e",
   "metadata": {},
   "source": [
    "# Numerical columns vs target(Numerical)"
   ]
  },
  {
   "cell_type": "markdown",
   "id": "abe8aa58",
   "metadata": {
    "scrolled": true
   },
   "source": [
    "plt.figure(figsize=[10,8])\n",
    "c =1\n",
    "for i in num:\n",
    "    plt.subplot(3,2,c)\n",
    "    sns.scatterplot(data=df2,x=i,y='Accident_Risk_Index')\n",
    "    c+=1\n",
    "    plt.xticks(rotation=90)\n",
    "plt.tight_layout()\n",
    "plt.show()"
   ]
  },
  {
   "cell_type": "markdown",
   "id": "9dc4500a",
   "metadata": {},
   "source": [
    "# Checking if there is a trend between postcode and accident risk index\n",
    "# Since there are thousands of postcode in the data barplot is not possible hence plotting a scatterplot\n",
    "plt.figure(figsize=[7,5])\n",
    "sns.scatterplot(data=df2,x='postcode_label_encoded',y='Accident_Risk_Index')\n",
    "# It can be infered that accident risk index is well distributed in all postcodes "
   ]
  },
  {
   "cell_type": "markdown",
   "id": "de082dd5",
   "metadata": {},
   "source": [
    "# Checing if there is a trend between district and accident risk index\n",
    "plt.figure(figsize=[7,5])\n",
    "sns.scatterplot(data = df2,x='Local_Authority_(District)',y='Accident_Risk_Index')\n",
    "# There are some district not available in the data \n",
    "# There is no pattern seen here"
   ]
  },
  {
   "cell_type": "markdown",
   "id": "6436256e",
   "metadata": {},
   "source": [
    "# Inference\n",
    "* Ther isn't much of a pattern here"
   ]
  },
  {
   "cell_type": "markdown",
   "id": "aff131fc",
   "metadata": {},
   "source": [
    "## HeatMap"
   ]
  },
  {
   "cell_type": "markdown",
   "id": "1b0ebf9c",
   "metadata": {
    "scrolled": true
   },
   "source": [
    "sns.heatmap(df2[num].corr(),annot=True)\n",
    "plt.show()"
   ]
  },
  {
   "cell_type": "markdown",
   "id": "27f6a508",
   "metadata": {},
   "source": [
    "# Inference\n",
    "* Target has good positive correlation with Number_of_Casualties and weak positive correlation with Police_Force\n",
    "* There is no significant multicorrelation in the data"
   ]
  },
  {
   "cell_type": "markdown",
   "id": "288b7a13",
   "metadata": {},
   "source": [
    "# <font color = 'rainbow'> Multivariate Analysis"
   ]
  },
  {
   "cell_type": "markdown",
   "id": "0261a2aa",
   "metadata": {},
   "source": [
    "plt.figure(figsize=[13,7])\n",
    "sns.barplot(data=df2, hue='Weather_Conditions',y='Accident_Risk_Index',x='Month')\n",
    "plt.show()\n",
    "# Average accident risk index is higher for fine without high winds for all months. Lowest is for 6th month\n",
    "# Raining without high winds has lower risk index tham other class for all months. Highest is for 2nd month and \n",
    "#lowest is for 6th"
   ]
  },
  {
   "cell_type": "markdown",
   "id": "4b422b4c",
   "metadata": {},
   "source": [
    "plt.figure(figsize=[20,15])\n",
    "sns.barplot(data=df2, x='Month',y='Accident_Risk_Index',hue='Day')\n",
    "plt.show()\n",
    "# One trend observed here is that in the month of December during christmas holidays average accident_risk index is lower\n",
    "# There are other dates in each month has seen lower average accident risk index that can be summarized as other holidays"
   ]
  },
  {
   "cell_type": "markdown",
   "id": "48391459",
   "metadata": {},
   "source": [
    "plt.figure(figsize=[8,5])\n",
    "sns.barplot(data=df2, x='Road_Type',y='Accident_Risk_Index',hue='Urban_or_Rural_Area')\n",
    "plt.xticks(rotation=90)\n",
    "plt.show()\n",
    "# For all road types Rural area has higher average accident risk index on top of that."
   ]
  },
  {
   "cell_type": "markdown",
   "id": "2394497a",
   "metadata": {},
   "source": [
    "plt.figure(figsize=[8,5])\n",
    "# The postcode_label_encoded vs target didnot give any insight now checking if third column can give any insight\n",
    "sns.scatterplot(data=df1,x='postcode_label_encoded',y='Accident_Risk_Index',hue='Month')\n",
    "plt.show()\n",
    "# No insight can be gained here"
   ]
  },
  {
   "cell_type": "markdown",
   "id": "2ecea847",
   "metadata": {},
   "source": [
    "plt.figure(figsize=[8,5])\n",
    "sns.barplot(data=df1, x='Local_Authority_Highway_statewise',y='Accident_Risk_Index',hue='Urban_or_Rural_Area')\n",
    "# England seems to be safer as compared to other two countries. Scotland and Wales seems almost equal."
   ]
  },
  {
   "cell_type": "markdown",
   "id": "504eb73c",
   "metadata": {},
   "source": [
    "plt.figure(figsize=[8,5])\n",
    "sns.barplot(data=df1, x='Light_Conditions',y='Accident_Risk_Index',hue='Weather_Conditions')\n",
    "plt.show()\n",
    "# Average risk index for daylight is higher than darkness for both weather conditions"
   ]
  },
  {
   "cell_type": "markdown",
   "id": "7c24cb90",
   "metadata": {},
   "source": [
    "plt.figure(figsize=[8,5])\n",
    "sns.barplot(data=df1, x='Special_Conditions_at_Site',y='Accident_Risk_Index',hue='Number_of_Casualties')\n",
    "plt.show()\n",
    "# Risk of 0 casualty is same for both special conditions. risk of 2 casualty is highest for both special conditions"
   ]
  },
  {
   "cell_type": "markdown",
   "id": "5a9dcb24",
   "metadata": {},
   "source": [
    "# Statistical test"
   ]
  },
  {
   "cell_type": "code",
   "execution_count": 153,
   "id": "f2132c0d",
   "metadata": {},
   "outputs": [],
   "source": [
    "import scipy.stats as stats"
   ]
  },
  {
   "cell_type": "code",
   "execution_count": 154,
   "id": "9cd80728",
   "metadata": {},
   "outputs": [],
   "source": [
    "import statsmodels.formula.api as sfa\n",
    "from statsmodels.stats.anova import anova_lm"
   ]
  },
  {
   "cell_type": "code",
   "execution_count": 155,
   "id": "9afdc8a0",
   "metadata": {},
   "outputs": [
    {
     "data": {
      "text/html": [
       "<div>\n",
       "<style scoped>\n",
       "    .dataframe tbody tr th:only-of-type {\n",
       "        vertical-align: middle;\n",
       "    }\n",
       "\n",
       "    .dataframe tbody tr th {\n",
       "        vertical-align: top;\n",
       "    }\n",
       "\n",
       "    .dataframe thead th {\n",
       "        text-align: right;\n",
       "    }\n",
       "</style>\n",
       "<table border=\"1\" class=\"dataframe\">\n",
       "  <thead>\n",
       "    <tr style=\"text-align: right;\">\n",
       "      <th></th>\n",
       "      <th>df</th>\n",
       "      <th>sum_sq</th>\n",
       "      <th>mean_sq</th>\n",
       "      <th>F</th>\n",
       "      <th>PR(&gt;F)</th>\n",
       "    </tr>\n",
       "  </thead>\n",
       "  <tbody>\n",
       "    <tr>\n",
       "      <th>first_road_calss</th>\n",
       "      <td>3.0</td>\n",
       "      <td>642.573728</td>\n",
       "      <td>214.191243</td>\n",
       "      <td>1103.66292</td>\n",
       "      <td>0.0</td>\n",
       "    </tr>\n",
       "    <tr>\n",
       "      <th>Residual</th>\n",
       "      <td>314932.0</td>\n",
       "      <td>61119.817655</td>\n",
       "      <td>0.194073</td>\n",
       "      <td>NaN</td>\n",
       "      <td>NaN</td>\n",
       "    </tr>\n",
       "  </tbody>\n",
       "</table>\n",
       "</div>"
      ],
      "text/plain": [
       "                        df        sum_sq     mean_sq           F  PR(>F)\n",
       "first_road_calss       3.0    642.573728  214.191243  1103.66292     0.0\n",
       "Residual          314932.0  61119.817655    0.194073         NaN     NaN"
      ]
     },
     "execution_count": 155,
     "metadata": {},
     "output_type": "execute_result"
    }
   ],
   "source": [
    "df2['first_road_calss'] = df2['1st_Road_Class']\n",
    "df2['second_road_class'] = df2['2nd_Road_Class']\n",
    "mod = sfa.ols(f'Accident_Risk_Index~first_road_calss',data=df2).fit()\n",
    "anova_lm(mod)"
   ]
  },
  {
   "cell_type": "code",
   "execution_count": 156,
   "id": "8ca3f9b2",
   "metadata": {},
   "outputs": [
    {
     "data": {
      "text/html": [
       "<div>\n",
       "<style scoped>\n",
       "    .dataframe tbody tr th:only-of-type {\n",
       "        vertical-align: middle;\n",
       "    }\n",
       "\n",
       "    .dataframe tbody tr th {\n",
       "        vertical-align: top;\n",
       "    }\n",
       "\n",
       "    .dataframe thead th {\n",
       "        text-align: right;\n",
       "    }\n",
       "</style>\n",
       "<table border=\"1\" class=\"dataframe\">\n",
       "  <thead>\n",
       "    <tr style=\"text-align: right;\">\n",
       "      <th></th>\n",
       "      <th>df</th>\n",
       "      <th>sum_sq</th>\n",
       "      <th>mean_sq</th>\n",
       "      <th>F</th>\n",
       "      <th>PR(&gt;F)</th>\n",
       "    </tr>\n",
       "  </thead>\n",
       "  <tbody>\n",
       "    <tr>\n",
       "      <th>second_road_class</th>\n",
       "      <td>1.0</td>\n",
       "      <td>1259.628034</td>\n",
       "      <td>1259.628034</td>\n",
       "      <td>6556.720276</td>\n",
       "      <td>0.0</td>\n",
       "    </tr>\n",
       "    <tr>\n",
       "      <th>Residual</th>\n",
       "      <td>314934.0</td>\n",
       "      <td>60502.763349</td>\n",
       "      <td>0.192113</td>\n",
       "      <td>NaN</td>\n",
       "      <td>NaN</td>\n",
       "    </tr>\n",
       "  </tbody>\n",
       "</table>\n",
       "</div>"
      ],
      "text/plain": [
       "                         df        sum_sq      mean_sq            F  PR(>F)\n",
       "second_road_class       1.0   1259.628034  1259.628034  6556.720276     0.0\n",
       "Residual           314934.0  60502.763349     0.192113          NaN     NaN"
      ]
     },
     "execution_count": 156,
     "metadata": {},
     "output_type": "execute_result"
    }
   ],
   "source": [
    "mod = sfa.ols(f'Accident_Risk_Index~second_road_class',data=df2).fit()\n",
    "anova_lm(mod)"
   ]
  },
  {
   "cell_type": "code",
   "execution_count": 157,
   "id": "27e262df",
   "metadata": {},
   "outputs": [],
   "source": [
    "# Both of them are significant variables"
   ]
  },
  {
   "cell_type": "code",
   "execution_count": 158,
   "id": "e7ed19d3",
   "metadata": {},
   "outputs": [],
   "source": [
    "df2.drop(columns=['second_road_class','first_road_calss'],inplace=True)"
   ]
  },
  {
   "cell_type": "markdown",
   "id": "a7869c0e",
   "metadata": {
    "scrolled": true
   },
   "source": [
    "impact = []\n",
    "no_impact = []\n",
    "for i in df2[cat].drop(columns=['Day','1st_Road_Class','2nd_Road_Class']).columns:\n",
    "    print(f'\\t\\t{i}')\n",
    "    print(f'Ho: {i} has no impact on Accident_Risk_Index')\n",
    "    print(f'Ha: {i} has an impact on Accident_Risk_Index')\n",
    "    print()\n",
    "    mod = sfa.ols(f'Accident_Risk_Index~{i}',data=df2).fit()\n",
    "    pval = mod.pvalues[1]\n",
    "    if pval<0.05:\n",
    "        print(f'{pval} < 0.05. Reject Ho.')\n",
    "        print(f\"'{i}' has an impact on Accident_Risk_Index\")\n",
    "        print('-'*100)\n",
    "        impact.append(i)\n",
    "    else:\n",
    "        print(f'{pval}>0.05. Fail to reject Ho.')\n",
    "        print(f\"'{i}' has no impact on Accident_Risk_Index\")\n",
    "        print('-'*100)\n",
    "        no_impact.append(i)"
   ]
  },
  {
   "cell_type": "code",
   "execution_count": 159,
   "id": "4cdc2577",
   "metadata": {},
   "outputs": [
    {
     "ename": "NameError",
     "evalue": "name 'impact' is not defined",
     "output_type": "error",
     "traceback": [
      "\u001b[1;31m---------------------------------------------------------------------------\u001b[0m",
      "\u001b[1;31mNameError\u001b[0m                                 Traceback (most recent call last)",
      "\u001b[1;32m~\\AppData\\Local\\Temp/ipykernel_9676/2402338335.py\u001b[0m in \u001b[0;36m<module>\u001b[1;34m\u001b[0m\n\u001b[1;32m----> 1\u001b[1;33m \u001b[0mimpact\u001b[0m\u001b[1;33m.\u001b[0m\u001b[0mextend\u001b[0m\u001b[1;33m(\u001b[0m\u001b[1;33m[\u001b[0m\u001b[1;34m'1st_road_calss'\u001b[0m\u001b[1;33m,\u001b[0m\u001b[1;34m'2nd_road_calss'\u001b[0m\u001b[1;33m]\u001b[0m\u001b[1;33m)\u001b[0m\u001b[1;33m\u001b[0m\u001b[1;33m\u001b[0m\u001b[0m\n\u001b[0m",
      "\u001b[1;31mNameError\u001b[0m: name 'impact' is not defined"
     ]
    }
   ],
   "source": [
    "# impact.extend(['1st_road_calss','2nd_road_calss'])"
   ]
  },
  {
   "cell_type": "markdown",
   "id": "ad3d3b99",
   "metadata": {
    "scrolled": true
   },
   "source": [
    "for i in df2[num].drop(columns=['Accident_Risk_Index']).columns:\n",
    "    print(f'\\t\\t{i}')\n",
    "    print(f'Ho: {i} has no impact on Accident_Risk_Index')\n",
    "    print(f'Ha: {i} has an impact on Accident_Risk_Index')\n",
    "    print()\n",
    "    stat,pval = stats.pearsonr(df2['Accident_Risk_Index'],df2[i])\n",
    "    if pval<0.05:\n",
    "        print(f'{pval} < 0.05. Reject Ho.')\n",
    "        print(f\"'{i}' has an impact on Accident_Risk_Index\")\n",
    "        print('-'*100)\n",
    "        impact.append(i)\n",
    "    else:\n",
    "        print(f'{pval}>0.05. Fail to reject Ho.')\n",
    "        print(f\"'{i}' has no impact on Accident_Risk_Index\")\n",
    "        print('-'*100)\n",
    "        no_impact.append(i)"
   ]
  },
  {
   "cell_type": "code",
   "execution_count": null,
   "id": "f555bf0d",
   "metadata": {
    "scrolled": true
   },
   "outputs": [],
   "source": [
    "# impact,no_impact"
   ]
  },
  {
   "cell_type": "markdown",
   "id": "8cc7db14",
   "metadata": {},
   "source": [
    "## Removing Outliers"
   ]
  },
  {
   "cell_type": "markdown",
   "id": "3606eb8e",
   "metadata": {
    "scrolled": true
   },
   "source": [
    "df1['Accident_Risk_Index'].plot(kind = 'box')"
   ]
  },
  {
   "cell_type": "code",
   "execution_count": null,
   "id": "8b2908cf",
   "metadata": {},
   "outputs": [],
   "source": [
    "Q1 = df1.quantile(0.25)\n",
    "Q3 = df1.quantile(0.75)\n",
    "\n",
    "IQR = Q3 - Q1\n",
    "\n",
    "Upper_Limit = Q3 + 1.5*IQR\n",
    "Lower_Limit = Q1 - 1.5*IQR\n",
    "\n",
    "df1_new = df1[~((df1 > Upper_Limit) | (df1 < Lower_Limit)).any(axis=1)]"
   ]
  },
  {
   "cell_type": "code",
   "execution_count": null,
   "id": "faeae68d",
   "metadata": {},
   "outputs": [],
   "source": [
    "df1_new.shape"
   ]
  },
  {
   "cell_type": "code",
   "execution_count": null,
   "id": "55742e30",
   "metadata": {},
   "outputs": [],
   "source": [
    "# Since the data is very less will not remove the outliers"
   ]
  },
  {
   "cell_type": "markdown",
   "id": "ba001254",
   "metadata": {},
   "source": [
    "## Model Building"
   ]
  },
  {
   "cell_type": "code",
   "execution_count": 160,
   "id": "86459a47",
   "metadata": {},
   "outputs": [],
   "source": [
    "from sklearn.preprocessing import StandardScaler, MinMaxScaler\n",
    "ms = MinMaxScaler()\n",
    "sc = StandardScaler()"
   ]
  },
  {
   "cell_type": "code",
   "execution_count": 161,
   "id": "5ea6cb32",
   "metadata": {},
   "outputs": [],
   "source": [
    "X = df1.drop(columns = ['Accident_Risk_Index','Number_of_Casualties'])\n",
    "y = df1['Accident_Risk_Index']"
   ]
  },
  {
   "cell_type": "code",
   "execution_count": 162,
   "id": "c619b027",
   "metadata": {},
   "outputs": [],
   "source": [
    "from sklearn.model_selection import train_test_split"
   ]
  },
  {
   "cell_type": "code",
   "execution_count": 163,
   "id": "35908c43",
   "metadata": {},
   "outputs": [],
   "source": [
    "xtrain, xtest, ytrain, ytest = train_test_split(X,y, test_size = 0.30, random_state = 1)"
   ]
  },
  {
   "cell_type": "code",
   "execution_count": 164,
   "id": "9568d53a",
   "metadata": {
    "scrolled": true
   },
   "outputs": [
    {
     "data": {
      "text/html": [
       "<div>\n",
       "<style scoped>\n",
       "    .dataframe tbody tr th:only-of-type {\n",
       "        vertical-align: middle;\n",
       "    }\n",
       "\n",
       "    .dataframe tbody tr th {\n",
       "        vertical-align: top;\n",
       "    }\n",
       "\n",
       "    .dataframe thead th {\n",
       "        text-align: right;\n",
       "    }\n",
       "</style>\n",
       "<table border=\"1\" class=\"dataframe\">\n",
       "  <thead>\n",
       "    <tr style=\"text-align: right;\">\n",
       "      <th></th>\n",
       "      <th>Road_Type_Single carriageway</th>\n",
       "      <th>Light_Conditions_Daylight: Street light present</th>\n",
       "      <th>Weather_Conditions_Raining without high winds</th>\n",
       "      <th>Road_Surface_Conditions_Wet/Damp</th>\n",
       "      <th>Special_Conditions_at_Site_Roadworks</th>\n",
       "      <th>Did_Police_Officer_Attend_Scene_of_Accident_Yes</th>\n",
       "      <th>Local_Authority_Highway_statewise_S</th>\n",
       "      <th>Local_Authority_Highway_statewise_W</th>\n",
       "    </tr>\n",
       "    <tr>\n",
       "      <th>Accident_ID</th>\n",
       "      <th></th>\n",
       "      <th></th>\n",
       "      <th></th>\n",
       "      <th></th>\n",
       "      <th></th>\n",
       "      <th></th>\n",
       "      <th></th>\n",
       "      <th></th>\n",
       "    </tr>\n",
       "  </thead>\n",
       "  <tbody>\n",
       "    <tr>\n",
       "      <th>566776</th>\n",
       "      <td>1</td>\n",
       "      <td>0</td>\n",
       "      <td>0</td>\n",
       "      <td>0</td>\n",
       "      <td>0</td>\n",
       "      <td>1</td>\n",
       "      <td>0</td>\n",
       "      <td>0</td>\n",
       "    </tr>\n",
       "    <tr>\n",
       "      <th>591706</th>\n",
       "      <td>1</td>\n",
       "      <td>0</td>\n",
       "      <td>1</td>\n",
       "      <td>1</td>\n",
       "      <td>0</td>\n",
       "      <td>1</td>\n",
       "      <td>0</td>\n",
       "      <td>0</td>\n",
       "    </tr>\n",
       "    <tr>\n",
       "      <th>148806</th>\n",
       "      <td>1</td>\n",
       "      <td>1</td>\n",
       "      <td>0</td>\n",
       "      <td>1</td>\n",
       "      <td>0</td>\n",
       "      <td>1</td>\n",
       "      <td>0</td>\n",
       "      <td>0</td>\n",
       "    </tr>\n",
       "    <tr>\n",
       "      <th>250428</th>\n",
       "      <td>0</td>\n",
       "      <td>1</td>\n",
       "      <td>0</td>\n",
       "      <td>0</td>\n",
       "      <td>0</td>\n",
       "      <td>1</td>\n",
       "      <td>0</td>\n",
       "      <td>0</td>\n",
       "    </tr>\n",
       "    <tr>\n",
       "      <th>24169</th>\n",
       "      <td>1</td>\n",
       "      <td>1</td>\n",
       "      <td>0</td>\n",
       "      <td>0</td>\n",
       "      <td>0</td>\n",
       "      <td>1</td>\n",
       "      <td>0</td>\n",
       "      <td>0</td>\n",
       "    </tr>\n",
       "  </tbody>\n",
       "</table>\n",
       "</div>"
      ],
      "text/plain": [
       "             Road_Type_Single carriageway  \\\n",
       "Accident_ID                                 \n",
       "566776                                  1   \n",
       "591706                                  1   \n",
       "148806                                  1   \n",
       "250428                                  0   \n",
       "24169                                   1   \n",
       "\n",
       "             Light_Conditions_Daylight: Street light present  \\\n",
       "Accident_ID                                                    \n",
       "566776                                                     0   \n",
       "591706                                                     0   \n",
       "148806                                                     1   \n",
       "250428                                                     1   \n",
       "24169                                                      1   \n",
       "\n",
       "             Weather_Conditions_Raining without high winds  \\\n",
       "Accident_ID                                                  \n",
       "566776                                                   0   \n",
       "591706                                                   1   \n",
       "148806                                                   0   \n",
       "250428                                                   0   \n",
       "24169                                                    0   \n",
       "\n",
       "             Road_Surface_Conditions_Wet/Damp  \\\n",
       "Accident_ID                                     \n",
       "566776                                      0   \n",
       "591706                                      1   \n",
       "148806                                      1   \n",
       "250428                                      0   \n",
       "24169                                       0   \n",
       "\n",
       "             Special_Conditions_at_Site_Roadworks  \\\n",
       "Accident_ID                                         \n",
       "566776                                          0   \n",
       "591706                                          0   \n",
       "148806                                          0   \n",
       "250428                                          0   \n",
       "24169                                           0   \n",
       "\n",
       "             Did_Police_Officer_Attend_Scene_of_Accident_Yes  \\\n",
       "Accident_ID                                                    \n",
       "566776                                                     1   \n",
       "591706                                                     1   \n",
       "148806                                                     1   \n",
       "250428                                                     1   \n",
       "24169                                                      1   \n",
       "\n",
       "             Local_Authority_Highway_statewise_S  \\\n",
       "Accident_ID                                        \n",
       "566776                                         0   \n",
       "591706                                         0   \n",
       "148806                                         0   \n",
       "250428                                         0   \n",
       "24169                                          0   \n",
       "\n",
       "             Local_Authority_Highway_statewise_W  \n",
       "Accident_ID                                       \n",
       "566776                                         0  \n",
       "591706                                         0  \n",
       "148806                                         0  \n",
       "250428                                         0  \n",
       "24169                                          0  "
      ]
     },
     "execution_count": 164,
     "metadata": {},
     "output_type": "execute_result"
    }
   ],
   "source": [
    "x_dummy = pd.get_dummies(xtrain.select_dtypes(include = np.object_), drop_first = True)\n",
    "x_dummy.head()"
   ]
  },
  {
   "cell_type": "code",
   "execution_count": 165,
   "id": "f6f5cb64",
   "metadata": {},
   "outputs": [
    {
     "data": {
      "text/html": [
       "<div>\n",
       "<style scoped>\n",
       "    .dataframe tbody tr th:only-of-type {\n",
       "        vertical-align: middle;\n",
       "    }\n",
       "\n",
       "    .dataframe tbody tr th {\n",
       "        vertical-align: top;\n",
       "    }\n",
       "\n",
       "    .dataframe thead th {\n",
       "        text-align: right;\n",
       "    }\n",
       "</style>\n",
       "<table border=\"1\" class=\"dataframe\">\n",
       "  <thead>\n",
       "    <tr style=\"text-align: right;\">\n",
       "      <th></th>\n",
       "      <th>Police_Force</th>\n",
       "      <th>Number_of_Vehicles</th>\n",
       "      <th>Day_of_Week</th>\n",
       "      <th>Time</th>\n",
       "      <th>Local_Authority_(District)</th>\n",
       "      <th>1st_Road_Class</th>\n",
       "      <th>1st_Road_Number</th>\n",
       "      <th>Speed_limit</th>\n",
       "      <th>2nd_Road_Class</th>\n",
       "      <th>Urban_or_Rural_Area</th>\n",
       "      <th>Day</th>\n",
       "      <th>Month</th>\n",
       "      <th>Year</th>\n",
       "      <th>postcode_label_encoded</th>\n",
       "    </tr>\n",
       "  </thead>\n",
       "  <tbody>\n",
       "    <tr>\n",
       "      <th>566776</th>\n",
       "      <td>0.666036</td>\n",
       "      <td>-1.324244</td>\n",
       "      <td>0.865598</td>\n",
       "      <td>0.207979</td>\n",
       "      <td>0.617878</td>\n",
       "      <td>-1.358422</td>\n",
       "      <td>1.602784</td>\n",
       "      <td>-0.401852</td>\n",
       "      <td>0.882104</td>\n",
       "      <td>-0.636041</td>\n",
       "      <td>0.264248</td>\n",
       "      <td>-0.253647</td>\n",
       "      <td>-0.561035</td>\n",
       "      <td>-1.560556</td>\n",
       "    </tr>\n",
       "    <tr>\n",
       "      <th>591706</th>\n",
       "      <td>-1.065039</td>\n",
       "      <td>-1.324244</td>\n",
       "      <td>1.382893</td>\n",
       "      <td>-1.053705</td>\n",
       "      <td>-1.095508</td>\n",
       "      <td>-1.358422</td>\n",
       "      <td>-0.014778</td>\n",
       "      <td>-0.401852</td>\n",
       "      <td>0.882104</td>\n",
       "      <td>-0.636041</td>\n",
       "      <td>-0.748902</td>\n",
       "      <td>1.487111</td>\n",
       "      <td>-0.561035</td>\n",
       "      <td>0.774195</td>\n",
       "    </tr>\n",
       "    <tr>\n",
       "      <th>148806</th>\n",
       "      <td>-0.257204</td>\n",
       "      <td>-1.324244</td>\n",
       "      <td>-0.686286</td>\n",
       "      <td>0.195341</td>\n",
       "      <td>-0.176310</td>\n",
       "      <td>-1.358422</td>\n",
       "      <td>-0.211964</td>\n",
       "      <td>0.531808</td>\n",
       "      <td>-1.133654</td>\n",
       "      <td>-0.636041</td>\n",
       "      <td>-0.186041</td>\n",
       "      <td>-1.414153</td>\n",
       "      <td>-0.561035</td>\n",
       "      <td>1.169785</td>\n",
       "    </tr>\n",
       "    <tr>\n",
       "      <th>250428</th>\n",
       "      <td>-0.641887</td>\n",
       "      <td>-1.324244</td>\n",
       "      <td>-0.168992</td>\n",
       "      <td>-0.213284</td>\n",
       "      <td>-0.904315</td>\n",
       "      <td>-1.358422</td>\n",
       "      <td>-0.481663</td>\n",
       "      <td>3.332790</td>\n",
       "      <td>-1.133654</td>\n",
       "      <td>1.572227</td>\n",
       "      <td>-1.311764</td>\n",
       "      <td>-1.124027</td>\n",
       "      <td>-0.561035</td>\n",
       "      <td>-0.073199</td>\n",
       "    </tr>\n",
       "    <tr>\n",
       "      <th>24169</th>\n",
       "      <td>0.896846</td>\n",
       "      <td>0.755148</td>\n",
       "      <td>0.348303</td>\n",
       "      <td>0.422823</td>\n",
       "      <td>0.753919</td>\n",
       "      <td>-0.579159</td>\n",
       "      <td>-0.164894</td>\n",
       "      <td>-0.401852</td>\n",
       "      <td>0.882104</td>\n",
       "      <td>-0.636041</td>\n",
       "      <td>0.939682</td>\n",
       "      <td>0.616732</td>\n",
       "      <td>-0.561035</td>\n",
       "      <td>-1.716170</td>\n",
       "    </tr>\n",
       "  </tbody>\n",
       "</table>\n",
       "</div>"
      ],
      "text/plain": [
       "        Police_Force  Number_of_Vehicles  Day_of_Week      Time  \\\n",
       "566776      0.666036           -1.324244     0.865598  0.207979   \n",
       "591706     -1.065039           -1.324244     1.382893 -1.053705   \n",
       "148806     -0.257204           -1.324244    -0.686286  0.195341   \n",
       "250428     -0.641887           -1.324244    -0.168992 -0.213284   \n",
       "24169       0.896846            0.755148     0.348303  0.422823   \n",
       "\n",
       "        Local_Authority_(District)  1st_Road_Class  1st_Road_Number  \\\n",
       "566776                    0.617878       -1.358422         1.602784   \n",
       "591706                   -1.095508       -1.358422        -0.014778   \n",
       "148806                   -0.176310       -1.358422        -0.211964   \n",
       "250428                   -0.904315       -1.358422        -0.481663   \n",
       "24169                     0.753919       -0.579159        -0.164894   \n",
       "\n",
       "        Speed_limit  2nd_Road_Class  Urban_or_Rural_Area       Day     Month  \\\n",
       "566776    -0.401852        0.882104            -0.636041  0.264248 -0.253647   \n",
       "591706    -0.401852        0.882104            -0.636041 -0.748902  1.487111   \n",
       "148806     0.531808       -1.133654            -0.636041 -0.186041 -1.414153   \n",
       "250428     3.332790       -1.133654             1.572227 -1.311764 -1.124027   \n",
       "24169     -0.401852        0.882104            -0.636041  0.939682  0.616732   \n",
       "\n",
       "            Year  postcode_label_encoded  \n",
       "566776 -0.561035               -1.560556  \n",
       "591706 -0.561035                0.774195  \n",
       "148806 -0.561035                1.169785  \n",
       "250428 -0.561035               -0.073199  \n",
       "24169  -0.561035               -1.716170  "
      ]
     },
     "execution_count": 165,
     "metadata": {},
     "output_type": "execute_result"
    }
   ],
   "source": [
    "x_cat = xtrain.select_dtypes(include = np.number)\n",
    "x_ca = sc.fit(x_cat)\n",
    "x_cat = pd.DataFrame(sc.transform(x_cat),columns = x_cat.columns,index = list(x_cat.index))\n",
    "x_cat.head()"
   ]
  },
  {
   "cell_type": "code",
   "execution_count": 166,
   "id": "e37ecd8b",
   "metadata": {},
   "outputs": [
    {
     "data": {
      "text/html": [
       "<div>\n",
       "<style scoped>\n",
       "    .dataframe tbody tr th:only-of-type {\n",
       "        vertical-align: middle;\n",
       "    }\n",
       "\n",
       "    .dataframe tbody tr th {\n",
       "        vertical-align: top;\n",
       "    }\n",
       "\n",
       "    .dataframe thead th {\n",
       "        text-align: right;\n",
       "    }\n",
       "</style>\n",
       "<table border=\"1\" class=\"dataframe\">\n",
       "  <thead>\n",
       "    <tr style=\"text-align: right;\">\n",
       "      <th></th>\n",
       "      <th>Road_Type_Single carriageway</th>\n",
       "      <th>Light_Conditions_Daylight: Street light present</th>\n",
       "      <th>Weather_Conditions_Raining without high winds</th>\n",
       "      <th>Road_Surface_Conditions_Wet/Damp</th>\n",
       "      <th>Special_Conditions_at_Site_Roadworks</th>\n",
       "      <th>Did_Police_Officer_Attend_Scene_of_Accident_Yes</th>\n",
       "      <th>Local_Authority_Highway_statewise_S</th>\n",
       "      <th>Local_Authority_Highway_statewise_W</th>\n",
       "    </tr>\n",
       "    <tr>\n",
       "      <th>Accident_ID</th>\n",
       "      <th></th>\n",
       "      <th></th>\n",
       "      <th></th>\n",
       "      <th></th>\n",
       "      <th></th>\n",
       "      <th></th>\n",
       "      <th></th>\n",
       "      <th></th>\n",
       "    </tr>\n",
       "  </thead>\n",
       "  <tbody>\n",
       "    <tr>\n",
       "      <th>239403</th>\n",
       "      <td>1</td>\n",
       "      <td>1</td>\n",
       "      <td>0</td>\n",
       "      <td>0</td>\n",
       "      <td>0</td>\n",
       "      <td>1</td>\n",
       "      <td>0</td>\n",
       "      <td>1</td>\n",
       "    </tr>\n",
       "    <tr>\n",
       "      <th>218204</th>\n",
       "      <td>1</td>\n",
       "      <td>0</td>\n",
       "      <td>0</td>\n",
       "      <td>1</td>\n",
       "      <td>0</td>\n",
       "      <td>0</td>\n",
       "      <td>0</td>\n",
       "      <td>0</td>\n",
       "    </tr>\n",
       "    <tr>\n",
       "      <th>531958</th>\n",
       "      <td>1</td>\n",
       "      <td>0</td>\n",
       "      <td>0</td>\n",
       "      <td>0</td>\n",
       "      <td>0</td>\n",
       "      <td>1</td>\n",
       "      <td>0</td>\n",
       "      <td>0</td>\n",
       "    </tr>\n",
       "    <tr>\n",
       "      <th>262339</th>\n",
       "      <td>1</td>\n",
       "      <td>1</td>\n",
       "      <td>0</td>\n",
       "      <td>0</td>\n",
       "      <td>0</td>\n",
       "      <td>1</td>\n",
       "      <td>0</td>\n",
       "      <td>0</td>\n",
       "    </tr>\n",
       "    <tr>\n",
       "      <th>205651</th>\n",
       "      <td>1</td>\n",
       "      <td>1</td>\n",
       "      <td>0</td>\n",
       "      <td>0</td>\n",
       "      <td>0</td>\n",
       "      <td>1</td>\n",
       "      <td>0</td>\n",
       "      <td>0</td>\n",
       "    </tr>\n",
       "  </tbody>\n",
       "</table>\n",
       "</div>"
      ],
      "text/plain": [
       "             Road_Type_Single carriageway  \\\n",
       "Accident_ID                                 \n",
       "239403                                  1   \n",
       "218204                                  1   \n",
       "531958                                  1   \n",
       "262339                                  1   \n",
       "205651                                  1   \n",
       "\n",
       "             Light_Conditions_Daylight: Street light present  \\\n",
       "Accident_ID                                                    \n",
       "239403                                                     1   \n",
       "218204                                                     0   \n",
       "531958                                                     0   \n",
       "262339                                                     1   \n",
       "205651                                                     1   \n",
       "\n",
       "             Weather_Conditions_Raining without high winds  \\\n",
       "Accident_ID                                                  \n",
       "239403                                                   0   \n",
       "218204                                                   0   \n",
       "531958                                                   0   \n",
       "262339                                                   0   \n",
       "205651                                                   0   \n",
       "\n",
       "             Road_Surface_Conditions_Wet/Damp  \\\n",
       "Accident_ID                                     \n",
       "239403                                      0   \n",
       "218204                                      1   \n",
       "531958                                      0   \n",
       "262339                                      0   \n",
       "205651                                      0   \n",
       "\n",
       "             Special_Conditions_at_Site_Roadworks  \\\n",
       "Accident_ID                                         \n",
       "239403                                          0   \n",
       "218204                                          0   \n",
       "531958                                          0   \n",
       "262339                                          0   \n",
       "205651                                          0   \n",
       "\n",
       "             Did_Police_Officer_Attend_Scene_of_Accident_Yes  \\\n",
       "Accident_ID                                                    \n",
       "239403                                                     1   \n",
       "218204                                                     0   \n",
       "531958                                                     1   \n",
       "262339                                                     1   \n",
       "205651                                                     1   \n",
       "\n",
       "             Local_Authority_Highway_statewise_S  \\\n",
       "Accident_ID                                        \n",
       "239403                                         0   \n",
       "218204                                         0   \n",
       "531958                                         0   \n",
       "262339                                         0   \n",
       "205651                                         0   \n",
       "\n",
       "             Local_Authority_Highway_statewise_W  \n",
       "Accident_ID                                       \n",
       "239403                                         1  \n",
       "218204                                         0  \n",
       "531958                                         0  \n",
       "262339                                         0  \n",
       "205651                                         0  "
      ]
     },
     "execution_count": 166,
     "metadata": {},
     "output_type": "execute_result"
    }
   ],
   "source": [
    "cat_test = pd.get_dummies(xtest.select_dtypes(include = np.object_),drop_first = True)\n",
    "cat_test.head()"
   ]
  },
  {
   "cell_type": "code",
   "execution_count": 167,
   "id": "61249f34",
   "metadata": {
    "scrolled": true
   },
   "outputs": [
    {
     "data": {
      "text/html": [
       "<div>\n",
       "<style scoped>\n",
       "    .dataframe tbody tr th:only-of-type {\n",
       "        vertical-align: middle;\n",
       "    }\n",
       "\n",
       "    .dataframe tbody tr th {\n",
       "        vertical-align: top;\n",
       "    }\n",
       "\n",
       "    .dataframe thead th {\n",
       "        text-align: right;\n",
       "    }\n",
       "</style>\n",
       "<table border=\"1\" class=\"dataframe\">\n",
       "  <thead>\n",
       "    <tr style=\"text-align: right;\">\n",
       "      <th></th>\n",
       "      <th>Police_Force</th>\n",
       "      <th>Number_of_Vehicles</th>\n",
       "      <th>Day_of_Week</th>\n",
       "      <th>Time</th>\n",
       "      <th>Local_Authority_(District)</th>\n",
       "      <th>1st_Road_Class</th>\n",
       "      <th>1st_Road_Number</th>\n",
       "      <th>Speed_limit</th>\n",
       "      <th>2nd_Road_Class</th>\n",
       "      <th>Urban_or_Rural_Area</th>\n",
       "      <th>Day</th>\n",
       "      <th>Month</th>\n",
       "      <th>Year</th>\n",
       "      <th>postcode_label_encoded</th>\n",
       "    </tr>\n",
       "  </thead>\n",
       "  <tbody>\n",
       "    <tr>\n",
       "      <th>239403</th>\n",
       "      <td>1.319998</td>\n",
       "      <td>-1.324244</td>\n",
       "      <td>0.865598</td>\n",
       "      <td>0.418611</td>\n",
       "      <td>1.518692</td>\n",
       "      <td>-1.358422</td>\n",
       "      <td>2.105290</td>\n",
       "      <td>-0.401852</td>\n",
       "      <td>0.882104</td>\n",
       "      <td>-0.636041</td>\n",
       "      <td>0.489393</td>\n",
       "      <td>-1.414153</td>\n",
       "      <td>-0.561035</td>\n",
       "      <td>-1.394226</td>\n",
       "    </tr>\n",
       "    <tr>\n",
       "      <th>218204</th>\n",
       "      <td>-1.065039</td>\n",
       "      <td>0.755148</td>\n",
       "      <td>-0.686286</td>\n",
       "      <td>-0.388109</td>\n",
       "      <td>-1.121246</td>\n",
       "      <td>0.979368</td>\n",
       "      <td>-0.476575</td>\n",
       "      <td>-0.401852</td>\n",
       "      <td>0.882104</td>\n",
       "      <td>-0.636041</td>\n",
       "      <td>-0.974047</td>\n",
       "      <td>0.036479</td>\n",
       "      <td>-0.561035</td>\n",
       "      <td>-0.992119</td>\n",
       "    </tr>\n",
       "    <tr>\n",
       "      <th>531958</th>\n",
       "      <td>0.242884</td>\n",
       "      <td>0.755148</td>\n",
       "      <td>-0.686286</td>\n",
       "      <td>-0.977877</td>\n",
       "      <td>-0.168956</td>\n",
       "      <td>0.200105</td>\n",
       "      <td>-0.186520</td>\n",
       "      <td>2.399129</td>\n",
       "      <td>-1.133654</td>\n",
       "      <td>1.572227</td>\n",
       "      <td>-1.311764</td>\n",
       "      <td>1.196985</td>\n",
       "      <td>-0.561035</td>\n",
       "      <td>-1.127162</td>\n",
       "    </tr>\n",
       "    <tr>\n",
       "      <th>262339</th>\n",
       "      <td>0.627568</td>\n",
       "      <td>-1.324244</td>\n",
       "      <td>-1.720876</td>\n",
       "      <td>1.669763</td>\n",
       "      <td>0.599494</td>\n",
       "      <td>-0.579159</td>\n",
       "      <td>0.888462</td>\n",
       "      <td>-0.401852</td>\n",
       "      <td>0.882104</td>\n",
       "      <td>1.572227</td>\n",
       "      <td>0.714537</td>\n",
       "      <td>-1.124027</td>\n",
       "      <td>-0.561035</td>\n",
       "      <td>-0.604421</td>\n",
       "    </tr>\n",
       "    <tr>\n",
       "      <th>205651</th>\n",
       "      <td>-0.949634</td>\n",
       "      <td>0.755148</td>\n",
       "      <td>-1.203581</td>\n",
       "      <td>0.812492</td>\n",
       "      <td>-0.852840</td>\n",
       "      <td>0.979368</td>\n",
       "      <td>-0.481027</td>\n",
       "      <td>-0.401852</td>\n",
       "      <td>0.882104</td>\n",
       "      <td>-0.636041</td>\n",
       "      <td>0.939682</td>\n",
       "      <td>0.326606</td>\n",
       "      <td>-0.561035</td>\n",
       "      <td>1.272559</td>\n",
       "    </tr>\n",
       "  </tbody>\n",
       "</table>\n",
       "</div>"
      ],
      "text/plain": [
       "        Police_Force  Number_of_Vehicles  Day_of_Week      Time  \\\n",
       "239403      1.319998           -1.324244     0.865598  0.418611   \n",
       "218204     -1.065039            0.755148    -0.686286 -0.388109   \n",
       "531958      0.242884            0.755148    -0.686286 -0.977877   \n",
       "262339      0.627568           -1.324244    -1.720876  1.669763   \n",
       "205651     -0.949634            0.755148    -1.203581  0.812492   \n",
       "\n",
       "        Local_Authority_(District)  1st_Road_Class  1st_Road_Number  \\\n",
       "239403                    1.518692       -1.358422         2.105290   \n",
       "218204                   -1.121246        0.979368        -0.476575   \n",
       "531958                   -0.168956        0.200105        -0.186520   \n",
       "262339                    0.599494       -0.579159         0.888462   \n",
       "205651                   -0.852840        0.979368        -0.481027   \n",
       "\n",
       "        Speed_limit  2nd_Road_Class  Urban_or_Rural_Area       Day     Month  \\\n",
       "239403    -0.401852        0.882104            -0.636041  0.489393 -1.414153   \n",
       "218204    -0.401852        0.882104            -0.636041 -0.974047  0.036479   \n",
       "531958     2.399129       -1.133654             1.572227 -1.311764  1.196985   \n",
       "262339    -0.401852        0.882104             1.572227  0.714537 -1.124027   \n",
       "205651    -0.401852        0.882104            -0.636041  0.939682  0.326606   \n",
       "\n",
       "            Year  postcode_label_encoded  \n",
       "239403 -0.561035               -1.394226  \n",
       "218204 -0.561035               -0.992119  \n",
       "531958 -0.561035               -1.127162  \n",
       "262339 -0.561035               -0.604421  \n",
       "205651 -0.561035                1.272559  "
      ]
     },
     "execution_count": 167,
     "metadata": {},
     "output_type": "execute_result"
    }
   ],
   "source": [
    "num_test = xtest.select_dtypes(include = np.number)\n",
    "num_test = pd.DataFrame(sc.transform(num_test), columns = num_test.columns, index = list(num_test.index))\n",
    "num_test.head()"
   ]
  },
  {
   "cell_type": "code",
   "execution_count": 168,
   "id": "87227db2",
   "metadata": {},
   "outputs": [],
   "source": [
    "xtest = pd.concat([cat_test, num_test], axis = 1)"
   ]
  },
  {
   "cell_type": "code",
   "execution_count": 169,
   "id": "93b234c5",
   "metadata": {},
   "outputs": [],
   "source": [
    "xtrain = pd.concat([x_dummy,x_cat], axis = 1)"
   ]
  },
  {
   "cell_type": "code",
   "execution_count": 170,
   "id": "bf56ec00",
   "metadata": {},
   "outputs": [
    {
     "data": {
      "text/html": [
       "<div>\n",
       "<style scoped>\n",
       "    .dataframe tbody tr th:only-of-type {\n",
       "        vertical-align: middle;\n",
       "    }\n",
       "\n",
       "    .dataframe tbody tr th {\n",
       "        vertical-align: top;\n",
       "    }\n",
       "\n",
       "    .dataframe thead th {\n",
       "        text-align: right;\n",
       "    }\n",
       "</style>\n",
       "<table border=\"1\" class=\"dataframe\">\n",
       "  <thead>\n",
       "    <tr style=\"text-align: right;\">\n",
       "      <th></th>\n",
       "      <th>Road_Type_Single carriageway</th>\n",
       "      <th>Light_Conditions_Daylight: Street light present</th>\n",
       "      <th>Weather_Conditions_Raining without high winds</th>\n",
       "      <th>Road_Surface_Conditions_Wet/Damp</th>\n",
       "      <th>Special_Conditions_at_Site_Roadworks</th>\n",
       "      <th>Did_Police_Officer_Attend_Scene_of_Accident_Yes</th>\n",
       "      <th>Local_Authority_Highway_statewise_S</th>\n",
       "      <th>Local_Authority_Highway_statewise_W</th>\n",
       "      <th>Police_Force</th>\n",
       "      <th>Number_of_Vehicles</th>\n",
       "      <th>Day_of_Week</th>\n",
       "      <th>Time</th>\n",
       "      <th>Local_Authority_(District)</th>\n",
       "      <th>1st_Road_Class</th>\n",
       "      <th>1st_Road_Number</th>\n",
       "      <th>Speed_limit</th>\n",
       "      <th>2nd_Road_Class</th>\n",
       "      <th>Urban_or_Rural_Area</th>\n",
       "      <th>Day</th>\n",
       "      <th>Month</th>\n",
       "      <th>Year</th>\n",
       "      <th>postcode_label_encoded</th>\n",
       "    </tr>\n",
       "  </thead>\n",
       "  <tbody>\n",
       "    <tr>\n",
       "      <th>566776</th>\n",
       "      <td>1</td>\n",
       "      <td>0</td>\n",
       "      <td>0</td>\n",
       "      <td>0</td>\n",
       "      <td>0</td>\n",
       "      <td>1</td>\n",
       "      <td>0</td>\n",
       "      <td>0</td>\n",
       "      <td>0.666036</td>\n",
       "      <td>-1.324244</td>\n",
       "      <td>0.865598</td>\n",
       "      <td>0.207979</td>\n",
       "      <td>0.617878</td>\n",
       "      <td>-1.358422</td>\n",
       "      <td>1.602784</td>\n",
       "      <td>-0.401852</td>\n",
       "      <td>0.882104</td>\n",
       "      <td>-0.636041</td>\n",
       "      <td>0.264248</td>\n",
       "      <td>-0.253647</td>\n",
       "      <td>-0.561035</td>\n",
       "      <td>-1.560556</td>\n",
       "    </tr>\n",
       "    <tr>\n",
       "      <th>591706</th>\n",
       "      <td>1</td>\n",
       "      <td>0</td>\n",
       "      <td>1</td>\n",
       "      <td>1</td>\n",
       "      <td>0</td>\n",
       "      <td>1</td>\n",
       "      <td>0</td>\n",
       "      <td>0</td>\n",
       "      <td>-1.065039</td>\n",
       "      <td>-1.324244</td>\n",
       "      <td>1.382893</td>\n",
       "      <td>-1.053705</td>\n",
       "      <td>-1.095508</td>\n",
       "      <td>-1.358422</td>\n",
       "      <td>-0.014778</td>\n",
       "      <td>-0.401852</td>\n",
       "      <td>0.882104</td>\n",
       "      <td>-0.636041</td>\n",
       "      <td>-0.748902</td>\n",
       "      <td>1.487111</td>\n",
       "      <td>-0.561035</td>\n",
       "      <td>0.774195</td>\n",
       "    </tr>\n",
       "    <tr>\n",
       "      <th>148806</th>\n",
       "      <td>1</td>\n",
       "      <td>1</td>\n",
       "      <td>0</td>\n",
       "      <td>1</td>\n",
       "      <td>0</td>\n",
       "      <td>1</td>\n",
       "      <td>0</td>\n",
       "      <td>0</td>\n",
       "      <td>-0.257204</td>\n",
       "      <td>-1.324244</td>\n",
       "      <td>-0.686286</td>\n",
       "      <td>0.195341</td>\n",
       "      <td>-0.176310</td>\n",
       "      <td>-1.358422</td>\n",
       "      <td>-0.211964</td>\n",
       "      <td>0.531808</td>\n",
       "      <td>-1.133654</td>\n",
       "      <td>-0.636041</td>\n",
       "      <td>-0.186041</td>\n",
       "      <td>-1.414153</td>\n",
       "      <td>-0.561035</td>\n",
       "      <td>1.169785</td>\n",
       "    </tr>\n",
       "    <tr>\n",
       "      <th>250428</th>\n",
       "      <td>0</td>\n",
       "      <td>1</td>\n",
       "      <td>0</td>\n",
       "      <td>0</td>\n",
       "      <td>0</td>\n",
       "      <td>1</td>\n",
       "      <td>0</td>\n",
       "      <td>0</td>\n",
       "      <td>-0.641887</td>\n",
       "      <td>-1.324244</td>\n",
       "      <td>-0.168992</td>\n",
       "      <td>-0.213284</td>\n",
       "      <td>-0.904315</td>\n",
       "      <td>-1.358422</td>\n",
       "      <td>-0.481663</td>\n",
       "      <td>3.332790</td>\n",
       "      <td>-1.133654</td>\n",
       "      <td>1.572227</td>\n",
       "      <td>-1.311764</td>\n",
       "      <td>-1.124027</td>\n",
       "      <td>-0.561035</td>\n",
       "      <td>-0.073199</td>\n",
       "    </tr>\n",
       "    <tr>\n",
       "      <th>24169</th>\n",
       "      <td>1</td>\n",
       "      <td>1</td>\n",
       "      <td>0</td>\n",
       "      <td>0</td>\n",
       "      <td>0</td>\n",
       "      <td>1</td>\n",
       "      <td>0</td>\n",
       "      <td>0</td>\n",
       "      <td>0.896846</td>\n",
       "      <td>0.755148</td>\n",
       "      <td>0.348303</td>\n",
       "      <td>0.422823</td>\n",
       "      <td>0.753919</td>\n",
       "      <td>-0.579159</td>\n",
       "      <td>-0.164894</td>\n",
       "      <td>-0.401852</td>\n",
       "      <td>0.882104</td>\n",
       "      <td>-0.636041</td>\n",
       "      <td>0.939682</td>\n",
       "      <td>0.616732</td>\n",
       "      <td>-0.561035</td>\n",
       "      <td>-1.716170</td>\n",
       "    </tr>\n",
       "  </tbody>\n",
       "</table>\n",
       "</div>"
      ],
      "text/plain": [
       "        Road_Type_Single carriageway  \\\n",
       "566776                             1   \n",
       "591706                             1   \n",
       "148806                             1   \n",
       "250428                             0   \n",
       "24169                              1   \n",
       "\n",
       "        Light_Conditions_Daylight: Street light present  \\\n",
       "566776                                                0   \n",
       "591706                                                0   \n",
       "148806                                                1   \n",
       "250428                                                1   \n",
       "24169                                                 1   \n",
       "\n",
       "        Weather_Conditions_Raining without high winds  \\\n",
       "566776                                              0   \n",
       "591706                                              1   \n",
       "148806                                              0   \n",
       "250428                                              0   \n",
       "24169                                               0   \n",
       "\n",
       "        Road_Surface_Conditions_Wet/Damp  \\\n",
       "566776                                 0   \n",
       "591706                                 1   \n",
       "148806                                 1   \n",
       "250428                                 0   \n",
       "24169                                  0   \n",
       "\n",
       "        Special_Conditions_at_Site_Roadworks  \\\n",
       "566776                                     0   \n",
       "591706                                     0   \n",
       "148806                                     0   \n",
       "250428                                     0   \n",
       "24169                                      0   \n",
       "\n",
       "        Did_Police_Officer_Attend_Scene_of_Accident_Yes  \\\n",
       "566776                                                1   \n",
       "591706                                                1   \n",
       "148806                                                1   \n",
       "250428                                                1   \n",
       "24169                                                 1   \n",
       "\n",
       "        Local_Authority_Highway_statewise_S  \\\n",
       "566776                                    0   \n",
       "591706                                    0   \n",
       "148806                                    0   \n",
       "250428                                    0   \n",
       "24169                                     0   \n",
       "\n",
       "        Local_Authority_Highway_statewise_W  Police_Force  Number_of_Vehicles  \\\n",
       "566776                                    0      0.666036           -1.324244   \n",
       "591706                                    0     -1.065039           -1.324244   \n",
       "148806                                    0     -0.257204           -1.324244   \n",
       "250428                                    0     -0.641887           -1.324244   \n",
       "24169                                     0      0.896846            0.755148   \n",
       "\n",
       "        Day_of_Week      Time  Local_Authority_(District)  1st_Road_Class  \\\n",
       "566776     0.865598  0.207979                    0.617878       -1.358422   \n",
       "591706     1.382893 -1.053705                   -1.095508       -1.358422   \n",
       "148806    -0.686286  0.195341                   -0.176310       -1.358422   \n",
       "250428    -0.168992 -0.213284                   -0.904315       -1.358422   \n",
       "24169      0.348303  0.422823                    0.753919       -0.579159   \n",
       "\n",
       "        1st_Road_Number  Speed_limit  2nd_Road_Class  Urban_or_Rural_Area  \\\n",
       "566776         1.602784    -0.401852        0.882104            -0.636041   \n",
       "591706        -0.014778    -0.401852        0.882104            -0.636041   \n",
       "148806        -0.211964     0.531808       -1.133654            -0.636041   \n",
       "250428        -0.481663     3.332790       -1.133654             1.572227   \n",
       "24169         -0.164894    -0.401852        0.882104            -0.636041   \n",
       "\n",
       "             Day     Month      Year  postcode_label_encoded  \n",
       "566776  0.264248 -0.253647 -0.561035               -1.560556  \n",
       "591706 -0.748902  1.487111 -0.561035                0.774195  \n",
       "148806 -0.186041 -1.414153 -0.561035                1.169785  \n",
       "250428 -1.311764 -1.124027 -0.561035               -0.073199  \n",
       "24169   0.939682  0.616732 -0.561035               -1.716170  "
      ]
     },
     "execution_count": 170,
     "metadata": {},
     "output_type": "execute_result"
    }
   ],
   "source": [
    "xtrain.head()"
   ]
  },
  {
   "cell_type": "markdown",
   "id": "77136cb2",
   "metadata": {},
   "source": [
    "### Base Model"
   ]
  },
  {
   "cell_type": "code",
   "execution_count": 171,
   "id": "6ebc86e8",
   "metadata": {},
   "outputs": [],
   "source": [
    "import statsmodels.api as sm\n",
    "from sklearn.model_selection import train_test_split"
   ]
  },
  {
   "cell_type": "markdown",
   "id": "35c5f94e",
   "metadata": {},
   "source": [
    "# Linear Regression Model"
   ]
  },
  {
   "cell_type": "code",
   "execution_count": 172,
   "id": "a35c71eb",
   "metadata": {
    "scrolled": true
   },
   "outputs": [
    {
     "data": {
      "text/html": [
       "<table class=\"simpletable\">\n",
       "<caption>OLS Regression Results</caption>\n",
       "<tr>\n",
       "  <th>Dep. Variable:</th>    <td>Accident_Risk_Index</td> <th>  R-squared (uncentered):</th>       <td>   0.854</td>  \n",
       "</tr>\n",
       "<tr>\n",
       "  <th>Model:</th>                    <td>OLS</td>         <th>  Adj. R-squared (uncentered):</th>  <td>   0.854</td>  \n",
       "</tr>\n",
       "<tr>\n",
       "  <th>Method:</th>              <td>Least Squares</td>    <th>  F-statistic:       </th>           <td>5.862e+04</td> \n",
       "</tr>\n",
       "<tr>\n",
       "  <th>Date:</th>              <td>Fri, 22 Jul 2022</td>   <th>  Prob (F-statistic):</th>            <td>  0.00</td>   \n",
       "</tr>\n",
       "<tr>\n",
       "  <th>Time:</th>                  <td>11:07:34</td>       <th>  Log-Likelihood:    </th>          <td>-1.3979e+05</td>\n",
       "</tr>\n",
       "<tr>\n",
       "  <th>No. Observations:</th>       <td>220455</td>        <th>  AIC:               </th>           <td>2.796e+05</td> \n",
       "</tr>\n",
       "<tr>\n",
       "  <th>Df Residuals:</th>           <td>220433</td>        <th>  BIC:               </th>           <td>2.799e+05</td> \n",
       "</tr>\n",
       "<tr>\n",
       "  <th>Df Model:</th>               <td>    22</td>        <th>                     </th>               <td> </td>     \n",
       "</tr>\n",
       "<tr>\n",
       "  <th>Covariance Type:</th>       <td>nonrobust</td>      <th>                     </th>               <td> </td>     \n",
       "</tr>\n",
       "</table>\n",
       "<table class=\"simpletable\">\n",
       "<tr>\n",
       "                         <td></td>                            <th>coef</th>     <th>std err</th>      <th>t</th>      <th>P>|t|</th>  <th>[0.025</th>    <th>0.975]</th>  \n",
       "</tr>\n",
       "<tr>\n",
       "  <th>Road_Type_Single carriageway</th>                    <td>    0.5460</td> <td>    0.002</td> <td>  226.694</td> <td> 0.000</td> <td>    0.541</td> <td>    0.551</td>\n",
       "</tr>\n",
       "<tr>\n",
       "  <th>Light_Conditions_Daylight: Street light present</th> <td>    0.3258</td> <td>    0.002</td> <td>  148.338</td> <td> 0.000</td> <td>    0.321</td> <td>    0.330</td>\n",
       "</tr>\n",
       "<tr>\n",
       "  <th>Weather_Conditions_Raining without high winds</th>   <td>    0.0371</td> <td>    0.003</td> <td>   13.750</td> <td> 0.000</td> <td>    0.032</td> <td>    0.042</td>\n",
       "</tr>\n",
       "<tr>\n",
       "  <th>Road_Surface_Conditions_Wet/Damp</th>                <td>    0.0402</td> <td>    0.002</td> <td>   17.450</td> <td> 0.000</td> <td>    0.036</td> <td>    0.045</td>\n",
       "</tr>\n",
       "<tr>\n",
       "  <th>Special_Conditions_at_Site_Roadworks</th>            <td>    0.0578</td> <td>    0.003</td> <td>   17.749</td> <td> 0.000</td> <td>    0.051</td> <td>    0.064</td>\n",
       "</tr>\n",
       "<tr>\n",
       "  <th>Did_Police_Officer_Attend_Scene_of_Accident_Yes</th> <td>    0.3256</td> <td>    0.002</td> <td>  146.949</td> <td> 0.000</td> <td>    0.321</td> <td>    0.330</td>\n",
       "</tr>\n",
       "<tr>\n",
       "  <th>Local_Authority_Highway_statewise_S</th>             <td>    0.0996</td> <td>    0.004</td> <td>   25.968</td> <td> 0.000</td> <td>    0.092</td> <td>    0.107</td>\n",
       "</tr>\n",
       "<tr>\n",
       "  <th>Local_Authority_Highway_statewise_W</th>             <td>    0.1282</td> <td>    0.005</td> <td>   27.972</td> <td> 0.000</td> <td>    0.119</td> <td>    0.137</td>\n",
       "</tr>\n",
       "<tr>\n",
       "  <th>Police_Force</th>                                    <td>    0.0297</td> <td>    0.002</td> <td>   17.886</td> <td> 0.000</td> <td>    0.026</td> <td>    0.033</td>\n",
       "</tr>\n",
       "<tr>\n",
       "  <th>Number_of_Vehicles</th>                              <td>    0.0057</td> <td>    0.001</td> <td>    5.497</td> <td> 0.000</td> <td>    0.004</td> <td>    0.008</td>\n",
       "</tr>\n",
       "<tr>\n",
       "  <th>Day_of_Week</th>                                     <td> 6.263e-05</td> <td>    0.001</td> <td>    0.064</td> <td> 0.949</td> <td>   -0.002</td> <td>    0.002</td>\n",
       "</tr>\n",
       "<tr>\n",
       "  <th>Time</th>                                            <td>   -0.0007</td> <td>    0.001</td> <td>   -0.756</td> <td> 0.450</td> <td>   -0.003</td> <td>    0.001</td>\n",
       "</tr>\n",
       "<tr>\n",
       "  <th>Local_Authority_(District)</th>                      <td>    0.0305</td> <td>    0.002</td> <td>   18.301</td> <td> 0.000</td> <td>    0.027</td> <td>    0.034</td>\n",
       "</tr>\n",
       "<tr>\n",
       "  <th>1st_Road_Class</th>                                  <td>   -0.0100</td> <td>    0.001</td> <td>   -9.240</td> <td> 0.000</td> <td>   -0.012</td> <td>   -0.008</td>\n",
       "</tr>\n",
       "<tr>\n",
       "  <th>1st_Road_Number</th>                                 <td>   -0.0057</td> <td>    0.001</td> <td>   -5.750</td> <td> 0.000</td> <td>   -0.008</td> <td>   -0.004</td>\n",
       "</tr>\n",
       "<tr>\n",
       "  <th>Speed_limit</th>                                     <td>    0.0099</td> <td>    0.001</td> <td>    8.603</td> <td> 0.000</td> <td>    0.008</td> <td>    0.012</td>\n",
       "</tr>\n",
       "<tr>\n",
       "  <th>2nd_Road_Class</th>                                  <td>   -0.0156</td> <td>    0.001</td> <td>  -13.857</td> <td> 0.000</td> <td>   -0.018</td> <td>   -0.013</td>\n",
       "</tr>\n",
       "<tr>\n",
       "  <th>Urban_or_Rural_Area</th>                             <td>   -0.0096</td> <td>    0.001</td> <td>   -7.950</td> <td> 0.000</td> <td>   -0.012</td> <td>   -0.007</td>\n",
       "</tr>\n",
       "<tr>\n",
       "  <th>Day</th>                                             <td>    0.0015</td> <td>    0.001</td> <td>    1.535</td> <td> 0.125</td> <td>   -0.000</td> <td>    0.003</td>\n",
       "</tr>\n",
       "<tr>\n",
       "  <th>Month</th>                                           <td>   -0.0231</td> <td>    0.001</td> <td>  -23.366</td> <td> 0.000</td> <td>   -0.025</td> <td>   -0.021</td>\n",
       "</tr>\n",
       "<tr>\n",
       "  <th>Year</th>                                            <td>   -0.1908</td> <td>    0.001</td> <td> -176.966</td> <td> 0.000</td> <td>   -0.193</td> <td>   -0.189</td>\n",
       "</tr>\n",
       "<tr>\n",
       "  <th>postcode_label_encoded</th>                          <td>   -0.0021</td> <td>    0.001</td> <td>   -2.171</td> <td> 0.030</td> <td>   -0.004</td> <td>   -0.000</td>\n",
       "</tr>\n",
       "</table>\n",
       "<table class=\"simpletable\">\n",
       "<tr>\n",
       "  <th>Omnibus:</th>       <td>5045.775</td> <th>  Durbin-Watson:     </th> <td>   1.973</td>\n",
       "</tr>\n",
       "<tr>\n",
       "  <th>Prob(Omnibus):</th>  <td> 0.000</td>  <th>  Jarque-Bera (JB):  </th> <td>5698.458</td>\n",
       "</tr>\n",
       "<tr>\n",
       "  <th>Skew:</th>           <td> 0.340</td>  <th>  Prob(JB):          </th> <td>    0.00</td>\n",
       "</tr>\n",
       "<tr>\n",
       "  <th>Kurtosis:</th>       <td> 3.396</td>  <th>  Cond. No.          </th> <td>    7.87</td>\n",
       "</tr>\n",
       "</table><br/><br/>Notes:<br/>[1] R² is computed without centering (uncentered) since the model does not contain a constant.<br/>[2] Standard Errors assume that the covariance matrix of the errors is correctly specified."
      ],
      "text/plain": [
       "<class 'statsmodels.iolib.summary.Summary'>\n",
       "\"\"\"\n",
       "                                 OLS Regression Results                                 \n",
       "========================================================================================\n",
       "Dep. Variable:     Accident_Risk_Index   R-squared (uncentered):                   0.854\n",
       "Model:                             OLS   Adj. R-squared (uncentered):              0.854\n",
       "Method:                  Least Squares   F-statistic:                          5.862e+04\n",
       "Date:                 Fri, 22 Jul 2022   Prob (F-statistic):                        0.00\n",
       "Time:                         11:07:34   Log-Likelihood:                     -1.3979e+05\n",
       "No. Observations:               220455   AIC:                                  2.796e+05\n",
       "Df Residuals:                   220433   BIC:                                  2.799e+05\n",
       "Df Model:                           22                                                  \n",
       "Covariance Type:             nonrobust                                                  \n",
       "===================================================================================================================\n",
       "                                                      coef    std err          t      P>|t|      [0.025      0.975]\n",
       "-------------------------------------------------------------------------------------------------------------------\n",
       "Road_Type_Single carriageway                        0.5460      0.002    226.694      0.000       0.541       0.551\n",
       "Light_Conditions_Daylight: Street light present     0.3258      0.002    148.338      0.000       0.321       0.330\n",
       "Weather_Conditions_Raining without high winds       0.0371      0.003     13.750      0.000       0.032       0.042\n",
       "Road_Surface_Conditions_Wet/Damp                    0.0402      0.002     17.450      0.000       0.036       0.045\n",
       "Special_Conditions_at_Site_Roadworks                0.0578      0.003     17.749      0.000       0.051       0.064\n",
       "Did_Police_Officer_Attend_Scene_of_Accident_Yes     0.3256      0.002    146.949      0.000       0.321       0.330\n",
       "Local_Authority_Highway_statewise_S                 0.0996      0.004     25.968      0.000       0.092       0.107\n",
       "Local_Authority_Highway_statewise_W                 0.1282      0.005     27.972      0.000       0.119       0.137\n",
       "Police_Force                                        0.0297      0.002     17.886      0.000       0.026       0.033\n",
       "Number_of_Vehicles                                  0.0057      0.001      5.497      0.000       0.004       0.008\n",
       "Day_of_Week                                      6.263e-05      0.001      0.064      0.949      -0.002       0.002\n",
       "Time                                               -0.0007      0.001     -0.756      0.450      -0.003       0.001\n",
       "Local_Authority_(District)                          0.0305      0.002     18.301      0.000       0.027       0.034\n",
       "1st_Road_Class                                     -0.0100      0.001     -9.240      0.000      -0.012      -0.008\n",
       "1st_Road_Number                                    -0.0057      0.001     -5.750      0.000      -0.008      -0.004\n",
       "Speed_limit                                         0.0099      0.001      8.603      0.000       0.008       0.012\n",
       "2nd_Road_Class                                     -0.0156      0.001    -13.857      0.000      -0.018      -0.013\n",
       "Urban_or_Rural_Area                                -0.0096      0.001     -7.950      0.000      -0.012      -0.007\n",
       "Day                                                 0.0015      0.001      1.535      0.125      -0.000       0.003\n",
       "Month                                              -0.0231      0.001    -23.366      0.000      -0.025      -0.021\n",
       "Year                                               -0.1908      0.001   -176.966      0.000      -0.193      -0.189\n",
       "postcode_label_encoded                             -0.0021      0.001     -2.171      0.030      -0.004      -0.000\n",
       "==============================================================================\n",
       "Omnibus:                     5045.775   Durbin-Watson:                   1.973\n",
       "Prob(Omnibus):                  0.000   Jarque-Bera (JB):             5698.458\n",
       "Skew:                           0.340   Prob(JB):                         0.00\n",
       "Kurtosis:                       3.396   Cond. No.                         7.87\n",
       "==============================================================================\n",
       "\n",
       "Notes:\n",
       "[1] R² is computed without centering (uncentered) since the model does not contain a constant.\n",
       "[2] Standard Errors assume that the covariance matrix of the errors is correctly specified.\n",
       "\"\"\""
      ]
     },
     "execution_count": 172,
     "metadata": {},
     "output_type": "execute_result"
    }
   ],
   "source": [
    "model = sm.OLS(ytrain, xtrain).fit()\n",
    "model.summary()"
   ]
  },
  {
   "cell_type": "code",
   "execution_count": 173,
   "id": "1e4c5e25",
   "metadata": {},
   "outputs": [
    {
     "name": "stdout",
     "output_type": "stream",
     "text": [
      "0.45619548479294303 0.4564650487030531\n"
     ]
    }
   ],
   "source": [
    "from sklearn.metrics import mean_absolute_error, mean_squared_error,r2_score\n",
    "\n",
    "pred_train = model.predict(xtrain)\n",
    "mae_train = mean_absolute_error(ytrain, pred_train)\n",
    "\n",
    "pred_test = model.predict(xtest)\n",
    "mae_test = mean_absolute_error(ytest, pred_test)\n",
    "\n",
    "\n",
    "#MSE\n",
    "\n",
    "mse_train = mean_squared_error(ytrain, pred_train)\n",
    "mse_test = mean_squared_error(ytest, pred_test)\n",
    "\n",
    "\n",
    "# Root Mean Squared Error\n",
    "\n",
    "rmse_train = np.sqrt(mse_train)\n",
    "rmse_test = np.sqrt(mse_test)\n",
    "\n",
    "\n",
    "print(rmse_train,rmse_test)"
   ]
  },
  {
   "cell_type": "code",
   "execution_count": 174,
   "id": "c113b1f2",
   "metadata": {},
   "outputs": [
    {
     "data": {
      "text/html": [
       "<div>\n",
       "<style scoped>\n",
       "    .dataframe tbody tr th:only-of-type {\n",
       "        vertical-align: middle;\n",
       "    }\n",
       "\n",
       "    .dataframe tbody tr th {\n",
       "        vertical-align: top;\n",
       "    }\n",
       "\n",
       "    .dataframe thead th {\n",
       "        text-align: right;\n",
       "    }\n",
       "</style>\n",
       "<table border=\"1\" class=\"dataframe\">\n",
       "  <thead>\n",
       "    <tr style=\"text-align: right;\">\n",
       "      <th></th>\n",
       "      <th>Model_Name</th>\n",
       "      <th>RMSE Train</th>\n",
       "      <th>RMSE Test</th>\n",
       "      <th>MAE Train</th>\n",
       "      <th>MAE Test</th>\n",
       "    </tr>\n",
       "  </thead>\n",
       "  <tbody>\n",
       "    <tr>\n",
       "      <th>0</th>\n",
       "      <td>Full Model</td>\n",
       "      <td>0.456195</td>\n",
       "      <td>0.456465</td>\n",
       "      <td>0.357047</td>\n",
       "      <td>0.357877</td>\n",
       "    </tr>\n",
       "  </tbody>\n",
       "</table>\n",
       "</div>"
      ],
      "text/plain": [
       "   Model_Name RMSE Train RMSE Test MAE Train  MAE Test\n",
       "0  Full Model   0.456195  0.456465  0.357047  0.357877"
      ]
     },
     "execution_count": 174,
     "metadata": {},
     "output_type": "execute_result"
    }
   ],
   "source": [
    "cols = ['Model_Name','RMSE Train','RMSE Test','MAE Train','MAE Test']\n",
    "\n",
    "results = pd.DataFrame(columns = cols)\n",
    "\n",
    "mlmodel = pd.Series({'Model_Name':'Full Model','RMSE Train':rmse_train,'RMSE Test':rmse_test,'MAE Train':mae_train,\n",
    "                    'MAE Test':mae_test})\n",
    "results = results.append(mlmodel, ignore_index = True)\n",
    "results"
   ]
  },
  {
   "cell_type": "markdown",
   "id": "7432cdf0",
   "metadata": {},
   "source": [
    "# Random Forest Model"
   ]
  },
  {
   "cell_type": "code",
   "execution_count": 175,
   "id": "9e53d844",
   "metadata": {},
   "outputs": [
    {
     "name": "stdout",
     "output_type": "stream",
     "text": [
      "0.1435957472936126 0.38437877466597037\n"
     ]
    },
    {
     "data": {
      "text/html": [
       "<div>\n",
       "<style scoped>\n",
       "    .dataframe tbody tr th:only-of-type {\n",
       "        vertical-align: middle;\n",
       "    }\n",
       "\n",
       "    .dataframe tbody tr th {\n",
       "        vertical-align: top;\n",
       "    }\n",
       "\n",
       "    .dataframe thead th {\n",
       "        text-align: right;\n",
       "    }\n",
       "</style>\n",
       "<table border=\"1\" class=\"dataframe\">\n",
       "  <thead>\n",
       "    <tr style=\"text-align: right;\">\n",
       "      <th></th>\n",
       "      <th>Model_Name</th>\n",
       "      <th>RMSE Train</th>\n",
       "      <th>RMSE Test</th>\n",
       "      <th>MAE Train</th>\n",
       "      <th>MAE Test</th>\n",
       "    </tr>\n",
       "  </thead>\n",
       "  <tbody>\n",
       "    <tr>\n",
       "      <th>0</th>\n",
       "      <td>Full Model</td>\n",
       "      <td>0.456195</td>\n",
       "      <td>0.456465</td>\n",
       "      <td>0.357047</td>\n",
       "      <td>0.357877</td>\n",
       "    </tr>\n",
       "    <tr>\n",
       "      <th>1</th>\n",
       "      <td>RandomForest Model</td>\n",
       "      <td>0.143596</td>\n",
       "      <td>0.384379</td>\n",
       "      <td>0.111337</td>\n",
       "      <td>0.300428</td>\n",
       "    </tr>\n",
       "  </tbody>\n",
       "</table>\n",
       "</div>"
      ],
      "text/plain": [
       "           Model_Name RMSE Train RMSE Test MAE Train  MAE Test\n",
       "0          Full Model   0.456195  0.456465  0.357047  0.357877\n",
       "1  RandomForest Model   0.143596  0.384379  0.111337  0.300428"
      ]
     },
     "execution_count": 175,
     "metadata": {},
     "output_type": "execute_result"
    }
   ],
   "source": [
    "from sklearn.ensemble import RandomForestRegressor\n",
    "rf_model = RandomForestRegressor(random_state=10).fit(xtrain,ytrain)\n",
    "\n",
    "\n",
    "pred_train = rf_model.predict(xtrain)\n",
    "mae_train = mean_absolute_error(ytrain, pred_train)\n",
    "\n",
    "pred_test = rf_model.predict(xtest)\n",
    "mae_test = mean_absolute_error(ytest, pred_test)\n",
    "\n",
    "\n",
    "#MSE\n",
    "\n",
    "mse_train = mean_squared_error(ytrain, pred_train)\n",
    "mse_test = mean_squared_error(ytest, pred_test)\n",
    "\n",
    "\n",
    "# Root Mean Squared Error\n",
    "\n",
    "rmse_train = np.sqrt(mse_train)\n",
    "rmse_test = np.sqrt(mse_test)\n",
    "\n",
    "\n",
    "print(rmse_train,rmse_test)\n",
    "\n",
    "\n",
    "mlmodel = pd.Series({'Model_Name':'RandomForest Model','RMSE Train':rmse_train,'RMSE Test':rmse_test,'MAE Train':mae_train,\n",
    "                    'MAE Test':mae_test})\n",
    "results = results.append(mlmodel, ignore_index = True)\n",
    "results"
   ]
  },
  {
   "cell_type": "markdown",
   "id": "a2e67bbc",
   "metadata": {},
   "source": [
    "# Xgboost Model"
   ]
  },
  {
   "cell_type": "code",
   "execution_count": 176,
   "id": "5626314f",
   "metadata": {
    "scrolled": true
   },
   "outputs": [
    {
     "name": "stdout",
     "output_type": "stream",
     "text": [
      "[11:15:30] DEBUG: C:/Users/Administrator/workspace/xgboost-win64_release_1.6.0/src/gbm/gbtree.cc:155: Using tree method: 2\n",
      "[11:15:30] INFO: C:/Users/Administrator/workspace/xgboost-win64_release_1.6.0/src/tree/updater_prune.cc:101: tree pruning end, 126 extra nodes, 0 pruned nodes, max_depth=6\n",
      "[11:15:30] INFO: C:/Users/Administrator/workspace/xgboost-win64_release_1.6.0/src/tree/updater_prune.cc:101: tree pruning end, 126 extra nodes, 0 pruned nodes, max_depth=6\n",
      "[11:15:30] INFO: C:/Users/Administrator/workspace/xgboost-win64_release_1.6.0/src/tree/updater_prune.cc:101: tree pruning end, 126 extra nodes, 0 pruned nodes, max_depth=6\n",
      "[11:15:30] INFO: C:/Users/Administrator/workspace/xgboost-win64_release_1.6.0/src/tree/updater_prune.cc:101: tree pruning end, 126 extra nodes, 0 pruned nodes, max_depth=6\n",
      "[11:15:31] INFO: C:/Users/Administrator/workspace/xgboost-win64_release_1.6.0/src/tree/updater_prune.cc:101: tree pruning end, 126 extra nodes, 0 pruned nodes, max_depth=6\n",
      "[11:15:31] INFO: C:/Users/Administrator/workspace/xgboost-win64_release_1.6.0/src/tree/updater_prune.cc:101: tree pruning end, 126 extra nodes, 0 pruned nodes, max_depth=6\n",
      "[11:15:31] INFO: C:/Users/Administrator/workspace/xgboost-win64_release_1.6.0/src/tree/updater_prune.cc:101: tree pruning end, 126 extra nodes, 0 pruned nodes, max_depth=6\n",
      "[11:15:31] INFO: C:/Users/Administrator/workspace/xgboost-win64_release_1.6.0/src/tree/updater_prune.cc:101: tree pruning end, 124 extra nodes, 0 pruned nodes, max_depth=6\n",
      "[11:15:31] INFO: C:/Users/Administrator/workspace/xgboost-win64_release_1.6.0/src/tree/updater_prune.cc:101: tree pruning end, 116 extra nodes, 0 pruned nodes, max_depth=6\n",
      "[11:15:32] INFO: C:/Users/Administrator/workspace/xgboost-win64_release_1.6.0/src/tree/updater_prune.cc:101: tree pruning end, 126 extra nodes, 0 pruned nodes, max_depth=6\n",
      "[11:15:32] INFO: C:/Users/Administrator/workspace/xgboost-win64_release_1.6.0/src/tree/updater_prune.cc:101: tree pruning end, 126 extra nodes, 0 pruned nodes, max_depth=6\n",
      "[11:15:32] INFO: C:/Users/Administrator/workspace/xgboost-win64_release_1.6.0/src/tree/updater_prune.cc:101: tree pruning end, 124 extra nodes, 0 pruned nodes, max_depth=6\n",
      "[11:15:32] INFO: C:/Users/Administrator/workspace/xgboost-win64_release_1.6.0/src/tree/updater_prune.cc:101: tree pruning end, 122 extra nodes, 0 pruned nodes, max_depth=6\n",
      "[11:15:32] INFO: C:/Users/Administrator/workspace/xgboost-win64_release_1.6.0/src/tree/updater_prune.cc:101: tree pruning end, 124 extra nodes, 0 pruned nodes, max_depth=6\n",
      "[11:15:33] INFO: C:/Users/Administrator/workspace/xgboost-win64_release_1.6.0/src/tree/updater_prune.cc:101: tree pruning end, 120 extra nodes, 0 pruned nodes, max_depth=6\n",
      "[11:15:33] INFO: C:/Users/Administrator/workspace/xgboost-win64_release_1.6.0/src/tree/updater_prune.cc:101: tree pruning end, 126 extra nodes, 0 pruned nodes, max_depth=6\n",
      "[11:15:33] INFO: C:/Users/Administrator/workspace/xgboost-win64_release_1.6.0/src/tree/updater_prune.cc:101: tree pruning end, 124 extra nodes, 0 pruned nodes, max_depth=6\n",
      "[11:15:33] INFO: C:/Users/Administrator/workspace/xgboost-win64_release_1.6.0/src/tree/updater_prune.cc:101: tree pruning end, 126 extra nodes, 0 pruned nodes, max_depth=6\n",
      "[11:15:33] INFO: C:/Users/Administrator/workspace/xgboost-win64_release_1.6.0/src/tree/updater_prune.cc:101: tree pruning end, 124 extra nodes, 0 pruned nodes, max_depth=6\n",
      "[11:15:33] INFO: C:/Users/Administrator/workspace/xgboost-win64_release_1.6.0/src/tree/updater_prune.cc:101: tree pruning end, 124 extra nodes, 0 pruned nodes, max_depth=6\n",
      "[11:15:34] INFO: C:/Users/Administrator/workspace/xgboost-win64_release_1.6.0/src/tree/updater_prune.cc:101: tree pruning end, 122 extra nodes, 0 pruned nodes, max_depth=6\n",
      "[11:15:34] INFO: C:/Users/Administrator/workspace/xgboost-win64_release_1.6.0/src/tree/updater_prune.cc:101: tree pruning end, 124 extra nodes, 0 pruned nodes, max_depth=6\n",
      "[11:15:34] INFO: C:/Users/Administrator/workspace/xgboost-win64_release_1.6.0/src/tree/updater_prune.cc:101: tree pruning end, 116 extra nodes, 0 pruned nodes, max_depth=6\n",
      "[11:15:34] INFO: C:/Users/Administrator/workspace/xgboost-win64_release_1.6.0/src/tree/updater_prune.cc:101: tree pruning end, 102 extra nodes, 0 pruned nodes, max_depth=6\n",
      "[11:15:34] INFO: C:/Users/Administrator/workspace/xgboost-win64_release_1.6.0/src/tree/updater_prune.cc:101: tree pruning end, 120 extra nodes, 0 pruned nodes, max_depth=6\n",
      "[11:15:34] INFO: C:/Users/Administrator/workspace/xgboost-win64_release_1.6.0/src/tree/updater_prune.cc:101: tree pruning end, 118 extra nodes, 0 pruned nodes, max_depth=6\n",
      "[11:15:35] INFO: C:/Users/Administrator/workspace/xgboost-win64_release_1.6.0/src/tree/updater_prune.cc:101: tree pruning end, 90 extra nodes, 0 pruned nodes, max_depth=6\n",
      "[11:15:35] INFO: C:/Users/Administrator/workspace/xgboost-win64_release_1.6.0/src/tree/updater_prune.cc:101: tree pruning end, 120 extra nodes, 0 pruned nodes, max_depth=6\n",
      "[11:15:35] INFO: C:/Users/Administrator/workspace/xgboost-win64_release_1.6.0/src/tree/updater_prune.cc:101: tree pruning end, 126 extra nodes, 0 pruned nodes, max_depth=6\n",
      "[11:15:35] INFO: C:/Users/Administrator/workspace/xgboost-win64_release_1.6.0/src/tree/updater_prune.cc:101: tree pruning end, 126 extra nodes, 0 pruned nodes, max_depth=6\n",
      "[11:15:35] INFO: C:/Users/Administrator/workspace/xgboost-win64_release_1.6.0/src/tree/updater_prune.cc:101: tree pruning end, 86 extra nodes, 0 pruned nodes, max_depth=6\n",
      "[11:15:35] INFO: C:/Users/Administrator/workspace/xgboost-win64_release_1.6.0/src/tree/updater_prune.cc:101: tree pruning end, 100 extra nodes, 0 pruned nodes, max_depth=6\n",
      "[11:15:36] INFO: C:/Users/Administrator/workspace/xgboost-win64_release_1.6.0/src/tree/updater_prune.cc:101: tree pruning end, 102 extra nodes, 0 pruned nodes, max_depth=6\n",
      "[11:15:36] INFO: C:/Users/Administrator/workspace/xgboost-win64_release_1.6.0/src/tree/updater_prune.cc:101: tree pruning end, 118 extra nodes, 0 pruned nodes, max_depth=6\n",
      "[11:15:36] INFO: C:/Users/Administrator/workspace/xgboost-win64_release_1.6.0/src/tree/updater_prune.cc:101: tree pruning end, 116 extra nodes, 0 pruned nodes, max_depth=6\n",
      "[11:15:36] INFO: C:/Users/Administrator/workspace/xgboost-win64_release_1.6.0/src/tree/updater_prune.cc:101: tree pruning end, 124 extra nodes, 0 pruned nodes, max_depth=6\n",
      "[11:15:36] INFO: C:/Users/Administrator/workspace/xgboost-win64_release_1.6.0/src/tree/updater_prune.cc:101: tree pruning end, 92 extra nodes, 0 pruned nodes, max_depth=6\n",
      "[11:15:36] INFO: C:/Users/Administrator/workspace/xgboost-win64_release_1.6.0/src/tree/updater_prune.cc:101: tree pruning end, 116 extra nodes, 0 pruned nodes, max_depth=6\n",
      "[11:15:37] INFO: C:/Users/Administrator/workspace/xgboost-win64_release_1.6.0/src/tree/updater_prune.cc:101: tree pruning end, 112 extra nodes, 0 pruned nodes, max_depth=6\n",
      "[11:15:37] INFO: C:/Users/Administrator/workspace/xgboost-win64_release_1.6.0/src/tree/updater_prune.cc:101: tree pruning end, 112 extra nodes, 0 pruned nodes, max_depth=6\n",
      "[11:15:37] INFO: C:/Users/Administrator/workspace/xgboost-win64_release_1.6.0/src/tree/updater_prune.cc:101: tree pruning end, 126 extra nodes, 0 pruned nodes, max_depth=6\n",
      "[11:15:37] INFO: C:/Users/Administrator/workspace/xgboost-win64_release_1.6.0/src/tree/updater_prune.cc:101: tree pruning end, 118 extra nodes, 0 pruned nodes, max_depth=6\n",
      "[11:15:37] INFO: C:/Users/Administrator/workspace/xgboost-win64_release_1.6.0/src/tree/updater_prune.cc:101: tree pruning end, 124 extra nodes, 0 pruned nodes, max_depth=6\n",
      "[11:15:37] INFO: C:/Users/Administrator/workspace/xgboost-win64_release_1.6.0/src/tree/updater_prune.cc:101: tree pruning end, 126 extra nodes, 0 pruned nodes, max_depth=6\n",
      "[11:15:38] INFO: C:/Users/Administrator/workspace/xgboost-win64_release_1.6.0/src/tree/updater_prune.cc:101: tree pruning end, 90 extra nodes, 0 pruned nodes, max_depth=6\n",
      "[11:15:38] INFO: C:/Users/Administrator/workspace/xgboost-win64_release_1.6.0/src/tree/updater_prune.cc:101: tree pruning end, 74 extra nodes, 0 pruned nodes, max_depth=6\n",
      "[11:15:38] INFO: C:/Users/Administrator/workspace/xgboost-win64_release_1.6.0/src/tree/updater_prune.cc:101: tree pruning end, 116 extra nodes, 0 pruned nodes, max_depth=6\n",
      "[11:15:38] INFO: C:/Users/Administrator/workspace/xgboost-win64_release_1.6.0/src/tree/updater_prune.cc:101: tree pruning end, 102 extra nodes, 0 pruned nodes, max_depth=6\n"
     ]
    },
    {
     "name": "stdout",
     "output_type": "stream",
     "text": [
      "[11:15:38] INFO: C:/Users/Administrator/workspace/xgboost-win64_release_1.6.0/src/tree/updater_prune.cc:101: tree pruning end, 122 extra nodes, 0 pruned nodes, max_depth=6\n",
      "[11:15:38] INFO: C:/Users/Administrator/workspace/xgboost-win64_release_1.6.0/src/tree/updater_prune.cc:101: tree pruning end, 112 extra nodes, 0 pruned nodes, max_depth=6\n",
      "[11:15:38] INFO: C:/Users/Administrator/workspace/xgboost-win64_release_1.6.0/src/tree/updater_prune.cc:101: tree pruning end, 94 extra nodes, 0 pruned nodes, max_depth=6\n",
      "[11:15:39] INFO: C:/Users/Administrator/workspace/xgboost-win64_release_1.6.0/src/tree/updater_prune.cc:101: tree pruning end, 96 extra nodes, 0 pruned nodes, max_depth=6\n",
      "[11:15:39] INFO: C:/Users/Administrator/workspace/xgboost-win64_release_1.6.0/src/tree/updater_prune.cc:101: tree pruning end, 110 extra nodes, 0 pruned nodes, max_depth=6\n",
      "[11:15:39] INFO: C:/Users/Administrator/workspace/xgboost-win64_release_1.6.0/src/tree/updater_prune.cc:101: tree pruning end, 126 extra nodes, 0 pruned nodes, max_depth=6\n",
      "[11:15:39] INFO: C:/Users/Administrator/workspace/xgboost-win64_release_1.6.0/src/tree/updater_prune.cc:101: tree pruning end, 102 extra nodes, 0 pruned nodes, max_depth=6\n",
      "[11:15:39] INFO: C:/Users/Administrator/workspace/xgboost-win64_release_1.6.0/src/tree/updater_prune.cc:101: tree pruning end, 124 extra nodes, 0 pruned nodes, max_depth=6\n",
      "[11:15:39] INFO: C:/Users/Administrator/workspace/xgboost-win64_release_1.6.0/src/tree/updater_prune.cc:101: tree pruning end, 124 extra nodes, 0 pruned nodes, max_depth=6\n",
      "[11:15:40] INFO: C:/Users/Administrator/workspace/xgboost-win64_release_1.6.0/src/tree/updater_prune.cc:101: tree pruning end, 122 extra nodes, 0 pruned nodes, max_depth=6\n",
      "[11:15:40] INFO: C:/Users/Administrator/workspace/xgboost-win64_release_1.6.0/src/tree/updater_prune.cc:101: tree pruning end, 116 extra nodes, 0 pruned nodes, max_depth=6\n",
      "[11:15:40] INFO: C:/Users/Administrator/workspace/xgboost-win64_release_1.6.0/src/tree/updater_prune.cc:101: tree pruning end, 122 extra nodes, 0 pruned nodes, max_depth=6\n",
      "[11:15:40] INFO: C:/Users/Administrator/workspace/xgboost-win64_release_1.6.0/src/tree/updater_prune.cc:101: tree pruning end, 106 extra nodes, 0 pruned nodes, max_depth=6\n",
      "[11:15:40] INFO: C:/Users/Administrator/workspace/xgboost-win64_release_1.6.0/src/tree/updater_prune.cc:101: tree pruning end, 106 extra nodes, 0 pruned nodes, max_depth=6\n",
      "[11:15:40] INFO: C:/Users/Administrator/workspace/xgboost-win64_release_1.6.0/src/tree/updater_prune.cc:101: tree pruning end, 92 extra nodes, 0 pruned nodes, max_depth=6\n",
      "[11:15:41] INFO: C:/Users/Administrator/workspace/xgboost-win64_release_1.6.0/src/tree/updater_prune.cc:101: tree pruning end, 110 extra nodes, 0 pruned nodes, max_depth=6\n",
      "[11:15:41] INFO: C:/Users/Administrator/workspace/xgboost-win64_release_1.6.0/src/tree/updater_prune.cc:101: tree pruning end, 122 extra nodes, 0 pruned nodes, max_depth=6\n",
      "[11:15:41] INFO: C:/Users/Administrator/workspace/xgboost-win64_release_1.6.0/src/tree/updater_prune.cc:101: tree pruning end, 106 extra nodes, 0 pruned nodes, max_depth=6\n",
      "[11:15:41] INFO: C:/Users/Administrator/workspace/xgboost-win64_release_1.6.0/src/tree/updater_prune.cc:101: tree pruning end, 68 extra nodes, 0 pruned nodes, max_depth=6\n",
      "[11:15:41] INFO: C:/Users/Administrator/workspace/xgboost-win64_release_1.6.0/src/tree/updater_prune.cc:101: tree pruning end, 118 extra nodes, 0 pruned nodes, max_depth=6\n",
      "[11:15:41] INFO: C:/Users/Administrator/workspace/xgboost-win64_release_1.6.0/src/tree/updater_prune.cc:101: tree pruning end, 110 extra nodes, 0 pruned nodes, max_depth=6\n",
      "[11:15:41] INFO: C:/Users/Administrator/workspace/xgboost-win64_release_1.6.0/src/tree/updater_prune.cc:101: tree pruning end, 122 extra nodes, 0 pruned nodes, max_depth=6\n",
      "[11:15:42] INFO: C:/Users/Administrator/workspace/xgboost-win64_release_1.6.0/src/tree/updater_prune.cc:101: tree pruning end, 124 extra nodes, 0 pruned nodes, max_depth=6\n",
      "[11:15:42] INFO: C:/Users/Administrator/workspace/xgboost-win64_release_1.6.0/src/tree/updater_prune.cc:101: tree pruning end, 84 extra nodes, 0 pruned nodes, max_depth=6\n",
      "[11:15:42] INFO: C:/Users/Administrator/workspace/xgboost-win64_release_1.6.0/src/tree/updater_prune.cc:101: tree pruning end, 66 extra nodes, 0 pruned nodes, max_depth=6\n",
      "[11:15:42] INFO: C:/Users/Administrator/workspace/xgboost-win64_release_1.6.0/src/tree/updater_prune.cc:101: tree pruning end, 112 extra nodes, 0 pruned nodes, max_depth=6\n",
      "[11:15:42] INFO: C:/Users/Administrator/workspace/xgboost-win64_release_1.6.0/src/tree/updater_prune.cc:101: tree pruning end, 122 extra nodes, 0 pruned nodes, max_depth=6\n",
      "[11:15:42] INFO: C:/Users/Administrator/workspace/xgboost-win64_release_1.6.0/src/tree/updater_prune.cc:101: tree pruning end, 120 extra nodes, 0 pruned nodes, max_depth=6\n",
      "[11:15:43] INFO: C:/Users/Administrator/workspace/xgboost-win64_release_1.6.0/src/tree/updater_prune.cc:101: tree pruning end, 114 extra nodes, 0 pruned nodes, max_depth=6\n",
      "[11:15:43] INFO: C:/Users/Administrator/workspace/xgboost-win64_release_1.6.0/src/tree/updater_prune.cc:101: tree pruning end, 116 extra nodes, 0 pruned nodes, max_depth=6\n",
      "[11:15:43] INFO: C:/Users/Administrator/workspace/xgboost-win64_release_1.6.0/src/tree/updater_prune.cc:101: tree pruning end, 82 extra nodes, 0 pruned nodes, max_depth=6\n",
      "[11:15:43] INFO: C:/Users/Administrator/workspace/xgboost-win64_release_1.6.0/src/tree/updater_prune.cc:101: tree pruning end, 82 extra nodes, 0 pruned nodes, max_depth=6\n",
      "[11:15:43] INFO: C:/Users/Administrator/workspace/xgboost-win64_release_1.6.0/src/tree/updater_prune.cc:101: tree pruning end, 114 extra nodes, 0 pruned nodes, max_depth=6\n",
      "[11:15:43] INFO: C:/Users/Administrator/workspace/xgboost-win64_release_1.6.0/src/tree/updater_prune.cc:101: tree pruning end, 94 extra nodes, 0 pruned nodes, max_depth=6\n",
      "[11:15:43] INFO: C:/Users/Administrator/workspace/xgboost-win64_release_1.6.0/src/tree/updater_prune.cc:101: tree pruning end, 102 extra nodes, 0 pruned nodes, max_depth=6\n",
      "[11:15:44] INFO: C:/Users/Administrator/workspace/xgboost-win64_release_1.6.0/src/tree/updater_prune.cc:101: tree pruning end, 72 extra nodes, 0 pruned nodes, max_depth=6\n",
      "[11:15:44] INFO: C:/Users/Administrator/workspace/xgboost-win64_release_1.6.0/src/tree/updater_prune.cc:101: tree pruning end, 122 extra nodes, 0 pruned nodes, max_depth=6\n",
      "[11:15:44] INFO: C:/Users/Administrator/workspace/xgboost-win64_release_1.6.0/src/tree/updater_prune.cc:101: tree pruning end, 104 extra nodes, 0 pruned nodes, max_depth=6\n",
      "[11:15:44] INFO: C:/Users/Administrator/workspace/xgboost-win64_release_1.6.0/src/tree/updater_prune.cc:101: tree pruning end, 116 extra nodes, 0 pruned nodes, max_depth=6\n",
      "[11:15:44] INFO: C:/Users/Administrator/workspace/xgboost-win64_release_1.6.0/src/tree/updater_prune.cc:101: tree pruning end, 98 extra nodes, 0 pruned nodes, max_depth=6\n",
      "[11:15:44] INFO: C:/Users/Administrator/workspace/xgboost-win64_release_1.6.0/src/tree/updater_prune.cc:101: tree pruning end, 100 extra nodes, 0 pruned nodes, max_depth=6\n",
      "[11:15:45] INFO: C:/Users/Administrator/workspace/xgboost-win64_release_1.6.0/src/tree/updater_prune.cc:101: tree pruning end, 118 extra nodes, 0 pruned nodes, max_depth=6\n",
      "[11:15:45] INFO: C:/Users/Administrator/workspace/xgboost-win64_release_1.6.0/src/tree/updater_prune.cc:101: tree pruning end, 108 extra nodes, 0 pruned nodes, max_depth=6\n",
      "[11:15:45] INFO: C:/Users/Administrator/workspace/xgboost-win64_release_1.6.0/src/tree/updater_prune.cc:101: tree pruning end, 122 extra nodes, 0 pruned nodes, max_depth=6\n",
      "[11:15:45] INFO: C:/Users/Administrator/workspace/xgboost-win64_release_1.6.0/src/tree/updater_prune.cc:101: tree pruning end, 126 extra nodes, 0 pruned nodes, max_depth=6\n",
      "[11:15:45] INFO: C:/Users/Administrator/workspace/xgboost-win64_release_1.6.0/src/tree/updater_prune.cc:101: tree pruning end, 120 extra nodes, 0 pruned nodes, max_depth=6\n",
      "[11:15:45] INFO: C:/Users/Administrator/workspace/xgboost-win64_release_1.6.0/src/tree/updater_prune.cc:101: tree pruning end, 116 extra nodes, 0 pruned nodes, max_depth=6\n",
      "[11:15:46] INFO: C:/Users/Administrator/workspace/xgboost-win64_release_1.6.0/src/tree/updater_prune.cc:101: tree pruning end, 106 extra nodes, 0 pruned nodes, max_depth=6\n"
     ]
    },
    {
     "name": "stdout",
     "output_type": "stream",
     "text": [
      "[11:15:46] INFO: C:/Users/Administrator/workspace/xgboost-win64_release_1.6.0/src/tree/updater_prune.cc:101: tree pruning end, 120 extra nodes, 0 pruned nodes, max_depth=6\n",
      "[11:15:46] INFO: C:/Users/Administrator/workspace/xgboost-win64_release_1.6.0/src/tree/updater_prune.cc:101: tree pruning end, 90 extra nodes, 0 pruned nodes, max_depth=6\n",
      "[11:15:46] INFO: C:/Users/Administrator/workspace/xgboost-win64_release_1.6.0/src/tree/updater_prune.cc:101: tree pruning end, 94 extra nodes, 0 pruned nodes, max_depth=6\n",
      "[11:15:46] INFO: C:/Users/Administrator/workspace/xgboost-win64_release_1.6.0/src/tree/updater_prune.cc:101: tree pruning end, 108 extra nodes, 0 pruned nodes, max_depth=6\n",
      "[11:15:46] ======== Monitor (0): Learner ========\n",
      "[11:15:46] Configure: 4e-06s, 1 calls @ 4us\n",
      "\n",
      "[11:15:46] EvalOneIter: 0.004882s, 100 calls @ 4882us\n",
      "\n",
      "[11:15:46] GetGradient: 0.021595s, 100 calls @ 21595us\n",
      "\n",
      "[11:15:46] PredictRaw: 0.606239s, 100 calls @ 606239us\n",
      "\n",
      "[11:15:46] UpdateOneIter: 16.077s, 100 calls @ 16076962us\n",
      "\n",
      "[11:15:46] ======== Monitor (0): GBTree ========\n",
      "[11:15:46] BoostNewTrees: 15.7251s, 100 calls @ 15725058us\n",
      "\n",
      "[11:15:46] CommitModel: 9.2e-05s, 100 calls @ 92us\n",
      "\n",
      "[11:15:46] ======== Monitor (0): TreePruner ========\n",
      "[11:15:46] PrunerUpdate: 0.025536s, 100 calls @ 25536us\n",
      "\n",
      "0.36254514982721714 0.3774602926823307\n"
     ]
    },
    {
     "data": {
      "text/html": [
       "<div>\n",
       "<style scoped>\n",
       "    .dataframe tbody tr th:only-of-type {\n",
       "        vertical-align: middle;\n",
       "    }\n",
       "\n",
       "    .dataframe tbody tr th {\n",
       "        vertical-align: top;\n",
       "    }\n",
       "\n",
       "    .dataframe thead th {\n",
       "        text-align: right;\n",
       "    }\n",
       "</style>\n",
       "<table border=\"1\" class=\"dataframe\">\n",
       "  <thead>\n",
       "    <tr style=\"text-align: right;\">\n",
       "      <th></th>\n",
       "      <th>Model_Name</th>\n",
       "      <th>RMSE Train</th>\n",
       "      <th>RMSE Test</th>\n",
       "      <th>MAE Train</th>\n",
       "      <th>MAE Test</th>\n",
       "    </tr>\n",
       "  </thead>\n",
       "  <tbody>\n",
       "    <tr>\n",
       "      <th>0</th>\n",
       "      <td>Full Model</td>\n",
       "      <td>0.456195</td>\n",
       "      <td>0.456465</td>\n",
       "      <td>0.357047</td>\n",
       "      <td>0.357877</td>\n",
       "    </tr>\n",
       "    <tr>\n",
       "      <th>1</th>\n",
       "      <td>RandomForest Model</td>\n",
       "      <td>0.143596</td>\n",
       "      <td>0.384379</td>\n",
       "      <td>0.111337</td>\n",
       "      <td>0.300428</td>\n",
       "    </tr>\n",
       "    <tr>\n",
       "      <th>2</th>\n",
       "      <td>XGBOOST Model</td>\n",
       "      <td>0.362545</td>\n",
       "      <td>0.37746</td>\n",
       "      <td>0.282585</td>\n",
       "      <td>0.294343</td>\n",
       "    </tr>\n",
       "  </tbody>\n",
       "</table>\n",
       "</div>"
      ],
      "text/plain": [
       "           Model_Name RMSE Train RMSE Test MAE Train  MAE Test\n",
       "0          Full Model   0.456195  0.456465  0.357047  0.357877\n",
       "1  RandomForest Model   0.143596  0.384379  0.111337  0.300428\n",
       "2       XGBOOST Model   0.362545   0.37746  0.282585  0.294343"
      ]
     },
     "execution_count": 176,
     "metadata": {},
     "output_type": "execute_result"
    }
   ],
   "source": [
    "from xgboost import XGBRegressor\n",
    "xgb_model = XGBRegressor(verbosity=3,random_state=10).fit(xtrain,ytrain)\n",
    "\n",
    "\n",
    "pred_train = xgb_model.predict(xtrain)\n",
    "mae_train = mean_absolute_error(ytrain, pred_train)\n",
    "\n",
    "pred_test = xgb_model.predict(xtest)\n",
    "mae_test = mean_absolute_error(ytest, pred_test)\n",
    "\n",
    "\n",
    "#MSE\n",
    "\n",
    "mse_train = mean_squared_error(ytrain, pred_train)\n",
    "mse_test = mean_squared_error(ytest, pred_test)\n",
    "\n",
    "\n",
    "# Root Mean Squared Error\n",
    "\n",
    "rmse_train = np.sqrt(mse_train)\n",
    "rmse_test = np.sqrt(mse_test)\n",
    "\n",
    "\n",
    "print(rmse_train,rmse_test)\n",
    "\n",
    "\n",
    "mlmodel = pd.Series({'Model_Name':'XGBOOST Model','RMSE Train':rmse_train,'RMSE Test':rmse_test,'MAE Train':mae_train,\n",
    "                    'MAE Test':mae_test})\n",
    "results = results.append(mlmodel, ignore_index = True)\n",
    "results"
   ]
  },
  {
   "cell_type": "markdown",
   "id": "da72fcca",
   "metadata": {},
   "source": [
    "# GradientBoosting Model"
   ]
  },
  {
   "cell_type": "code",
   "execution_count": 177,
   "id": "4f828971",
   "metadata": {
    "scrolled": true
   },
   "outputs": [
    {
     "name": "stdout",
     "output_type": "stream",
     "text": [
      "      Iter       Train Loss   Remaining Time \n",
      "         1           0.1865            1.25m\n",
      "         2           0.1789            1.24m\n",
      "         3           0.1728            1.22m\n",
      "         4           0.1678            1.21m\n",
      "         5           0.1638            1.20m\n",
      "         6           0.1605            1.19m\n",
      "         7           0.1579            1.18m\n",
      "         8           0.1557            1.16m\n",
      "         9           0.1539            1.15m\n",
      "        10           0.1525            1.14m\n",
      "        11           0.1513            1.13m\n",
      "        12           0.1503            1.12m\n",
      "        13           0.1495            1.11m\n",
      "        14           0.1488            1.09m\n",
      "        15           0.1482            1.08m\n",
      "        16           0.1478            1.07m\n",
      "        17           0.1474            1.06m\n",
      "        18           0.1471            1.04m\n",
      "        19           0.1468            1.03m\n",
      "        20           0.1466            1.02m\n",
      "        21           0.1464            1.01m\n",
      "        22           0.1462           59.67s\n",
      "        23           0.1461           58.91s\n",
      "        24           0.1459           58.13s\n",
      "        25           0.1458           57.37s\n",
      "        26           0.1456           56.63s\n",
      "        27           0.1454           55.90s\n",
      "        28           0.1453           55.15s\n",
      "        29           0.1451           54.40s\n",
      "        30           0.1450           53.65s\n",
      "        31           0.1450           52.89s\n",
      "        32           0.1449           52.13s\n",
      "        33           0.1449           51.36s\n",
      "        34           0.1448           50.59s\n",
      "        35           0.1448           49.83s\n",
      "        36           0.1447           49.07s\n",
      "        37           0.1447           48.33s\n",
      "        38           0.1446           47.57s\n",
      "        39           0.1446           46.80s\n",
      "        40           0.1446           46.03s\n",
      "        41           0.1445           45.26s\n",
      "        42           0.1445           44.49s\n",
      "        43           0.1445           43.72s\n",
      "        44           0.1444           42.96s\n",
      "        45           0.1444           42.20s\n",
      "        46           0.1444           41.45s\n",
      "        47           0.1443           40.71s\n",
      "        48           0.1443           39.98s\n",
      "        49           0.1443           39.22s\n",
      "        50           0.1443           38.46s\n",
      "        51           0.1442           37.71s\n",
      "        52           0.1442           36.96s\n",
      "        53           0.1442           36.20s\n",
      "        54           0.1442           35.44s\n",
      "        55           0.1441           34.68s\n",
      "        56           0.1441           33.93s\n",
      "        57           0.1441           33.17s\n",
      "        58           0.1441           32.41s\n",
      "        59           0.1440           31.64s\n",
      "        60           0.1440           30.87s\n",
      "        61           0.1440           30.10s\n",
      "        62           0.1440           29.33s\n",
      "        63           0.1439           28.56s\n",
      "        64           0.1439           27.81s\n",
      "        65           0.1439           27.03s\n",
      "        66           0.1439           26.26s\n",
      "        67           0.1439           25.49s\n",
      "        68           0.1439           24.71s\n",
      "        69           0.1438           23.93s\n",
      "        70           0.1438           23.16s\n",
      "        71           0.1438           22.39s\n",
      "        72           0.1438           21.61s\n",
      "        73           0.1438           20.84s\n",
      "        74           0.1438           20.08s\n",
      "        75           0.1438           19.31s\n",
      "        76           0.1437           18.54s\n",
      "        77           0.1437           17.77s\n",
      "        78           0.1437           17.00s\n",
      "        79           0.1437           16.23s\n",
      "        80           0.1437           15.46s\n",
      "        81           0.1436           14.68s\n",
      "        82           0.1436           13.91s\n",
      "        83           0.1436           13.13s\n",
      "        84           0.1436           12.36s\n",
      "        85           0.1436           11.58s\n",
      "        86           0.1435           10.81s\n",
      "        87           0.1435           10.04s\n",
      "        88           0.1435            9.27s\n",
      "        89           0.1435            8.49s\n",
      "        90           0.1435            7.72s\n",
      "        91           0.1435            6.95s\n",
      "        92           0.1434            6.18s\n",
      "        93           0.1434            5.41s\n",
      "        94           0.1434            4.63s\n",
      "        95           0.1434            3.86s\n",
      "        96           0.1434            3.09s\n",
      "        97           0.1434            2.32s\n",
      "        98           0.1434            1.54s\n",
      "        99           0.1434            0.77s\n",
      "       100           0.1433            0.00s\n",
      "0.3786022165040513 0.3798424862080938\n"
     ]
    },
    {
     "data": {
      "text/html": [
       "<div>\n",
       "<style scoped>\n",
       "    .dataframe tbody tr th:only-of-type {\n",
       "        vertical-align: middle;\n",
       "    }\n",
       "\n",
       "    .dataframe tbody tr th {\n",
       "        vertical-align: top;\n",
       "    }\n",
       "\n",
       "    .dataframe thead th {\n",
       "        text-align: right;\n",
       "    }\n",
       "</style>\n",
       "<table border=\"1\" class=\"dataframe\">\n",
       "  <thead>\n",
       "    <tr style=\"text-align: right;\">\n",
       "      <th></th>\n",
       "      <th>Model_Name</th>\n",
       "      <th>RMSE Train</th>\n",
       "      <th>RMSE Test</th>\n",
       "      <th>MAE Train</th>\n",
       "      <th>MAE Test</th>\n",
       "    </tr>\n",
       "  </thead>\n",
       "  <tbody>\n",
       "    <tr>\n",
       "      <th>0</th>\n",
       "      <td>Full Model</td>\n",
       "      <td>0.456195</td>\n",
       "      <td>0.456465</td>\n",
       "      <td>0.357047</td>\n",
       "      <td>0.357877</td>\n",
       "    </tr>\n",
       "    <tr>\n",
       "      <th>1</th>\n",
       "      <td>RandomForest Model</td>\n",
       "      <td>0.143596</td>\n",
       "      <td>0.384379</td>\n",
       "      <td>0.111337</td>\n",
       "      <td>0.300428</td>\n",
       "    </tr>\n",
       "    <tr>\n",
       "      <th>2</th>\n",
       "      <td>XGBOOST Model</td>\n",
       "      <td>0.362545</td>\n",
       "      <td>0.37746</td>\n",
       "      <td>0.282585</td>\n",
       "      <td>0.294343</td>\n",
       "    </tr>\n",
       "    <tr>\n",
       "      <th>3</th>\n",
       "      <td>GradientBoosting Model</td>\n",
       "      <td>0.378602</td>\n",
       "      <td>0.379842</td>\n",
       "      <td>0.295389</td>\n",
       "      <td>0.296503</td>\n",
       "    </tr>\n",
       "  </tbody>\n",
       "</table>\n",
       "</div>"
      ],
      "text/plain": [
       "               Model_Name RMSE Train RMSE Test MAE Train  MAE Test\n",
       "0              Full Model   0.456195  0.456465  0.357047  0.357877\n",
       "1      RandomForest Model   0.143596  0.384379  0.111337  0.300428\n",
       "2           XGBOOST Model   0.362545   0.37746  0.282585  0.294343\n",
       "3  GradientBoosting Model   0.378602  0.379842  0.295389  0.296503"
      ]
     },
     "execution_count": 177,
     "metadata": {},
     "output_type": "execute_result"
    }
   ],
   "source": [
    "from sklearn.ensemble import GradientBoostingRegressor\n",
    "gd_model = GradientBoostingRegressor(verbose=10,random_state=10).fit(xtrain,ytrain)\n",
    "\n",
    "\n",
    "pred_train = gd_model.predict(xtrain)\n",
    "mae_train = mean_absolute_error(ytrain, pred_train)\n",
    "\n",
    "pred_test = gd_model.predict(xtest)\n",
    "mae_test = mean_absolute_error(ytest, pred_test)\n",
    "\n",
    "\n",
    "#MSE\n",
    "\n",
    "mse_train = mean_squared_error(ytrain, pred_train)\n",
    "mse_test = mean_squared_error(ytest, pred_test)\n",
    "\n",
    "\n",
    "# Root Mean Squared Error\n",
    "\n",
    "rmse_train = np.sqrt(mse_train)\n",
    "rmse_test = np.sqrt(mse_test)\n",
    "\n",
    "\n",
    "print(rmse_train,rmse_test)\n",
    "\n",
    "mlmodel = pd.Series({'Model_Name':'GradientBoosting Model','RMSE Train':rmse_train,'RMSE Test':rmse_test,'MAE Train':mae_train,\n",
    "                    'MAE Test':mae_test})\n",
    "results = results.append(mlmodel, ignore_index = True)\n",
    "results"
   ]
  },
  {
   "cell_type": "code",
   "execution_count": 178,
   "id": "f5f1c728",
   "metadata": {},
   "outputs": [
    {
     "name": "stdout",
     "output_type": "stream",
     "text": [
      "0.3887238896989925 0.3894439369594658\n"
     ]
    },
    {
     "data": {
      "text/html": [
       "<div>\n",
       "<style scoped>\n",
       "    .dataframe tbody tr th:only-of-type {\n",
       "        vertical-align: middle;\n",
       "    }\n",
       "\n",
       "    .dataframe tbody tr th {\n",
       "        vertical-align: top;\n",
       "    }\n",
       "\n",
       "    .dataframe thead th {\n",
       "        text-align: right;\n",
       "    }\n",
       "</style>\n",
       "<table border=\"1\" class=\"dataframe\">\n",
       "  <thead>\n",
       "    <tr style=\"text-align: right;\">\n",
       "      <th></th>\n",
       "      <th>Model_Name</th>\n",
       "      <th>RMSE Train</th>\n",
       "      <th>RMSE Test</th>\n",
       "      <th>MAE Train</th>\n",
       "      <th>MAE Test</th>\n",
       "    </tr>\n",
       "  </thead>\n",
       "  <tbody>\n",
       "    <tr>\n",
       "      <th>0</th>\n",
       "      <td>Full Model</td>\n",
       "      <td>0.456195</td>\n",
       "      <td>0.456465</td>\n",
       "      <td>0.357047</td>\n",
       "      <td>0.357877</td>\n",
       "    </tr>\n",
       "    <tr>\n",
       "      <th>1</th>\n",
       "      <td>RandomForest Model</td>\n",
       "      <td>0.143596</td>\n",
       "      <td>0.384379</td>\n",
       "      <td>0.111337</td>\n",
       "      <td>0.300428</td>\n",
       "    </tr>\n",
       "    <tr>\n",
       "      <th>2</th>\n",
       "      <td>XGBOOST Model</td>\n",
       "      <td>0.362545</td>\n",
       "      <td>0.37746</td>\n",
       "      <td>0.282585</td>\n",
       "      <td>0.294343</td>\n",
       "    </tr>\n",
       "    <tr>\n",
       "      <th>3</th>\n",
       "      <td>GradientBoosting Model</td>\n",
       "      <td>0.378602</td>\n",
       "      <td>0.379842</td>\n",
       "      <td>0.295389</td>\n",
       "      <td>0.296503</td>\n",
       "    </tr>\n",
       "    <tr>\n",
       "      <th>4</th>\n",
       "      <td>AdaBoost Model</td>\n",
       "      <td>0.388724</td>\n",
       "      <td>0.389444</td>\n",
       "      <td>0.305315</td>\n",
       "      <td>0.306112</td>\n",
       "    </tr>\n",
       "  </tbody>\n",
       "</table>\n",
       "</div>"
      ],
      "text/plain": [
       "               Model_Name RMSE Train RMSE Test MAE Train  MAE Test\n",
       "0              Full Model   0.456195  0.456465  0.357047  0.357877\n",
       "1      RandomForest Model   0.143596  0.384379  0.111337  0.300428\n",
       "2           XGBOOST Model   0.362545   0.37746  0.282585  0.294343\n",
       "3  GradientBoosting Model   0.378602  0.379842  0.295389  0.296503\n",
       "4          AdaBoost Model   0.388724  0.389444  0.305315  0.306112"
      ]
     },
     "execution_count": 178,
     "metadata": {},
     "output_type": "execute_result"
    }
   ],
   "source": [
    "from sklearn.ensemble import AdaBoostRegressor\n",
    "ada_model = AdaBoostRegressor(random_state=10).fit(xtrain,ytrain)\n",
    "\n",
    "\n",
    "pred_train = ada_model.predict(xtrain)\n",
    "mae_train = mean_absolute_error(ytrain, pred_train)\n",
    "\n",
    "pred_test = ada_model.predict(xtest)\n",
    "mae_test = mean_absolute_error(ytest, pred_test)\n",
    "\n",
    "\n",
    "#MSE\n",
    "\n",
    "mse_train = mean_squared_error(ytrain, pred_train)\n",
    "mse_test = mean_squared_error(ytest, pred_test)\n",
    "\n",
    "\n",
    "# Root Mean Squared Error\n",
    "\n",
    "rmse_train = np.sqrt(mse_train)\n",
    "rmse_test = np.sqrt(mse_test)\n",
    "\n",
    "\n",
    "print(rmse_train,rmse_test)\n",
    "\n",
    "mlmodel = pd.Series({'Model_Name':'AdaBoost Model','RMSE Train':rmse_train,'RMSE Test':rmse_test,'MAE Train':mae_train,\n",
    "                    'MAE Test':mae_test})\n",
    "results = results.append(mlmodel, ignore_index = True)\n",
    "results"
   ]
  },
  {
   "cell_type": "code",
   "execution_count": 179,
   "id": "47dda83c",
   "metadata": {},
   "outputs": [
    {
     "name": "stdout",
     "output_type": "stream",
     "text": [
      "Learning rate set to 0.096034\n",
      "0:\tlearn: 0.4323162\ttotal: 169ms\tremaining: 2m 48s\n",
      "1:\tlearn: 0.4237229\ttotal: 193ms\tremaining: 1m 36s\n",
      "2:\tlearn: 0.4165795\ttotal: 217ms\tremaining: 1m 12s\n",
      "3:\tlearn: 0.4106310\ttotal: 241ms\tremaining: 60s\n",
      "4:\tlearn: 0.4056453\ttotal: 264ms\tremaining: 52.5s\n",
      "5:\tlearn: 0.4015358\ttotal: 286ms\tremaining: 47.3s\n",
      "6:\tlearn: 0.3981427\ttotal: 306ms\tremaining: 43.5s\n",
      "7:\tlearn: 0.3952876\ttotal: 328ms\tremaining: 40.6s\n",
      "8:\tlearn: 0.3928266\ttotal: 350ms\tremaining: 38.5s\n",
      "9:\tlearn: 0.3908136\ttotal: 371ms\tremaining: 36.7s\n",
      "10:\tlearn: 0.3892031\ttotal: 393ms\tremaining: 35.3s\n",
      "11:\tlearn: 0.3878052\ttotal: 415ms\tremaining: 34.2s\n",
      "12:\tlearn: 0.3866166\ttotal: 437ms\tremaining: 33.2s\n",
      "13:\tlearn: 0.3856723\ttotal: 458ms\tremaining: 32.3s\n",
      "14:\tlearn: 0.3849036\ttotal: 480ms\tremaining: 31.5s\n",
      "15:\tlearn: 0.3842293\ttotal: 502ms\tremaining: 30.9s\n",
      "16:\tlearn: 0.3837113\ttotal: 524ms\tremaining: 30.3s\n",
      "17:\tlearn: 0.3832566\ttotal: 548ms\tremaining: 29.9s\n",
      "18:\tlearn: 0.3828974\ttotal: 569ms\tremaining: 29.4s\n",
      "19:\tlearn: 0.3825630\ttotal: 591ms\tremaining: 29s\n",
      "20:\tlearn: 0.3822833\ttotal: 613ms\tremaining: 28.6s\n",
      "21:\tlearn: 0.3819704\ttotal: 636ms\tremaining: 28.3s\n",
      "22:\tlearn: 0.3817290\ttotal: 657ms\tremaining: 27.9s\n",
      "23:\tlearn: 0.3815526\ttotal: 679ms\tremaining: 27.6s\n",
      "24:\tlearn: 0.3813461\ttotal: 701ms\tremaining: 27.3s\n",
      "25:\tlearn: 0.3812053\ttotal: 722ms\tremaining: 27.1s\n",
      "26:\tlearn: 0.3810822\ttotal: 743ms\tremaining: 26.8s\n",
      "27:\tlearn: 0.3809422\ttotal: 764ms\tremaining: 26.5s\n",
      "28:\tlearn: 0.3807629\ttotal: 787ms\tremaining: 26.3s\n",
      "29:\tlearn: 0.3806003\ttotal: 811ms\tremaining: 26.2s\n",
      "30:\tlearn: 0.3804906\ttotal: 835ms\tremaining: 26.1s\n",
      "31:\tlearn: 0.3803867\ttotal: 858ms\tremaining: 25.9s\n",
      "32:\tlearn: 0.3803049\ttotal: 880ms\tremaining: 25.8s\n",
      "33:\tlearn: 0.3802297\ttotal: 902ms\tremaining: 25.6s\n",
      "34:\tlearn: 0.3801642\ttotal: 924ms\tremaining: 25.5s\n",
      "35:\tlearn: 0.3801161\ttotal: 944ms\tremaining: 25.3s\n",
      "36:\tlearn: 0.3800628\ttotal: 966ms\tremaining: 25.1s\n",
      "37:\tlearn: 0.3799661\ttotal: 988ms\tremaining: 25s\n",
      "38:\tlearn: 0.3799141\ttotal: 1.01s\tremaining: 24.9s\n",
      "39:\tlearn: 0.3798494\ttotal: 1.03s\tremaining: 24.7s\n",
      "40:\tlearn: 0.3798085\ttotal: 1.05s\tremaining: 24.5s\n",
      "41:\tlearn: 0.3797641\ttotal: 1.07s\tremaining: 24.4s\n",
      "42:\tlearn: 0.3797087\ttotal: 1.09s\tremaining: 24.3s\n",
      "43:\tlearn: 0.3796824\ttotal: 1.11s\tremaining: 24.1s\n",
      "44:\tlearn: 0.3796431\ttotal: 1.13s\tremaining: 24s\n",
      "45:\tlearn: 0.3795920\ttotal: 1.15s\tremaining: 23.9s\n",
      "46:\tlearn: 0.3795511\ttotal: 1.17s\tremaining: 23.8s\n",
      "47:\tlearn: 0.3795173\ttotal: 1.19s\tremaining: 23.7s\n",
      "48:\tlearn: 0.3794779\ttotal: 1.22s\tremaining: 23.6s\n",
      "49:\tlearn: 0.3794465\ttotal: 1.24s\tremaining: 23.5s\n",
      "50:\tlearn: 0.3794230\ttotal: 1.26s\tremaining: 23.4s\n",
      "51:\tlearn: 0.3793924\ttotal: 1.28s\tremaining: 23.4s\n",
      "52:\tlearn: 0.3793528\ttotal: 1.3s\tremaining: 23.3s\n",
      "53:\tlearn: 0.3793245\ttotal: 1.32s\tremaining: 23.2s\n",
      "54:\tlearn: 0.3792986\ttotal: 1.34s\tremaining: 23.1s\n",
      "55:\tlearn: 0.3792605\ttotal: 1.37s\tremaining: 23.1s\n",
      "56:\tlearn: 0.3792219\ttotal: 1.39s\tremaining: 23s\n",
      "57:\tlearn: 0.3792014\ttotal: 1.41s\tremaining: 22.9s\n",
      "58:\tlearn: 0.3791835\ttotal: 1.43s\tremaining: 22.9s\n",
      "59:\tlearn: 0.3791594\ttotal: 1.45s\tremaining: 22.8s\n",
      "60:\tlearn: 0.3791339\ttotal: 1.47s\tremaining: 22.7s\n",
      "61:\tlearn: 0.3791124\ttotal: 1.49s\tremaining: 22.6s\n",
      "62:\tlearn: 0.3790962\ttotal: 1.51s\tremaining: 22.5s\n",
      "63:\tlearn: 0.3790696\ttotal: 1.54s\tremaining: 22.5s\n",
      "64:\tlearn: 0.3790475\ttotal: 1.56s\tremaining: 22.4s\n",
      "65:\tlearn: 0.3790205\ttotal: 1.58s\tremaining: 22.4s\n",
      "66:\tlearn: 0.3790003\ttotal: 1.6s\tremaining: 22.3s\n",
      "67:\tlearn: 0.3789778\ttotal: 1.62s\tremaining: 22.2s\n",
      "68:\tlearn: 0.3789550\ttotal: 1.65s\tremaining: 22.2s\n",
      "69:\tlearn: 0.3789210\ttotal: 1.67s\tremaining: 22.1s\n",
      "70:\tlearn: 0.3788977\ttotal: 1.69s\tremaining: 22.1s\n",
      "71:\tlearn: 0.3788740\ttotal: 1.71s\tremaining: 22s\n",
      "72:\tlearn: 0.3788252\ttotal: 1.73s\tremaining: 22s\n",
      "73:\tlearn: 0.3788040\ttotal: 1.75s\tremaining: 22s\n",
      "74:\tlearn: 0.3787846\ttotal: 1.77s\tremaining: 21.9s\n",
      "75:\tlearn: 0.3787664\ttotal: 1.8s\tremaining: 21.8s\n",
      "76:\tlearn: 0.3787422\ttotal: 1.82s\tremaining: 21.8s\n",
      "77:\tlearn: 0.3787173\ttotal: 1.84s\tremaining: 21.8s\n",
      "78:\tlearn: 0.3786948\ttotal: 1.86s\tremaining: 21.7s\n",
      "79:\tlearn: 0.3786764\ttotal: 1.88s\tremaining: 21.7s\n",
      "80:\tlearn: 0.3786452\ttotal: 1.91s\tremaining: 21.6s\n",
      "81:\tlearn: 0.3786296\ttotal: 1.93s\tremaining: 21.6s\n",
      "82:\tlearn: 0.3786136\ttotal: 1.95s\tremaining: 21.5s\n",
      "83:\tlearn: 0.3785879\ttotal: 1.97s\tremaining: 21.5s\n",
      "84:\tlearn: 0.3785716\ttotal: 1.99s\tremaining: 21.4s\n",
      "85:\tlearn: 0.3785554\ttotal: 2.02s\tremaining: 21.4s\n",
      "86:\tlearn: 0.3785391\ttotal: 2.04s\tremaining: 21.4s\n",
      "87:\tlearn: 0.3785277\ttotal: 2.06s\tremaining: 21.4s\n",
      "88:\tlearn: 0.3785106\ttotal: 2.08s\tremaining: 21.3s\n",
      "89:\tlearn: 0.3784907\ttotal: 2.1s\tremaining: 21.3s\n",
      "90:\tlearn: 0.3784652\ttotal: 2.13s\tremaining: 21.2s\n",
      "91:\tlearn: 0.3784458\ttotal: 2.15s\tremaining: 21.2s\n",
      "92:\tlearn: 0.3784318\ttotal: 2.17s\tremaining: 21.2s\n",
      "93:\tlearn: 0.3784114\ttotal: 2.19s\tremaining: 21.1s\n",
      "94:\tlearn: 0.3783916\ttotal: 2.21s\tremaining: 21.1s\n",
      "95:\tlearn: 0.3783764\ttotal: 2.23s\tremaining: 21s\n",
      "96:\tlearn: 0.3783626\ttotal: 2.26s\tremaining: 21s\n",
      "97:\tlearn: 0.3783483\ttotal: 2.28s\tremaining: 21s\n",
      "98:\tlearn: 0.3783204\ttotal: 2.3s\tremaining: 21s\n",
      "99:\tlearn: 0.3783007\ttotal: 2.32s\tremaining: 20.9s\n",
      "100:\tlearn: 0.3782720\ttotal: 2.35s\tremaining: 20.9s\n",
      "101:\tlearn: 0.3782521\ttotal: 2.37s\tremaining: 20.8s\n",
      "102:\tlearn: 0.3782398\ttotal: 2.39s\tremaining: 20.8s\n",
      "103:\tlearn: 0.3782258\ttotal: 2.41s\tremaining: 20.8s\n",
      "104:\tlearn: 0.3782082\ttotal: 2.43s\tremaining: 20.7s\n",
      "105:\tlearn: 0.3781961\ttotal: 2.46s\tremaining: 20.7s\n",
      "106:\tlearn: 0.3781814\ttotal: 2.48s\tremaining: 20.7s\n",
      "107:\tlearn: 0.3781549\ttotal: 2.51s\tremaining: 20.7s\n",
      "108:\tlearn: 0.3781417\ttotal: 2.53s\tremaining: 20.7s\n",
      "109:\tlearn: 0.3781210\ttotal: 2.55s\tremaining: 20.6s\n",
      "110:\tlearn: 0.3781060\ttotal: 2.57s\tremaining: 20.6s\n",
      "111:\tlearn: 0.3780925\ttotal: 2.59s\tremaining: 20.6s\n",
      "112:\tlearn: 0.3780833\ttotal: 2.61s\tremaining: 20.5s\n",
      "113:\tlearn: 0.3780757\ttotal: 2.63s\tremaining: 20.5s\n",
      "114:\tlearn: 0.3780571\ttotal: 2.66s\tremaining: 20.4s\n",
      "115:\tlearn: 0.3780297\ttotal: 2.68s\tremaining: 20.4s\n",
      "116:\tlearn: 0.3780176\ttotal: 2.7s\tremaining: 20.4s\n",
      "117:\tlearn: 0.3779968\ttotal: 2.73s\tremaining: 20.4s\n",
      "118:\tlearn: 0.3779795\ttotal: 2.75s\tremaining: 20.4s\n",
      "119:\tlearn: 0.3779546\ttotal: 2.77s\tremaining: 20.3s\n",
      "120:\tlearn: 0.3779415\ttotal: 2.79s\tremaining: 20.3s\n",
      "121:\tlearn: 0.3779251\ttotal: 2.82s\tremaining: 20.3s\n",
      "122:\tlearn: 0.3779098\ttotal: 2.84s\tremaining: 20.2s\n",
      "123:\tlearn: 0.3778918\ttotal: 2.86s\tremaining: 20.2s\n",
      "124:\tlearn: 0.3778795\ttotal: 2.88s\tremaining: 20.2s\n",
      "125:\tlearn: 0.3778591\ttotal: 2.9s\tremaining: 20.2s\n",
      "126:\tlearn: 0.3778407\ttotal: 2.93s\tremaining: 20.1s\n",
      "127:\tlearn: 0.3778107\ttotal: 2.95s\tremaining: 20.1s\n",
      "128:\tlearn: 0.3777922\ttotal: 2.97s\tremaining: 20.1s\n",
      "129:\tlearn: 0.3777659\ttotal: 2.99s\tremaining: 20s\n",
      "130:\tlearn: 0.3777474\ttotal: 3.02s\tremaining: 20s\n",
      "131:\tlearn: 0.3777272\ttotal: 3.04s\tremaining: 20s\n",
      "132:\tlearn: 0.3776927\ttotal: 3.06s\tremaining: 20s\n",
      "133:\tlearn: 0.3776754\ttotal: 3.08s\tremaining: 19.9s\n",
      "134:\tlearn: 0.3776563\ttotal: 3.11s\tremaining: 19.9s\n",
      "135:\tlearn: 0.3776294\ttotal: 3.13s\tremaining: 19.9s\n",
      "136:\tlearn: 0.3776106\ttotal: 3.15s\tremaining: 19.9s\n",
      "137:\tlearn: 0.3775916\ttotal: 3.18s\tremaining: 19.9s\n",
      "138:\tlearn: 0.3775732\ttotal: 3.2s\tremaining: 19.8s\n",
      "139:\tlearn: 0.3775580\ttotal: 3.22s\tremaining: 19.8s\n",
      "140:\tlearn: 0.3775442\ttotal: 3.25s\tremaining: 19.8s\n",
      "141:\tlearn: 0.3775273\ttotal: 3.27s\tremaining: 19.7s\n",
      "142:\tlearn: 0.3775113\ttotal: 3.29s\tremaining: 19.7s\n",
      "143:\tlearn: 0.3774962\ttotal: 3.31s\tremaining: 19.7s\n",
      "144:\tlearn: 0.3774738\ttotal: 3.33s\tremaining: 19.7s\n",
      "145:\tlearn: 0.3774503\ttotal: 3.36s\tremaining: 19.7s\n",
      "146:\tlearn: 0.3774221\ttotal: 3.38s\tremaining: 19.6s\n",
      "147:\tlearn: 0.3774046\ttotal: 3.4s\tremaining: 19.6s\n",
      "148:\tlearn: 0.3773886\ttotal: 3.42s\tremaining: 19.6s\n",
      "149:\tlearn: 0.3773653\ttotal: 3.45s\tremaining: 19.6s\n",
      "150:\tlearn: 0.3773449\ttotal: 3.47s\tremaining: 19.5s\n",
      "151:\tlearn: 0.3773272\ttotal: 3.5s\tremaining: 19.5s\n",
      "152:\tlearn: 0.3773133\ttotal: 3.52s\tremaining: 19.5s\n",
      "153:\tlearn: 0.3772939\ttotal: 3.54s\tremaining: 19.4s\n",
      "154:\tlearn: 0.3772749\ttotal: 3.56s\tremaining: 19.4s\n",
      "155:\tlearn: 0.3772616\ttotal: 3.59s\tremaining: 19.4s\n",
      "156:\tlearn: 0.3772493\ttotal: 3.61s\tremaining: 19.4s\n",
      "157:\tlearn: 0.3772320\ttotal: 3.63s\tremaining: 19.4s\n",
      "158:\tlearn: 0.3772121\ttotal: 3.65s\tremaining: 19.3s\n",
      "159:\tlearn: 0.3771903\ttotal: 3.68s\tremaining: 19.3s\n",
      "160:\tlearn: 0.3771711\ttotal: 3.7s\tremaining: 19.3s\n"
     ]
    },
    {
     "name": "stdout",
     "output_type": "stream",
     "text": [
      "161:\tlearn: 0.3771590\ttotal: 3.73s\tremaining: 19.3s\n",
      "162:\tlearn: 0.3771382\ttotal: 3.75s\tremaining: 19.3s\n",
      "163:\tlearn: 0.3771211\ttotal: 3.77s\tremaining: 19.2s\n",
      "164:\tlearn: 0.3771003\ttotal: 3.8s\tremaining: 19.2s\n",
      "165:\tlearn: 0.3770839\ttotal: 3.82s\tremaining: 19.2s\n",
      "166:\tlearn: 0.3770655\ttotal: 3.84s\tremaining: 19.2s\n",
      "167:\tlearn: 0.3770513\ttotal: 3.86s\tremaining: 19.1s\n",
      "168:\tlearn: 0.3770329\ttotal: 3.89s\tremaining: 19.1s\n",
      "169:\tlearn: 0.3770156\ttotal: 3.91s\tremaining: 19.1s\n",
      "170:\tlearn: 0.3769976\ttotal: 3.94s\tremaining: 19.1s\n",
      "171:\tlearn: 0.3769830\ttotal: 3.96s\tremaining: 19.1s\n",
      "172:\tlearn: 0.3769675\ttotal: 3.99s\tremaining: 19.1s\n",
      "173:\tlearn: 0.3769483\ttotal: 4.01s\tremaining: 19.1s\n",
      "174:\tlearn: 0.3769345\ttotal: 4.03s\tremaining: 19s\n",
      "175:\tlearn: 0.3769168\ttotal: 4.05s\tremaining: 19s\n",
      "176:\tlearn: 0.3769002\ttotal: 4.08s\tremaining: 19s\n",
      "177:\tlearn: 0.3768877\ttotal: 4.1s\tremaining: 18.9s\n",
      "178:\tlearn: 0.3768778\ttotal: 4.12s\tremaining: 18.9s\n",
      "179:\tlearn: 0.3768587\ttotal: 4.14s\tremaining: 18.9s\n",
      "180:\tlearn: 0.3768474\ttotal: 4.16s\tremaining: 18.8s\n",
      "181:\tlearn: 0.3768344\ttotal: 4.18s\tremaining: 18.8s\n",
      "182:\tlearn: 0.3768179\ttotal: 4.2s\tremaining: 18.7s\n",
      "183:\tlearn: 0.3767988\ttotal: 4.22s\tremaining: 18.7s\n",
      "184:\tlearn: 0.3767854\ttotal: 4.24s\tremaining: 18.7s\n",
      "185:\tlearn: 0.3767751\ttotal: 4.26s\tremaining: 18.7s\n",
      "186:\tlearn: 0.3767615\ttotal: 4.28s\tremaining: 18.6s\n",
      "187:\tlearn: 0.3767432\ttotal: 4.3s\tremaining: 18.6s\n",
      "188:\tlearn: 0.3767298\ttotal: 4.33s\tremaining: 18.6s\n",
      "189:\tlearn: 0.3767123\ttotal: 4.35s\tremaining: 18.5s\n",
      "190:\tlearn: 0.3766852\ttotal: 4.37s\tremaining: 18.5s\n",
      "191:\tlearn: 0.3766688\ttotal: 4.39s\tremaining: 18.5s\n",
      "192:\tlearn: 0.3766569\ttotal: 4.41s\tremaining: 18.5s\n",
      "193:\tlearn: 0.3766437\ttotal: 4.43s\tremaining: 18.4s\n",
      "194:\tlearn: 0.3766294\ttotal: 4.46s\tremaining: 18.4s\n",
      "195:\tlearn: 0.3766180\ttotal: 4.48s\tremaining: 18.4s\n",
      "196:\tlearn: 0.3765987\ttotal: 4.5s\tremaining: 18.3s\n",
      "197:\tlearn: 0.3765823\ttotal: 4.52s\tremaining: 18.3s\n",
      "198:\tlearn: 0.3765659\ttotal: 4.55s\tremaining: 18.3s\n",
      "199:\tlearn: 0.3765541\ttotal: 4.57s\tremaining: 18.3s\n",
      "200:\tlearn: 0.3765382\ttotal: 4.59s\tremaining: 18.3s\n",
      "201:\tlearn: 0.3765282\ttotal: 4.61s\tremaining: 18.2s\n",
      "202:\tlearn: 0.3765081\ttotal: 4.64s\tremaining: 18.2s\n",
      "203:\tlearn: 0.3764982\ttotal: 4.66s\tremaining: 18.2s\n",
      "204:\tlearn: 0.3764866\ttotal: 4.68s\tremaining: 18.1s\n",
      "205:\tlearn: 0.3764698\ttotal: 4.7s\tremaining: 18.1s\n",
      "206:\tlearn: 0.3764542\ttotal: 4.72s\tremaining: 18.1s\n",
      "207:\tlearn: 0.3764359\ttotal: 4.75s\tremaining: 18.1s\n",
      "208:\tlearn: 0.3764185\ttotal: 4.77s\tremaining: 18s\n",
      "209:\tlearn: 0.3763951\ttotal: 4.79s\tremaining: 18s\n",
      "210:\tlearn: 0.3763752\ttotal: 4.82s\tremaining: 18s\n",
      "211:\tlearn: 0.3763514\ttotal: 4.84s\tremaining: 18s\n",
      "212:\tlearn: 0.3763379\ttotal: 4.86s\tremaining: 18s\n",
      "213:\tlearn: 0.3763159\ttotal: 4.88s\tremaining: 17.9s\n",
      "214:\tlearn: 0.3763026\ttotal: 4.9s\tremaining: 17.9s\n",
      "215:\tlearn: 0.3762925\ttotal: 4.92s\tremaining: 17.9s\n",
      "216:\tlearn: 0.3762823\ttotal: 4.94s\tremaining: 17.8s\n",
      "217:\tlearn: 0.3762655\ttotal: 4.96s\tremaining: 17.8s\n",
      "218:\tlearn: 0.3762546\ttotal: 4.99s\tremaining: 17.8s\n",
      "219:\tlearn: 0.3762463\ttotal: 5.01s\tremaining: 17.8s\n",
      "220:\tlearn: 0.3762393\ttotal: 5.03s\tremaining: 17.7s\n",
      "221:\tlearn: 0.3762268\ttotal: 5.05s\tremaining: 17.7s\n",
      "222:\tlearn: 0.3762167\ttotal: 5.07s\tremaining: 17.7s\n",
      "223:\tlearn: 0.3762072\ttotal: 5.09s\tremaining: 17.6s\n",
      "224:\tlearn: 0.3761950\ttotal: 5.11s\tremaining: 17.6s\n",
      "225:\tlearn: 0.3761769\ttotal: 5.13s\tremaining: 17.6s\n",
      "226:\tlearn: 0.3761595\ttotal: 5.16s\tremaining: 17.6s\n",
      "227:\tlearn: 0.3761452\ttotal: 5.18s\tremaining: 17.5s\n",
      "228:\tlearn: 0.3761321\ttotal: 5.2s\tremaining: 17.5s\n",
      "229:\tlearn: 0.3761163\ttotal: 5.22s\tremaining: 17.5s\n",
      "230:\tlearn: 0.3760993\ttotal: 5.25s\tremaining: 17.5s\n",
      "231:\tlearn: 0.3760796\ttotal: 5.26s\tremaining: 17.4s\n",
      "232:\tlearn: 0.3760654\ttotal: 5.29s\tremaining: 17.4s\n",
      "233:\tlearn: 0.3760476\ttotal: 5.31s\tremaining: 17.4s\n",
      "234:\tlearn: 0.3760351\ttotal: 5.33s\tremaining: 17.3s\n",
      "235:\tlearn: 0.3760197\ttotal: 5.35s\tremaining: 17.3s\n",
      "236:\tlearn: 0.3759984\ttotal: 5.37s\tremaining: 17.3s\n",
      "237:\tlearn: 0.3759796\ttotal: 5.4s\tremaining: 17.3s\n",
      "238:\tlearn: 0.3759635\ttotal: 5.42s\tremaining: 17.3s\n",
      "239:\tlearn: 0.3759511\ttotal: 5.44s\tremaining: 17.2s\n",
      "240:\tlearn: 0.3759402\ttotal: 5.46s\tremaining: 17.2s\n",
      "241:\tlearn: 0.3759257\ttotal: 5.48s\tremaining: 17.2s\n",
      "242:\tlearn: 0.3759116\ttotal: 5.5s\tremaining: 17.1s\n",
      "243:\tlearn: 0.3758992\ttotal: 5.52s\tremaining: 17.1s\n",
      "244:\tlearn: 0.3758889\ttotal: 5.54s\tremaining: 17.1s\n",
      "245:\tlearn: 0.3758791\ttotal: 5.56s\tremaining: 17.1s\n",
      "246:\tlearn: 0.3758653\ttotal: 5.59s\tremaining: 17s\n",
      "247:\tlearn: 0.3758467\ttotal: 5.61s\tremaining: 17s\n",
      "248:\tlearn: 0.3758359\ttotal: 5.63s\tremaining: 17s\n",
      "249:\tlearn: 0.3758233\ttotal: 5.65s\tremaining: 16.9s\n",
      "250:\tlearn: 0.3758121\ttotal: 5.67s\tremaining: 16.9s\n",
      "251:\tlearn: 0.3757980\ttotal: 5.69s\tremaining: 16.9s\n",
      "252:\tlearn: 0.3757846\ttotal: 5.71s\tremaining: 16.9s\n",
      "253:\tlearn: 0.3757722\ttotal: 5.73s\tremaining: 16.8s\n",
      "254:\tlearn: 0.3757570\ttotal: 5.75s\tremaining: 16.8s\n",
      "255:\tlearn: 0.3757439\ttotal: 5.77s\tremaining: 16.8s\n",
      "256:\tlearn: 0.3757314\ttotal: 5.8s\tremaining: 16.8s\n",
      "257:\tlearn: 0.3757213\ttotal: 5.82s\tremaining: 16.7s\n",
      "258:\tlearn: 0.3757021\ttotal: 5.84s\tremaining: 16.7s\n",
      "259:\tlearn: 0.3756895\ttotal: 5.86s\tremaining: 16.7s\n",
      "260:\tlearn: 0.3756748\ttotal: 5.88s\tremaining: 16.7s\n",
      "261:\tlearn: 0.3756626\ttotal: 5.9s\tremaining: 16.6s\n",
      "262:\tlearn: 0.3756490\ttotal: 5.92s\tremaining: 16.6s\n",
      "263:\tlearn: 0.3756350\ttotal: 5.95s\tremaining: 16.6s\n",
      "264:\tlearn: 0.3756277\ttotal: 5.97s\tremaining: 16.6s\n",
      "265:\tlearn: 0.3756125\ttotal: 5.99s\tremaining: 16.5s\n",
      "266:\tlearn: 0.3756045\ttotal: 6.01s\tremaining: 16.5s\n",
      "267:\tlearn: 0.3755957\ttotal: 6.03s\tremaining: 16.5s\n",
      "268:\tlearn: 0.3755808\ttotal: 6.05s\tremaining: 16.4s\n",
      "269:\tlearn: 0.3755685\ttotal: 6.08s\tremaining: 16.4s\n",
      "270:\tlearn: 0.3755570\ttotal: 6.1s\tremaining: 16.4s\n",
      "271:\tlearn: 0.3755457\ttotal: 6.12s\tremaining: 16.4s\n",
      "272:\tlearn: 0.3755314\ttotal: 6.14s\tremaining: 16.4s\n",
      "273:\tlearn: 0.3755174\ttotal: 6.16s\tremaining: 16.3s\n",
      "274:\tlearn: 0.3755065\ttotal: 6.18s\tremaining: 16.3s\n",
      "275:\tlearn: 0.3754907\ttotal: 6.2s\tremaining: 16.3s\n",
      "276:\tlearn: 0.3754778\ttotal: 6.22s\tremaining: 16.2s\n",
      "277:\tlearn: 0.3754686\ttotal: 6.25s\tremaining: 16.2s\n",
      "278:\tlearn: 0.3754537\ttotal: 6.27s\tremaining: 16.2s\n",
      "279:\tlearn: 0.3754412\ttotal: 6.29s\tremaining: 16.2s\n",
      "280:\tlearn: 0.3754291\ttotal: 6.31s\tremaining: 16.2s\n",
      "281:\tlearn: 0.3754156\ttotal: 6.33s\tremaining: 16.1s\n",
      "282:\tlearn: 0.3754026\ttotal: 6.36s\tremaining: 16.1s\n",
      "283:\tlearn: 0.3753840\ttotal: 6.38s\tremaining: 16.1s\n",
      "284:\tlearn: 0.3753702\ttotal: 6.4s\tremaining: 16.1s\n",
      "285:\tlearn: 0.3753571\ttotal: 6.42s\tremaining: 16s\n",
      "286:\tlearn: 0.3753378\ttotal: 6.44s\tremaining: 16s\n",
      "287:\tlearn: 0.3753259\ttotal: 6.47s\tremaining: 16s\n",
      "288:\tlearn: 0.3753115\ttotal: 6.49s\tremaining: 16s\n",
      "289:\tlearn: 0.3753026\ttotal: 6.51s\tremaining: 15.9s\n",
      "290:\tlearn: 0.3752928\ttotal: 6.53s\tremaining: 15.9s\n",
      "291:\tlearn: 0.3752795\ttotal: 6.55s\tremaining: 15.9s\n",
      "292:\tlearn: 0.3752632\ttotal: 6.57s\tremaining: 15.9s\n",
      "293:\tlearn: 0.3752528\ttotal: 6.59s\tremaining: 15.8s\n",
      "294:\tlearn: 0.3752373\ttotal: 6.62s\tremaining: 15.8s\n",
      "295:\tlearn: 0.3752253\ttotal: 6.63s\tremaining: 15.8s\n",
      "296:\tlearn: 0.3752134\ttotal: 6.66s\tremaining: 15.8s\n",
      "297:\tlearn: 0.3751990\ttotal: 6.68s\tremaining: 15.7s\n",
      "298:\tlearn: 0.3751852\ttotal: 6.7s\tremaining: 15.7s\n",
      "299:\tlearn: 0.3751739\ttotal: 6.72s\tremaining: 15.7s\n",
      "300:\tlearn: 0.3751645\ttotal: 6.74s\tremaining: 15.7s\n",
      "301:\tlearn: 0.3751524\ttotal: 6.76s\tremaining: 15.6s\n",
      "302:\tlearn: 0.3751381\ttotal: 6.79s\tremaining: 15.6s\n",
      "303:\tlearn: 0.3751233\ttotal: 6.81s\tremaining: 15.6s\n",
      "304:\tlearn: 0.3751102\ttotal: 6.83s\tremaining: 15.6s\n",
      "305:\tlearn: 0.3750993\ttotal: 6.85s\tremaining: 15.5s\n",
      "306:\tlearn: 0.3750834\ttotal: 6.88s\tremaining: 15.5s\n",
      "307:\tlearn: 0.3750755\ttotal: 6.9s\tremaining: 15.5s\n",
      "308:\tlearn: 0.3750654\ttotal: 6.92s\tremaining: 15.5s\n",
      "309:\tlearn: 0.3750544\ttotal: 6.94s\tremaining: 15.4s\n",
      "310:\tlearn: 0.3750440\ttotal: 6.96s\tremaining: 15.4s\n",
      "311:\tlearn: 0.3750303\ttotal: 6.98s\tremaining: 15.4s\n",
      "312:\tlearn: 0.3750205\ttotal: 7s\tremaining: 15.4s\n",
      "313:\tlearn: 0.3750104\ttotal: 7.02s\tremaining: 15.3s\n",
      "314:\tlearn: 0.3749986\ttotal: 7.05s\tremaining: 15.3s\n",
      "315:\tlearn: 0.3749832\ttotal: 7.07s\tremaining: 15.3s\n",
      "316:\tlearn: 0.3749729\ttotal: 7.09s\tremaining: 15.3s\n",
      "317:\tlearn: 0.3749609\ttotal: 7.11s\tremaining: 15.2s\n",
      "318:\tlearn: 0.3749497\ttotal: 7.13s\tremaining: 15.2s\n",
      "319:\tlearn: 0.3749399\ttotal: 7.15s\tremaining: 15.2s\n",
      "320:\tlearn: 0.3749266\ttotal: 7.17s\tremaining: 15.2s\n",
      "321:\tlearn: 0.3749105\ttotal: 7.2s\tremaining: 15.2s\n",
      "322:\tlearn: 0.3748988\ttotal: 7.22s\tremaining: 15.1s\n",
      "323:\tlearn: 0.3748915\ttotal: 7.24s\tremaining: 15.1s\n"
     ]
    },
    {
     "name": "stdout",
     "output_type": "stream",
     "text": [
      "324:\tlearn: 0.3748784\ttotal: 7.28s\tremaining: 15.1s\n",
      "325:\tlearn: 0.3748647\ttotal: 7.3s\tremaining: 15.1s\n",
      "326:\tlearn: 0.3748565\ttotal: 7.32s\tremaining: 15.1s\n",
      "327:\tlearn: 0.3748483\ttotal: 7.34s\tremaining: 15s\n",
      "328:\tlearn: 0.3748378\ttotal: 7.36s\tremaining: 15s\n",
      "329:\tlearn: 0.3748247\ttotal: 7.38s\tremaining: 15s\n",
      "330:\tlearn: 0.3748159\ttotal: 7.4s\tremaining: 15s\n",
      "331:\tlearn: 0.3748028\ttotal: 7.42s\tremaining: 14.9s\n",
      "332:\tlearn: 0.3747906\ttotal: 7.44s\tremaining: 14.9s\n",
      "333:\tlearn: 0.3747728\ttotal: 7.47s\tremaining: 14.9s\n",
      "334:\tlearn: 0.3747609\ttotal: 7.49s\tremaining: 14.9s\n",
      "335:\tlearn: 0.3747498\ttotal: 7.51s\tremaining: 14.8s\n",
      "336:\tlearn: 0.3747365\ttotal: 7.53s\tremaining: 14.8s\n",
      "337:\tlearn: 0.3747284\ttotal: 7.55s\tremaining: 14.8s\n",
      "338:\tlearn: 0.3747157\ttotal: 7.57s\tremaining: 14.8s\n",
      "339:\tlearn: 0.3747028\ttotal: 7.59s\tremaining: 14.7s\n",
      "340:\tlearn: 0.3746888\ttotal: 7.62s\tremaining: 14.7s\n",
      "341:\tlearn: 0.3746742\ttotal: 7.64s\tremaining: 14.7s\n",
      "342:\tlearn: 0.3746629\ttotal: 7.66s\tremaining: 14.7s\n",
      "343:\tlearn: 0.3746507\ttotal: 7.68s\tremaining: 14.7s\n",
      "344:\tlearn: 0.3746434\ttotal: 7.7s\tremaining: 14.6s\n",
      "345:\tlearn: 0.3746289\ttotal: 7.73s\tremaining: 14.6s\n",
      "346:\tlearn: 0.3746184\ttotal: 7.75s\tremaining: 14.6s\n",
      "347:\tlearn: 0.3746090\ttotal: 7.77s\tremaining: 14.6s\n",
      "348:\tlearn: 0.3745960\ttotal: 7.79s\tremaining: 14.5s\n",
      "349:\tlearn: 0.3745878\ttotal: 7.81s\tremaining: 14.5s\n",
      "350:\tlearn: 0.3745789\ttotal: 7.83s\tremaining: 14.5s\n",
      "351:\tlearn: 0.3745681\ttotal: 7.85s\tremaining: 14.5s\n",
      "352:\tlearn: 0.3745544\ttotal: 7.87s\tremaining: 14.4s\n",
      "353:\tlearn: 0.3745486\ttotal: 7.89s\tremaining: 14.4s\n",
      "354:\tlearn: 0.3745383\ttotal: 7.92s\tremaining: 14.4s\n",
      "355:\tlearn: 0.3745248\ttotal: 7.94s\tremaining: 14.4s\n",
      "356:\tlearn: 0.3745127\ttotal: 7.96s\tremaining: 14.3s\n",
      "357:\tlearn: 0.3744996\ttotal: 7.99s\tremaining: 14.3s\n",
      "358:\tlearn: 0.3744896\ttotal: 8.01s\tremaining: 14.3s\n",
      "359:\tlearn: 0.3744764\ttotal: 8.03s\tremaining: 14.3s\n",
      "360:\tlearn: 0.3744631\ttotal: 8.05s\tremaining: 14.2s\n",
      "361:\tlearn: 0.3744496\ttotal: 8.07s\tremaining: 14.2s\n",
      "362:\tlearn: 0.3744369\ttotal: 8.09s\tremaining: 14.2s\n",
      "363:\tlearn: 0.3744256\ttotal: 8.11s\tremaining: 14.2s\n",
      "364:\tlearn: 0.3744156\ttotal: 8.13s\tremaining: 14.1s\n",
      "365:\tlearn: 0.3744028\ttotal: 8.15s\tremaining: 14.1s\n",
      "366:\tlearn: 0.3743882\ttotal: 8.18s\tremaining: 14.1s\n",
      "367:\tlearn: 0.3743761\ttotal: 8.2s\tremaining: 14.1s\n",
      "368:\tlearn: 0.3743613\ttotal: 8.22s\tremaining: 14.1s\n",
      "369:\tlearn: 0.3743445\ttotal: 8.24s\tremaining: 14s\n",
      "370:\tlearn: 0.3743362\ttotal: 8.26s\tremaining: 14s\n",
      "371:\tlearn: 0.3743238\ttotal: 8.28s\tremaining: 14s\n",
      "372:\tlearn: 0.3743122\ttotal: 8.3s\tremaining: 14s\n",
      "373:\tlearn: 0.3742979\ttotal: 8.33s\tremaining: 13.9s\n",
      "374:\tlearn: 0.3742866\ttotal: 8.35s\tremaining: 13.9s\n",
      "375:\tlearn: 0.3742704\ttotal: 8.37s\tremaining: 13.9s\n",
      "376:\tlearn: 0.3742606\ttotal: 8.39s\tremaining: 13.9s\n",
      "377:\tlearn: 0.3742494\ttotal: 8.41s\tremaining: 13.8s\n",
      "378:\tlearn: 0.3742403\ttotal: 8.43s\tremaining: 13.8s\n",
      "379:\tlearn: 0.3742293\ttotal: 8.46s\tremaining: 13.8s\n",
      "380:\tlearn: 0.3742200\ttotal: 8.48s\tremaining: 13.8s\n",
      "381:\tlearn: 0.3742107\ttotal: 8.5s\tremaining: 13.8s\n",
      "382:\tlearn: 0.3742006\ttotal: 8.52s\tremaining: 13.7s\n",
      "383:\tlearn: 0.3741870\ttotal: 8.54s\tremaining: 13.7s\n",
      "384:\tlearn: 0.3741761\ttotal: 8.57s\tremaining: 13.7s\n",
      "385:\tlearn: 0.3741648\ttotal: 8.59s\tremaining: 13.7s\n",
      "386:\tlearn: 0.3741481\ttotal: 8.61s\tremaining: 13.6s\n",
      "387:\tlearn: 0.3741325\ttotal: 8.63s\tremaining: 13.6s\n",
      "388:\tlearn: 0.3741174\ttotal: 8.65s\tremaining: 13.6s\n",
      "389:\tlearn: 0.3741082\ttotal: 8.67s\tremaining: 13.6s\n",
      "390:\tlearn: 0.3740971\ttotal: 8.7s\tremaining: 13.5s\n",
      "391:\tlearn: 0.3740871\ttotal: 8.72s\tremaining: 13.5s\n",
      "392:\tlearn: 0.3740766\ttotal: 8.74s\tremaining: 13.5s\n",
      "393:\tlearn: 0.3740695\ttotal: 8.76s\tremaining: 13.5s\n",
      "394:\tlearn: 0.3740571\ttotal: 8.78s\tremaining: 13.5s\n",
      "395:\tlearn: 0.3740496\ttotal: 8.8s\tremaining: 13.4s\n",
      "396:\tlearn: 0.3740371\ttotal: 8.82s\tremaining: 13.4s\n",
      "397:\tlearn: 0.3740266\ttotal: 8.85s\tremaining: 13.4s\n",
      "398:\tlearn: 0.3740133\ttotal: 8.87s\tremaining: 13.4s\n",
      "399:\tlearn: 0.3740040\ttotal: 8.89s\tremaining: 13.3s\n",
      "400:\tlearn: 0.3739875\ttotal: 8.91s\tremaining: 13.3s\n",
      "401:\tlearn: 0.3739731\ttotal: 8.93s\tremaining: 13.3s\n",
      "402:\tlearn: 0.3739607\ttotal: 8.95s\tremaining: 13.3s\n",
      "403:\tlearn: 0.3739463\ttotal: 8.97s\tremaining: 13.2s\n",
      "404:\tlearn: 0.3739358\ttotal: 9s\tremaining: 13.2s\n",
      "405:\tlearn: 0.3739246\ttotal: 9.02s\tremaining: 13.2s\n",
      "406:\tlearn: 0.3739143\ttotal: 9.04s\tremaining: 13.2s\n",
      "407:\tlearn: 0.3739040\ttotal: 9.06s\tremaining: 13.2s\n",
      "408:\tlearn: 0.3738912\ttotal: 9.08s\tremaining: 13.1s\n",
      "409:\tlearn: 0.3738790\ttotal: 9.11s\tremaining: 13.1s\n",
      "410:\tlearn: 0.3738660\ttotal: 9.13s\tremaining: 13.1s\n",
      "411:\tlearn: 0.3738517\ttotal: 9.15s\tremaining: 13.1s\n",
      "412:\tlearn: 0.3738422\ttotal: 9.17s\tremaining: 13s\n",
      "413:\tlearn: 0.3738268\ttotal: 9.19s\tremaining: 13s\n",
      "414:\tlearn: 0.3738130\ttotal: 9.21s\tremaining: 13s\n",
      "415:\tlearn: 0.3738008\ttotal: 9.23s\tremaining: 13s\n",
      "416:\tlearn: 0.3737895\ttotal: 9.25s\tremaining: 12.9s\n",
      "417:\tlearn: 0.3737776\ttotal: 9.28s\tremaining: 12.9s\n",
      "418:\tlearn: 0.3737673\ttotal: 9.3s\tremaining: 12.9s\n",
      "419:\tlearn: 0.3737541\ttotal: 9.32s\tremaining: 12.9s\n",
      "420:\tlearn: 0.3737403\ttotal: 9.34s\tremaining: 12.8s\n",
      "421:\tlearn: 0.3737339\ttotal: 9.36s\tremaining: 12.8s\n",
      "422:\tlearn: 0.3737206\ttotal: 9.38s\tremaining: 12.8s\n",
      "423:\tlearn: 0.3737088\ttotal: 9.4s\tremaining: 12.8s\n",
      "424:\tlearn: 0.3736983\ttotal: 9.43s\tremaining: 12.8s\n",
      "425:\tlearn: 0.3736870\ttotal: 9.45s\tremaining: 12.7s\n",
      "426:\tlearn: 0.3736758\ttotal: 9.47s\tremaining: 12.7s\n",
      "427:\tlearn: 0.3736696\ttotal: 9.49s\tremaining: 12.7s\n",
      "428:\tlearn: 0.3736552\ttotal: 9.51s\tremaining: 12.7s\n",
      "429:\tlearn: 0.3736449\ttotal: 9.53s\tremaining: 12.6s\n",
      "430:\tlearn: 0.3736343\ttotal: 9.55s\tremaining: 12.6s\n",
      "431:\tlearn: 0.3736250\ttotal: 9.57s\tremaining: 12.6s\n",
      "432:\tlearn: 0.3736150\ttotal: 9.6s\tremaining: 12.6s\n",
      "433:\tlearn: 0.3736051\ttotal: 9.62s\tremaining: 12.5s\n",
      "434:\tlearn: 0.3735905\ttotal: 9.64s\tremaining: 12.5s\n",
      "435:\tlearn: 0.3735817\ttotal: 9.66s\tremaining: 12.5s\n",
      "436:\tlearn: 0.3735702\ttotal: 9.68s\tremaining: 12.5s\n",
      "437:\tlearn: 0.3735598\ttotal: 9.7s\tremaining: 12.4s\n",
      "438:\tlearn: 0.3735516\ttotal: 9.72s\tremaining: 12.4s\n",
      "439:\tlearn: 0.3735404\ttotal: 9.74s\tremaining: 12.4s\n",
      "440:\tlearn: 0.3735291\ttotal: 9.76s\tremaining: 12.4s\n",
      "441:\tlearn: 0.3735126\ttotal: 9.79s\tremaining: 12.4s\n",
      "442:\tlearn: 0.3735044\ttotal: 9.81s\tremaining: 12.3s\n",
      "443:\tlearn: 0.3734925\ttotal: 9.83s\tremaining: 12.3s\n",
      "444:\tlearn: 0.3734815\ttotal: 9.85s\tremaining: 12.3s\n",
      "445:\tlearn: 0.3734715\ttotal: 9.88s\tremaining: 12.3s\n",
      "446:\tlearn: 0.3734597\ttotal: 9.89s\tremaining: 12.2s\n",
      "447:\tlearn: 0.3734526\ttotal: 9.91s\tremaining: 12.2s\n",
      "448:\tlearn: 0.3734430\ttotal: 9.94s\tremaining: 12.2s\n",
      "449:\tlearn: 0.3734317\ttotal: 9.96s\tremaining: 12.2s\n",
      "450:\tlearn: 0.3734227\ttotal: 9.98s\tremaining: 12.2s\n",
      "451:\tlearn: 0.3734120\ttotal: 10s\tremaining: 12.1s\n",
      "452:\tlearn: 0.3734016\ttotal: 10s\tremaining: 12.1s\n",
      "453:\tlearn: 0.3733930\ttotal: 10s\tremaining: 12.1s\n",
      "454:\tlearn: 0.3733805\ttotal: 10.1s\tremaining: 12.1s\n",
      "455:\tlearn: 0.3733718\ttotal: 10.1s\tremaining: 12s\n",
      "456:\tlearn: 0.3733571\ttotal: 10.1s\tremaining: 12s\n",
      "457:\tlearn: 0.3733453\ttotal: 10.1s\tremaining: 12s\n",
      "458:\tlearn: 0.3733326\ttotal: 10.2s\tremaining: 12s\n",
      "459:\tlearn: 0.3733211\ttotal: 10.2s\tremaining: 11.9s\n",
      "460:\tlearn: 0.3733069\ttotal: 10.2s\tremaining: 11.9s\n",
      "461:\tlearn: 0.3733004\ttotal: 10.2s\tremaining: 11.9s\n",
      "462:\tlearn: 0.3732871\ttotal: 10.2s\tremaining: 11.9s\n",
      "463:\tlearn: 0.3732748\ttotal: 10.3s\tremaining: 11.9s\n",
      "464:\tlearn: 0.3732639\ttotal: 10.3s\tremaining: 11.8s\n",
      "465:\tlearn: 0.3732525\ttotal: 10.3s\tremaining: 11.8s\n",
      "466:\tlearn: 0.3732417\ttotal: 10.3s\tremaining: 11.8s\n",
      "467:\tlearn: 0.3732318\ttotal: 10.3s\tremaining: 11.8s\n",
      "468:\tlearn: 0.3732221\ttotal: 10.4s\tremaining: 11.7s\n",
      "469:\tlearn: 0.3732131\ttotal: 10.4s\tremaining: 11.7s\n",
      "470:\tlearn: 0.3732045\ttotal: 10.4s\tremaining: 11.7s\n",
      "471:\tlearn: 0.3731909\ttotal: 10.4s\tremaining: 11.7s\n",
      "472:\tlearn: 0.3731830\ttotal: 10.4s\tremaining: 11.6s\n",
      "473:\tlearn: 0.3731747\ttotal: 10.5s\tremaining: 11.6s\n",
      "474:\tlearn: 0.3731620\ttotal: 10.5s\tremaining: 11.6s\n",
      "475:\tlearn: 0.3731480\ttotal: 10.5s\tremaining: 11.6s\n",
      "476:\tlearn: 0.3731371\ttotal: 10.5s\tremaining: 11.5s\n",
      "477:\tlearn: 0.3731245\ttotal: 10.6s\tremaining: 11.5s\n",
      "478:\tlearn: 0.3731131\ttotal: 10.6s\tremaining: 11.5s\n",
      "479:\tlearn: 0.3731041\ttotal: 10.6s\tremaining: 11.5s\n",
      "480:\tlearn: 0.3730893\ttotal: 10.6s\tremaining: 11.5s\n",
      "481:\tlearn: 0.3730753\ttotal: 10.6s\tremaining: 11.4s\n",
      "482:\tlearn: 0.3730631\ttotal: 10.7s\tremaining: 11.4s\n",
      "483:\tlearn: 0.3730531\ttotal: 10.7s\tremaining: 11.4s\n",
      "484:\tlearn: 0.3730421\ttotal: 10.7s\tremaining: 11.4s\n",
      "485:\tlearn: 0.3730337\ttotal: 10.7s\tremaining: 11.3s\n",
      "486:\tlearn: 0.3730233\ttotal: 10.7s\tremaining: 11.3s\n",
      "487:\tlearn: 0.3730132\ttotal: 10.8s\tremaining: 11.3s\n",
      "488:\tlearn: 0.3730036\ttotal: 10.8s\tremaining: 11.3s\n",
      "489:\tlearn: 0.3729946\ttotal: 10.8s\tremaining: 11.3s\n",
      "490:\tlearn: 0.3729814\ttotal: 10.8s\tremaining: 11.2s\n"
     ]
    },
    {
     "name": "stdout",
     "output_type": "stream",
     "text": [
      "491:\tlearn: 0.3729740\ttotal: 10.9s\tremaining: 11.2s\n",
      "492:\tlearn: 0.3729644\ttotal: 10.9s\tremaining: 11.2s\n",
      "493:\tlearn: 0.3729520\ttotal: 10.9s\tremaining: 11.2s\n",
      "494:\tlearn: 0.3729405\ttotal: 10.9s\tremaining: 11.1s\n",
      "495:\tlearn: 0.3729282\ttotal: 10.9s\tremaining: 11.1s\n",
      "496:\tlearn: 0.3729165\ttotal: 11s\tremaining: 11.1s\n",
      "497:\tlearn: 0.3729052\ttotal: 11s\tremaining: 11.1s\n",
      "498:\tlearn: 0.3728969\ttotal: 11s\tremaining: 11.1s\n",
      "499:\tlearn: 0.3728854\ttotal: 11s\tremaining: 11s\n",
      "500:\tlearn: 0.3728752\ttotal: 11.1s\tremaining: 11s\n",
      "501:\tlearn: 0.3728642\ttotal: 11.1s\tremaining: 11s\n",
      "502:\tlearn: 0.3728546\ttotal: 11.1s\tremaining: 11s\n",
      "503:\tlearn: 0.3728415\ttotal: 11.1s\tremaining: 10.9s\n",
      "504:\tlearn: 0.3728310\ttotal: 11.1s\tremaining: 10.9s\n",
      "505:\tlearn: 0.3728201\ttotal: 11.2s\tremaining: 10.9s\n",
      "506:\tlearn: 0.3728067\ttotal: 11.2s\tremaining: 10.9s\n",
      "507:\tlearn: 0.3727963\ttotal: 11.2s\tremaining: 10.8s\n",
      "508:\tlearn: 0.3727869\ttotal: 11.2s\tremaining: 10.8s\n",
      "509:\tlearn: 0.3727766\ttotal: 11.2s\tremaining: 10.8s\n",
      "510:\tlearn: 0.3727693\ttotal: 11.3s\tremaining: 10.8s\n",
      "511:\tlearn: 0.3727592\ttotal: 11.3s\tremaining: 10.8s\n",
      "512:\tlearn: 0.3727494\ttotal: 11.3s\tremaining: 10.7s\n",
      "513:\tlearn: 0.3727411\ttotal: 11.3s\tremaining: 10.7s\n",
      "514:\tlearn: 0.3727284\ttotal: 11.4s\tremaining: 10.7s\n",
      "515:\tlearn: 0.3727140\ttotal: 11.4s\tremaining: 10.7s\n",
      "516:\tlearn: 0.3727054\ttotal: 11.4s\tremaining: 10.6s\n",
      "517:\tlearn: 0.3726962\ttotal: 11.4s\tremaining: 10.6s\n",
      "518:\tlearn: 0.3726892\ttotal: 11.4s\tremaining: 10.6s\n",
      "519:\tlearn: 0.3726793\ttotal: 11.5s\tremaining: 10.6s\n",
      "520:\tlearn: 0.3726650\ttotal: 11.5s\tremaining: 10.6s\n",
      "521:\tlearn: 0.3726564\ttotal: 11.5s\tremaining: 10.5s\n",
      "522:\tlearn: 0.3726450\ttotal: 11.5s\tremaining: 10.5s\n",
      "523:\tlearn: 0.3726306\ttotal: 11.5s\tremaining: 10.5s\n",
      "524:\tlearn: 0.3726197\ttotal: 11.6s\tremaining: 10.5s\n",
      "525:\tlearn: 0.3726102\ttotal: 11.6s\tremaining: 10.4s\n",
      "526:\tlearn: 0.3726005\ttotal: 11.6s\tremaining: 10.4s\n",
      "527:\tlearn: 0.3725917\ttotal: 11.6s\tremaining: 10.4s\n",
      "528:\tlearn: 0.3725813\ttotal: 11.7s\tremaining: 10.4s\n",
      "529:\tlearn: 0.3725738\ttotal: 11.7s\tremaining: 10.4s\n",
      "530:\tlearn: 0.3725641\ttotal: 11.7s\tremaining: 10.3s\n",
      "531:\tlearn: 0.3725536\ttotal: 11.7s\tremaining: 10.3s\n",
      "532:\tlearn: 0.3725421\ttotal: 11.7s\tremaining: 10.3s\n",
      "533:\tlearn: 0.3725335\ttotal: 11.8s\tremaining: 10.3s\n",
      "534:\tlearn: 0.3725209\ttotal: 11.8s\tremaining: 10.2s\n",
      "535:\tlearn: 0.3725102\ttotal: 11.8s\tremaining: 10.2s\n",
      "536:\tlearn: 0.3725007\ttotal: 11.8s\tremaining: 10.2s\n",
      "537:\tlearn: 0.3724930\ttotal: 11.9s\tremaining: 10.2s\n",
      "538:\tlearn: 0.3724825\ttotal: 11.9s\tremaining: 10.2s\n",
      "539:\tlearn: 0.3724742\ttotal: 11.9s\tremaining: 10.1s\n",
      "540:\tlearn: 0.3724657\ttotal: 11.9s\tremaining: 10.1s\n",
      "541:\tlearn: 0.3724578\ttotal: 11.9s\tremaining: 10.1s\n",
      "542:\tlearn: 0.3724476\ttotal: 12s\tremaining: 10.1s\n",
      "543:\tlearn: 0.3724383\ttotal: 12s\tremaining: 10s\n",
      "544:\tlearn: 0.3724270\ttotal: 12s\tremaining: 10s\n",
      "545:\tlearn: 0.3724173\ttotal: 12s\tremaining: 10s\n",
      "546:\tlearn: 0.3724079\ttotal: 12.1s\tremaining: 9.98s\n",
      "547:\tlearn: 0.3723967\ttotal: 12.1s\tremaining: 9.96s\n",
      "548:\tlearn: 0.3723876\ttotal: 12.1s\tremaining: 9.93s\n",
      "549:\tlearn: 0.3723768\ttotal: 12.1s\tremaining: 9.91s\n",
      "550:\tlearn: 0.3723686\ttotal: 12.1s\tremaining: 9.89s\n",
      "551:\tlearn: 0.3723571\ttotal: 12.2s\tremaining: 9.87s\n",
      "552:\tlearn: 0.3723431\ttotal: 12.2s\tremaining: 9.85s\n",
      "553:\tlearn: 0.3723312\ttotal: 12.2s\tremaining: 9.82s\n",
      "554:\tlearn: 0.3723212\ttotal: 12.2s\tremaining: 9.8s\n",
      "555:\tlearn: 0.3723114\ttotal: 12.2s\tremaining: 9.78s\n",
      "556:\tlearn: 0.3723026\ttotal: 12.3s\tremaining: 9.76s\n",
      "557:\tlearn: 0.3722903\ttotal: 12.3s\tremaining: 9.74s\n",
      "558:\tlearn: 0.3722827\ttotal: 12.3s\tremaining: 9.71s\n",
      "559:\tlearn: 0.3722762\ttotal: 12.3s\tremaining: 9.69s\n",
      "560:\tlearn: 0.3722706\ttotal: 12.4s\tremaining: 9.67s\n",
      "561:\tlearn: 0.3722606\ttotal: 12.4s\tremaining: 9.64s\n",
      "562:\tlearn: 0.3722501\ttotal: 12.4s\tremaining: 9.62s\n",
      "563:\tlearn: 0.3722410\ttotal: 12.4s\tremaining: 9.6s\n",
      "564:\tlearn: 0.3722311\ttotal: 12.4s\tremaining: 9.58s\n",
      "565:\tlearn: 0.3722174\ttotal: 12.5s\tremaining: 9.55s\n",
      "566:\tlearn: 0.3722045\ttotal: 12.5s\tremaining: 9.54s\n",
      "567:\tlearn: 0.3721933\ttotal: 12.5s\tremaining: 9.52s\n",
      "568:\tlearn: 0.3721798\ttotal: 12.5s\tremaining: 9.49s\n",
      "569:\tlearn: 0.3721741\ttotal: 12.6s\tremaining: 9.47s\n",
      "570:\tlearn: 0.3721653\ttotal: 12.6s\tremaining: 9.45s\n",
      "571:\tlearn: 0.3721552\ttotal: 12.6s\tremaining: 9.43s\n",
      "572:\tlearn: 0.3721459\ttotal: 12.6s\tremaining: 9.41s\n",
      "573:\tlearn: 0.3721350\ttotal: 12.6s\tremaining: 9.39s\n",
      "574:\tlearn: 0.3721223\ttotal: 12.7s\tremaining: 9.37s\n",
      "575:\tlearn: 0.3721117\ttotal: 12.7s\tremaining: 9.34s\n",
      "576:\tlearn: 0.3721052\ttotal: 12.7s\tremaining: 9.32s\n",
      "577:\tlearn: 0.3720963\ttotal: 12.7s\tremaining: 9.3s\n",
      "578:\tlearn: 0.3720879\ttotal: 12.8s\tremaining: 9.28s\n",
      "579:\tlearn: 0.3720818\ttotal: 12.8s\tremaining: 9.25s\n",
      "580:\tlearn: 0.3720722\ttotal: 12.8s\tremaining: 9.23s\n",
      "581:\tlearn: 0.3720630\ttotal: 12.8s\tremaining: 9.21s\n",
      "582:\tlearn: 0.3720559\ttotal: 12.8s\tremaining: 9.18s\n",
      "583:\tlearn: 0.3720482\ttotal: 12.9s\tremaining: 9.16s\n",
      "584:\tlearn: 0.3720354\ttotal: 12.9s\tremaining: 9.14s\n",
      "585:\tlearn: 0.3720253\ttotal: 12.9s\tremaining: 9.12s\n",
      "586:\tlearn: 0.3720148\ttotal: 12.9s\tremaining: 9.09s\n",
      "587:\tlearn: 0.3720010\ttotal: 12.9s\tremaining: 9.07s\n",
      "588:\tlearn: 0.3719881\ttotal: 13s\tremaining: 9.05s\n",
      "589:\tlearn: 0.3719795\ttotal: 13s\tremaining: 9.03s\n",
      "590:\tlearn: 0.3719706\ttotal: 13s\tremaining: 9.01s\n",
      "591:\tlearn: 0.3719636\ttotal: 13s\tremaining: 8.98s\n",
      "592:\tlearn: 0.3719556\ttotal: 13.1s\tremaining: 8.96s\n",
      "593:\tlearn: 0.3719456\ttotal: 13.1s\tremaining: 8.94s\n",
      "594:\tlearn: 0.3719387\ttotal: 13.1s\tremaining: 8.92s\n",
      "595:\tlearn: 0.3719268\ttotal: 13.1s\tremaining: 8.89s\n",
      "596:\tlearn: 0.3719174\ttotal: 13.1s\tremaining: 8.87s\n",
      "597:\tlearn: 0.3719060\ttotal: 13.2s\tremaining: 8.85s\n",
      "598:\tlearn: 0.3718937\ttotal: 13.2s\tremaining: 8.83s\n",
      "599:\tlearn: 0.3718823\ttotal: 13.2s\tremaining: 8.8s\n",
      "600:\tlearn: 0.3718728\ttotal: 13.2s\tremaining: 8.78s\n",
      "601:\tlearn: 0.3718651\ttotal: 13.3s\tremaining: 8.76s\n",
      "602:\tlearn: 0.3718539\ttotal: 13.3s\tremaining: 8.74s\n",
      "603:\tlearn: 0.3718437\ttotal: 13.3s\tremaining: 8.72s\n",
      "604:\tlearn: 0.3718334\ttotal: 13.3s\tremaining: 8.7s\n",
      "605:\tlearn: 0.3718232\ttotal: 13.3s\tremaining: 8.67s\n",
      "606:\tlearn: 0.3718129\ttotal: 13.4s\tremaining: 8.65s\n",
      "607:\tlearn: 0.3718030\ttotal: 13.4s\tremaining: 8.63s\n",
      "608:\tlearn: 0.3717945\ttotal: 13.4s\tremaining: 8.61s\n",
      "609:\tlearn: 0.3717880\ttotal: 13.4s\tremaining: 8.58s\n",
      "610:\tlearn: 0.3717824\ttotal: 13.4s\tremaining: 8.56s\n",
      "611:\tlearn: 0.3717726\ttotal: 13.5s\tremaining: 8.54s\n",
      "612:\tlearn: 0.3717633\ttotal: 13.5s\tremaining: 8.52s\n",
      "613:\tlearn: 0.3717536\ttotal: 13.5s\tremaining: 8.5s\n",
      "614:\tlearn: 0.3717398\ttotal: 13.5s\tremaining: 8.48s\n",
      "615:\tlearn: 0.3717284\ttotal: 13.6s\tremaining: 8.45s\n",
      "616:\tlearn: 0.3717199\ttotal: 13.6s\tremaining: 8.43s\n",
      "617:\tlearn: 0.3717134\ttotal: 13.6s\tremaining: 8.41s\n",
      "618:\tlearn: 0.3717002\ttotal: 13.6s\tremaining: 8.39s\n",
      "619:\tlearn: 0.3716909\ttotal: 13.6s\tremaining: 8.37s\n",
      "620:\tlearn: 0.3716780\ttotal: 13.7s\tremaining: 8.34s\n",
      "621:\tlearn: 0.3716665\ttotal: 13.7s\tremaining: 8.32s\n",
      "622:\tlearn: 0.3716555\ttotal: 13.7s\tremaining: 8.3s\n",
      "623:\tlearn: 0.3716469\ttotal: 13.7s\tremaining: 8.28s\n",
      "624:\tlearn: 0.3716339\ttotal: 13.8s\tremaining: 8.26s\n",
      "625:\tlearn: 0.3716251\ttotal: 13.8s\tremaining: 8.23s\n",
      "626:\tlearn: 0.3716111\ttotal: 13.8s\tremaining: 8.21s\n",
      "627:\tlearn: 0.3716019\ttotal: 13.8s\tremaining: 8.19s\n",
      "628:\tlearn: 0.3715944\ttotal: 13.9s\tremaining: 8.17s\n",
      "629:\tlearn: 0.3715877\ttotal: 13.9s\tremaining: 8.15s\n",
      "630:\tlearn: 0.3715805\ttotal: 13.9s\tremaining: 8.13s\n",
      "631:\tlearn: 0.3715700\ttotal: 13.9s\tremaining: 8.1s\n",
      "632:\tlearn: 0.3715613\ttotal: 13.9s\tremaining: 8.08s\n",
      "633:\tlearn: 0.3715514\ttotal: 14s\tremaining: 8.06s\n",
      "634:\tlearn: 0.3715414\ttotal: 14s\tremaining: 8.04s\n",
      "635:\tlearn: 0.3715350\ttotal: 14s\tremaining: 8.02s\n",
      "636:\tlearn: 0.3715240\ttotal: 14s\tremaining: 7.99s\n",
      "637:\tlearn: 0.3715135\ttotal: 14.1s\tremaining: 7.97s\n",
      "638:\tlearn: 0.3715003\ttotal: 14.1s\tremaining: 7.95s\n",
      "639:\tlearn: 0.3714914\ttotal: 14.1s\tremaining: 7.93s\n",
      "640:\tlearn: 0.3714816\ttotal: 14.1s\tremaining: 7.9s\n",
      "641:\tlearn: 0.3714750\ttotal: 14.1s\tremaining: 7.88s\n",
      "642:\tlearn: 0.3714641\ttotal: 14.2s\tremaining: 7.86s\n",
      "643:\tlearn: 0.3714565\ttotal: 14.2s\tremaining: 7.84s\n",
      "644:\tlearn: 0.3714498\ttotal: 14.2s\tremaining: 7.81s\n",
      "645:\tlearn: 0.3714368\ttotal: 14.2s\tremaining: 7.79s\n",
      "646:\tlearn: 0.3714260\ttotal: 14.2s\tremaining: 7.77s\n",
      "647:\tlearn: 0.3714164\ttotal: 14.3s\tremaining: 7.75s\n",
      "648:\tlearn: 0.3714042\ttotal: 14.3s\tremaining: 7.72s\n",
      "649:\tlearn: 0.3713964\ttotal: 14.3s\tremaining: 7.7s\n"
     ]
    },
    {
     "name": "stdout",
     "output_type": "stream",
     "text": [
      "650:\tlearn: 0.3713904\ttotal: 14.3s\tremaining: 7.68s\n",
      "651:\tlearn: 0.3713837\ttotal: 14.3s\tremaining: 7.66s\n",
      "652:\tlearn: 0.3713768\ttotal: 14.4s\tremaining: 7.63s\n",
      "653:\tlearn: 0.3713691\ttotal: 14.4s\tremaining: 7.61s\n",
      "654:\tlearn: 0.3713604\ttotal: 14.4s\tremaining: 7.59s\n",
      "655:\tlearn: 0.3713493\ttotal: 14.4s\tremaining: 7.57s\n",
      "656:\tlearn: 0.3713359\ttotal: 14.5s\tremaining: 7.54s\n",
      "657:\tlearn: 0.3713231\ttotal: 14.5s\tremaining: 7.52s\n",
      "658:\tlearn: 0.3713086\ttotal: 14.5s\tremaining: 7.5s\n",
      "659:\tlearn: 0.3713021\ttotal: 14.5s\tremaining: 7.48s\n",
      "660:\tlearn: 0.3712896\ttotal: 14.5s\tremaining: 7.46s\n",
      "661:\tlearn: 0.3712787\ttotal: 14.6s\tremaining: 7.44s\n",
      "662:\tlearn: 0.3712698\ttotal: 14.6s\tremaining: 7.41s\n",
      "663:\tlearn: 0.3712608\ttotal: 14.6s\tremaining: 7.39s\n",
      "664:\tlearn: 0.3712504\ttotal: 14.6s\tremaining: 7.37s\n",
      "665:\tlearn: 0.3712425\ttotal: 14.6s\tremaining: 7.34s\n",
      "666:\tlearn: 0.3712344\ttotal: 14.7s\tremaining: 7.32s\n",
      "667:\tlearn: 0.3712276\ttotal: 14.7s\tremaining: 7.3s\n",
      "668:\tlearn: 0.3712155\ttotal: 14.7s\tremaining: 7.28s\n",
      "669:\tlearn: 0.3712079\ttotal: 14.7s\tremaining: 7.25s\n",
      "670:\tlearn: 0.3712005\ttotal: 14.8s\tremaining: 7.23s\n",
      "671:\tlearn: 0.3711878\ttotal: 14.8s\tremaining: 7.21s\n",
      "672:\tlearn: 0.3711798\ttotal: 14.8s\tremaining: 7.19s\n",
      "673:\tlearn: 0.3711724\ttotal: 14.8s\tremaining: 7.17s\n",
      "674:\tlearn: 0.3711624\ttotal: 14.8s\tremaining: 7.15s\n",
      "675:\tlearn: 0.3711521\ttotal: 14.9s\tremaining: 7.12s\n",
      "676:\tlearn: 0.3711416\ttotal: 14.9s\tremaining: 7.1s\n",
      "677:\tlearn: 0.3711292\ttotal: 14.9s\tremaining: 7.08s\n",
      "678:\tlearn: 0.3711186\ttotal: 14.9s\tremaining: 7.06s\n",
      "679:\tlearn: 0.3711076\ttotal: 14.9s\tremaining: 7.04s\n",
      "680:\tlearn: 0.3710989\ttotal: 15s\tremaining: 7.01s\n",
      "681:\tlearn: 0.3710851\ttotal: 15s\tremaining: 6.99s\n",
      "682:\tlearn: 0.3710763\ttotal: 15s\tremaining: 6.97s\n",
      "683:\tlearn: 0.3710627\ttotal: 15s\tremaining: 6.95s\n",
      "684:\tlearn: 0.3710534\ttotal: 15.1s\tremaining: 6.92s\n",
      "685:\tlearn: 0.3710442\ttotal: 15.1s\tremaining: 6.9s\n",
      "686:\tlearn: 0.3710339\ttotal: 15.1s\tremaining: 6.88s\n",
      "687:\tlearn: 0.3710228\ttotal: 15.1s\tremaining: 6.86s\n",
      "688:\tlearn: 0.3710163\ttotal: 15.1s\tremaining: 6.83s\n",
      "689:\tlearn: 0.3710059\ttotal: 15.2s\tremaining: 6.81s\n",
      "690:\tlearn: 0.3709950\ttotal: 15.2s\tremaining: 6.79s\n",
      "691:\tlearn: 0.3709851\ttotal: 15.2s\tremaining: 6.77s\n",
      "692:\tlearn: 0.3709737\ttotal: 15.2s\tremaining: 6.75s\n",
      "693:\tlearn: 0.3709651\ttotal: 15.2s\tremaining: 6.72s\n",
      "694:\tlearn: 0.3709564\ttotal: 15.3s\tremaining: 6.7s\n",
      "695:\tlearn: 0.3709448\ttotal: 15.3s\tremaining: 6.68s\n",
      "696:\tlearn: 0.3709327\ttotal: 15.3s\tremaining: 6.66s\n",
      "697:\tlearn: 0.3709235\ttotal: 15.3s\tremaining: 6.63s\n",
      "698:\tlearn: 0.3709122\ttotal: 15.4s\tremaining: 6.61s\n",
      "699:\tlearn: 0.3709062\ttotal: 15.4s\tremaining: 6.59s\n",
      "700:\tlearn: 0.3708988\ttotal: 15.4s\tremaining: 6.57s\n",
      "701:\tlearn: 0.3708909\ttotal: 15.4s\tremaining: 6.55s\n",
      "702:\tlearn: 0.3708830\ttotal: 15.4s\tremaining: 6.52s\n",
      "703:\tlearn: 0.3708758\ttotal: 15.5s\tremaining: 6.5s\n",
      "704:\tlearn: 0.3708660\ttotal: 15.5s\tremaining: 6.48s\n",
      "705:\tlearn: 0.3708562\ttotal: 15.5s\tremaining: 6.46s\n",
      "706:\tlearn: 0.3708478\ttotal: 15.5s\tremaining: 6.43s\n",
      "707:\tlearn: 0.3708413\ttotal: 15.5s\tremaining: 6.41s\n",
      "708:\tlearn: 0.3708329\ttotal: 15.6s\tremaining: 6.39s\n",
      "709:\tlearn: 0.3708258\ttotal: 15.6s\tremaining: 6.37s\n",
      "710:\tlearn: 0.3708139\ttotal: 15.6s\tremaining: 6.35s\n",
      "711:\tlearn: 0.3708033\ttotal: 15.6s\tremaining: 6.33s\n",
      "712:\tlearn: 0.3707932\ttotal: 15.7s\tremaining: 6.3s\n",
      "713:\tlearn: 0.3707830\ttotal: 15.7s\tremaining: 6.28s\n",
      "714:\tlearn: 0.3707723\ttotal: 15.7s\tremaining: 6.26s\n",
      "715:\tlearn: 0.3707617\ttotal: 15.7s\tremaining: 6.24s\n",
      "716:\tlearn: 0.3707493\ttotal: 15.7s\tremaining: 6.21s\n",
      "717:\tlearn: 0.3707386\ttotal: 15.8s\tremaining: 6.19s\n",
      "718:\tlearn: 0.3707324\ttotal: 15.8s\tremaining: 6.17s\n",
      "719:\tlearn: 0.3707193\ttotal: 15.8s\tremaining: 6.15s\n",
      "720:\tlearn: 0.3707130\ttotal: 15.8s\tremaining: 6.13s\n",
      "721:\tlearn: 0.3707022\ttotal: 15.9s\tremaining: 6.1s\n",
      "722:\tlearn: 0.3706881\ttotal: 15.9s\tremaining: 6.08s\n",
      "723:\tlearn: 0.3706803\ttotal: 15.9s\tremaining: 6.06s\n",
      "724:\tlearn: 0.3706716\ttotal: 15.9s\tremaining: 6.04s\n",
      "725:\tlearn: 0.3706605\ttotal: 15.9s\tremaining: 6.01s\n",
      "726:\tlearn: 0.3706515\ttotal: 16s\tremaining: 5.99s\n",
      "727:\tlearn: 0.3706403\ttotal: 16s\tremaining: 5.97s\n",
      "728:\tlearn: 0.3706328\ttotal: 16s\tremaining: 5.95s\n",
      "729:\tlearn: 0.3706212\ttotal: 16s\tremaining: 5.93s\n",
      "730:\tlearn: 0.3706122\ttotal: 16s\tremaining: 5.9s\n",
      "731:\tlearn: 0.3705959\ttotal: 16.1s\tremaining: 5.88s\n",
      "732:\tlearn: 0.3705840\ttotal: 16.1s\tremaining: 5.86s\n",
      "733:\tlearn: 0.3705739\ttotal: 16.1s\tremaining: 5.84s\n",
      "734:\tlearn: 0.3705667\ttotal: 16.1s\tremaining: 5.82s\n",
      "735:\tlearn: 0.3705541\ttotal: 16.2s\tremaining: 5.79s\n",
      "736:\tlearn: 0.3705430\ttotal: 16.2s\tremaining: 5.77s\n",
      "737:\tlearn: 0.3705346\ttotal: 16.2s\tremaining: 5.75s\n",
      "738:\tlearn: 0.3705265\ttotal: 16.2s\tremaining: 5.73s\n",
      "739:\tlearn: 0.3705194\ttotal: 16.2s\tremaining: 5.71s\n",
      "740:\tlearn: 0.3705133\ttotal: 16.3s\tremaining: 5.68s\n",
      "741:\tlearn: 0.3705039\ttotal: 16.3s\tremaining: 5.66s\n",
      "742:\tlearn: 0.3704934\ttotal: 16.3s\tremaining: 5.64s\n",
      "743:\tlearn: 0.3704847\ttotal: 16.3s\tremaining: 5.62s\n",
      "744:\tlearn: 0.3704760\ttotal: 16.4s\tremaining: 5.6s\n",
      "745:\tlearn: 0.3704631\ttotal: 16.4s\tremaining: 5.57s\n",
      "746:\tlearn: 0.3704530\ttotal: 16.4s\tremaining: 5.55s\n",
      "747:\tlearn: 0.3704426\ttotal: 16.4s\tremaining: 5.53s\n",
      "748:\tlearn: 0.3704302\ttotal: 16.4s\tremaining: 5.51s\n",
      "749:\tlearn: 0.3704188\ttotal: 16.5s\tremaining: 5.49s\n",
      "750:\tlearn: 0.3704117\ttotal: 16.5s\tremaining: 5.46s\n",
      "751:\tlearn: 0.3704055\ttotal: 16.5s\tremaining: 5.44s\n",
      "752:\tlearn: 0.3703976\ttotal: 16.5s\tremaining: 5.42s\n",
      "753:\tlearn: 0.3703856\ttotal: 16.5s\tremaining: 5.4s\n",
      "754:\tlearn: 0.3703739\ttotal: 16.6s\tremaining: 5.38s\n",
      "755:\tlearn: 0.3703638\ttotal: 16.6s\tremaining: 5.35s\n",
      "756:\tlearn: 0.3703535\ttotal: 16.6s\tremaining: 5.33s\n",
      "757:\tlearn: 0.3703428\ttotal: 16.6s\tremaining: 5.31s\n",
      "758:\tlearn: 0.3703334\ttotal: 16.7s\tremaining: 5.29s\n",
      "759:\tlearn: 0.3703233\ttotal: 16.7s\tremaining: 5.26s\n",
      "760:\tlearn: 0.3703162\ttotal: 16.7s\tremaining: 5.24s\n",
      "761:\tlearn: 0.3703072\ttotal: 16.7s\tremaining: 5.22s\n",
      "762:\tlearn: 0.3702970\ttotal: 16.7s\tremaining: 5.2s\n",
      "763:\tlearn: 0.3702869\ttotal: 16.8s\tremaining: 5.18s\n",
      "764:\tlearn: 0.3702780\ttotal: 16.8s\tremaining: 5.16s\n",
      "765:\tlearn: 0.3702684\ttotal: 16.8s\tremaining: 5.13s\n",
      "766:\tlearn: 0.3702587\ttotal: 16.8s\tremaining: 5.11s\n",
      "767:\tlearn: 0.3702456\ttotal: 16.8s\tremaining: 5.09s\n",
      "768:\tlearn: 0.3702367\ttotal: 16.9s\tremaining: 5.07s\n",
      "769:\tlearn: 0.3702249\ttotal: 16.9s\tremaining: 5.04s\n",
      "770:\tlearn: 0.3702154\ttotal: 16.9s\tremaining: 5.02s\n",
      "771:\tlearn: 0.3702023\ttotal: 16.9s\tremaining: 5s\n",
      "772:\tlearn: 0.3701947\ttotal: 17s\tremaining: 4.98s\n",
      "773:\tlearn: 0.3701871\ttotal: 17s\tremaining: 4.96s\n",
      "774:\tlearn: 0.3701781\ttotal: 17s\tremaining: 4.94s\n",
      "775:\tlearn: 0.3701683\ttotal: 17s\tremaining: 4.91s\n",
      "776:\tlearn: 0.3701609\ttotal: 17s\tremaining: 4.89s\n",
      "777:\tlearn: 0.3701518\ttotal: 17.1s\tremaining: 4.87s\n",
      "778:\tlearn: 0.3701450\ttotal: 17.1s\tremaining: 4.85s\n",
      "779:\tlearn: 0.3701380\ttotal: 17.1s\tremaining: 4.83s\n",
      "780:\tlearn: 0.3701290\ttotal: 17.1s\tremaining: 4.8s\n",
      "781:\tlearn: 0.3701208\ttotal: 17.2s\tremaining: 4.78s\n",
      "782:\tlearn: 0.3701111\ttotal: 17.2s\tremaining: 4.76s\n",
      "783:\tlearn: 0.3701020\ttotal: 17.2s\tremaining: 4.74s\n",
      "784:\tlearn: 0.3700933\ttotal: 17.2s\tremaining: 4.72s\n",
      "785:\tlearn: 0.3700842\ttotal: 17.2s\tremaining: 4.69s\n",
      "786:\tlearn: 0.3700730\ttotal: 17.3s\tremaining: 4.67s\n",
      "787:\tlearn: 0.3700630\ttotal: 17.3s\tremaining: 4.65s\n",
      "788:\tlearn: 0.3700524\ttotal: 17.3s\tremaining: 4.63s\n",
      "789:\tlearn: 0.3700461\ttotal: 17.3s\tremaining: 4.61s\n",
      "790:\tlearn: 0.3700326\ttotal: 17.4s\tremaining: 4.58s\n",
      "791:\tlearn: 0.3700208\ttotal: 17.4s\tremaining: 4.56s\n",
      "792:\tlearn: 0.3700144\ttotal: 17.4s\tremaining: 4.54s\n",
      "793:\tlearn: 0.3700018\ttotal: 17.4s\tremaining: 4.52s\n",
      "794:\tlearn: 0.3699894\ttotal: 17.4s\tremaining: 4.5s\n",
      "795:\tlearn: 0.3699783\ttotal: 17.5s\tremaining: 4.47s\n",
      "796:\tlearn: 0.3699691\ttotal: 17.5s\tremaining: 4.45s\n",
      "797:\tlearn: 0.3699591\ttotal: 17.5s\tremaining: 4.43s\n",
      "798:\tlearn: 0.3699488\ttotal: 17.5s\tremaining: 4.41s\n",
      "799:\tlearn: 0.3699389\ttotal: 17.5s\tremaining: 4.39s\n",
      "800:\tlearn: 0.3699307\ttotal: 17.6s\tremaining: 4.37s\n",
      "801:\tlearn: 0.3699172\ttotal: 17.6s\tremaining: 4.34s\n",
      "802:\tlearn: 0.3699086\ttotal: 17.6s\tremaining: 4.32s\n",
      "803:\tlearn: 0.3698995\ttotal: 17.6s\tremaining: 4.3s\n",
      "804:\tlearn: 0.3698895\ttotal: 17.7s\tremaining: 4.28s\n",
      "805:\tlearn: 0.3698803\ttotal: 17.7s\tremaining: 4.25s\n",
      "806:\tlearn: 0.3698721\ttotal: 17.7s\tremaining: 4.23s\n",
      "807:\tlearn: 0.3698649\ttotal: 17.7s\tremaining: 4.21s\n",
      "808:\tlearn: 0.3698558\ttotal: 17.7s\tremaining: 4.19s\n",
      "809:\tlearn: 0.3698467\ttotal: 17.8s\tremaining: 4.17s\n",
      "810:\tlearn: 0.3698400\ttotal: 17.8s\tremaining: 4.14s\n",
      "811:\tlearn: 0.3698299\ttotal: 17.8s\tremaining: 4.12s\n",
      "812:\tlearn: 0.3698190\ttotal: 17.8s\tremaining: 4.1s\n",
      "813:\tlearn: 0.3698089\ttotal: 17.9s\tremaining: 4.08s\n",
      "814:\tlearn: 0.3697972\ttotal: 17.9s\tremaining: 4.06s\n",
      "815:\tlearn: 0.3697885\ttotal: 17.9s\tremaining: 4.03s\n",
      "816:\tlearn: 0.3697769\ttotal: 17.9s\tremaining: 4.01s\n",
      "817:\tlearn: 0.3697666\ttotal: 17.9s\tremaining: 3.99s\n"
     ]
    },
    {
     "name": "stdout",
     "output_type": "stream",
     "text": [
      "818:\tlearn: 0.3697593\ttotal: 18s\tremaining: 3.97s\n",
      "819:\tlearn: 0.3697472\ttotal: 18s\tremaining: 3.95s\n",
      "820:\tlearn: 0.3697381\ttotal: 18s\tremaining: 3.92s\n",
      "821:\tlearn: 0.3697300\ttotal: 18s\tremaining: 3.9s\n",
      "822:\tlearn: 0.3697191\ttotal: 18s\tremaining: 3.88s\n",
      "823:\tlearn: 0.3697098\ttotal: 18.1s\tremaining: 3.86s\n",
      "824:\tlearn: 0.3696996\ttotal: 18.1s\tremaining: 3.84s\n",
      "825:\tlearn: 0.3696902\ttotal: 18.1s\tremaining: 3.81s\n",
      "826:\tlearn: 0.3696787\ttotal: 18.1s\tremaining: 3.79s\n",
      "827:\tlearn: 0.3696648\ttotal: 18.2s\tremaining: 3.77s\n",
      "828:\tlearn: 0.3696534\ttotal: 18.2s\tremaining: 3.75s\n",
      "829:\tlearn: 0.3696410\ttotal: 18.2s\tremaining: 3.73s\n",
      "830:\tlearn: 0.3696330\ttotal: 18.2s\tremaining: 3.7s\n",
      "831:\tlearn: 0.3696232\ttotal: 18.2s\tremaining: 3.68s\n",
      "832:\tlearn: 0.3696166\ttotal: 18.3s\tremaining: 3.66s\n",
      "833:\tlearn: 0.3696085\ttotal: 18.3s\tremaining: 3.64s\n",
      "834:\tlearn: 0.3695989\ttotal: 18.3s\tremaining: 3.62s\n",
      "835:\tlearn: 0.3695879\ttotal: 18.3s\tremaining: 3.59s\n",
      "836:\tlearn: 0.3695755\ttotal: 18.3s\tremaining: 3.57s\n",
      "837:\tlearn: 0.3695660\ttotal: 18.4s\tremaining: 3.55s\n",
      "838:\tlearn: 0.3695555\ttotal: 18.4s\tremaining: 3.53s\n",
      "839:\tlearn: 0.3695470\ttotal: 18.4s\tremaining: 3.51s\n",
      "840:\tlearn: 0.3695381\ttotal: 18.4s\tremaining: 3.48s\n",
      "841:\tlearn: 0.3695303\ttotal: 18.5s\tremaining: 3.46s\n",
      "842:\tlearn: 0.3695212\ttotal: 18.5s\tremaining: 3.44s\n",
      "843:\tlearn: 0.3695089\ttotal: 18.5s\tremaining: 3.42s\n",
      "844:\tlearn: 0.3695001\ttotal: 18.5s\tremaining: 3.4s\n",
      "845:\tlearn: 0.3694889\ttotal: 18.6s\tremaining: 3.38s\n",
      "846:\tlearn: 0.3694801\ttotal: 18.6s\tremaining: 3.35s\n",
      "847:\tlearn: 0.3694694\ttotal: 18.6s\tremaining: 3.33s\n",
      "848:\tlearn: 0.3694617\ttotal: 18.6s\tremaining: 3.31s\n",
      "849:\tlearn: 0.3694551\ttotal: 18.6s\tremaining: 3.29s\n",
      "850:\tlearn: 0.3694476\ttotal: 18.7s\tremaining: 3.27s\n",
      "851:\tlearn: 0.3694382\ttotal: 18.7s\tremaining: 3.25s\n",
      "852:\tlearn: 0.3694265\ttotal: 18.7s\tremaining: 3.22s\n",
      "853:\tlearn: 0.3694144\ttotal: 18.7s\tremaining: 3.2s\n",
      "854:\tlearn: 0.3694072\ttotal: 18.8s\tremaining: 3.18s\n",
      "855:\tlearn: 0.3693989\ttotal: 18.8s\tremaining: 3.16s\n",
      "856:\tlearn: 0.3693936\ttotal: 18.8s\tremaining: 3.14s\n",
      "857:\tlearn: 0.3693837\ttotal: 18.8s\tremaining: 3.11s\n",
      "858:\tlearn: 0.3693743\ttotal: 18.8s\tremaining: 3.09s\n",
      "859:\tlearn: 0.3693677\ttotal: 18.9s\tremaining: 3.07s\n",
      "860:\tlearn: 0.3693630\ttotal: 18.9s\tremaining: 3.05s\n",
      "861:\tlearn: 0.3693528\ttotal: 18.9s\tremaining: 3.03s\n",
      "862:\tlearn: 0.3693416\ttotal: 18.9s\tremaining: 3s\n",
      "863:\tlearn: 0.3693348\ttotal: 18.9s\tremaining: 2.98s\n",
      "864:\tlearn: 0.3693281\ttotal: 19s\tremaining: 2.96s\n",
      "865:\tlearn: 0.3693211\ttotal: 19s\tremaining: 2.94s\n",
      "866:\tlearn: 0.3693121\ttotal: 19s\tremaining: 2.92s\n",
      "867:\tlearn: 0.3693024\ttotal: 19s\tremaining: 2.89s\n",
      "868:\tlearn: 0.3692935\ttotal: 19.1s\tremaining: 2.87s\n",
      "869:\tlearn: 0.3692866\ttotal: 19.1s\tremaining: 2.85s\n",
      "870:\tlearn: 0.3692808\ttotal: 19.1s\tremaining: 2.83s\n",
      "871:\tlearn: 0.3692705\ttotal: 19.1s\tremaining: 2.81s\n",
      "872:\tlearn: 0.3692632\ttotal: 19.1s\tremaining: 2.78s\n",
      "873:\tlearn: 0.3692516\ttotal: 19.2s\tremaining: 2.76s\n",
      "874:\tlearn: 0.3692443\ttotal: 19.2s\tremaining: 2.74s\n",
      "875:\tlearn: 0.3692372\ttotal: 19.2s\tremaining: 2.72s\n",
      "876:\tlearn: 0.3692307\ttotal: 19.2s\tremaining: 2.7s\n",
      "877:\tlearn: 0.3692244\ttotal: 19.2s\tremaining: 2.67s\n",
      "878:\tlearn: 0.3692161\ttotal: 19.3s\tremaining: 2.65s\n",
      "879:\tlearn: 0.3692090\ttotal: 19.3s\tremaining: 2.63s\n",
      "880:\tlearn: 0.3691975\ttotal: 19.3s\tremaining: 2.61s\n",
      "881:\tlearn: 0.3691869\ttotal: 19.3s\tremaining: 2.59s\n",
      "882:\tlearn: 0.3691786\ttotal: 19.4s\tremaining: 2.56s\n",
      "883:\tlearn: 0.3691693\ttotal: 19.4s\tremaining: 2.54s\n",
      "884:\tlearn: 0.3691613\ttotal: 19.4s\tremaining: 2.52s\n",
      "885:\tlearn: 0.3691522\ttotal: 19.4s\tremaining: 2.5s\n",
      "886:\tlearn: 0.3691443\ttotal: 19.4s\tremaining: 2.48s\n",
      "887:\tlearn: 0.3691356\ttotal: 19.5s\tremaining: 2.46s\n",
      "888:\tlearn: 0.3691299\ttotal: 19.5s\tremaining: 2.43s\n",
      "889:\tlearn: 0.3691176\ttotal: 19.5s\tremaining: 2.41s\n",
      "890:\tlearn: 0.3691099\ttotal: 19.5s\tremaining: 2.39s\n",
      "891:\tlearn: 0.3691010\ttotal: 19.5s\tremaining: 2.37s\n",
      "892:\tlearn: 0.3690922\ttotal: 19.6s\tremaining: 2.34s\n",
      "893:\tlearn: 0.3690830\ttotal: 19.6s\tremaining: 2.32s\n",
      "894:\tlearn: 0.3690720\ttotal: 19.6s\tremaining: 2.3s\n",
      "895:\tlearn: 0.3690641\ttotal: 19.6s\tremaining: 2.28s\n",
      "896:\tlearn: 0.3690543\ttotal: 19.7s\tremaining: 2.26s\n",
      "897:\tlearn: 0.3690443\ttotal: 19.7s\tremaining: 2.23s\n",
      "898:\tlearn: 0.3690373\ttotal: 19.7s\tremaining: 2.21s\n",
      "899:\tlearn: 0.3690274\ttotal: 19.7s\tremaining: 2.19s\n",
      "900:\tlearn: 0.3690172\ttotal: 19.7s\tremaining: 2.17s\n",
      "901:\tlearn: 0.3690083\ttotal: 19.8s\tremaining: 2.15s\n",
      "902:\tlearn: 0.3689966\ttotal: 19.8s\tremaining: 2.13s\n",
      "903:\tlearn: 0.3689893\ttotal: 19.8s\tremaining: 2.1s\n",
      "904:\tlearn: 0.3689810\ttotal: 19.8s\tremaining: 2.08s\n",
      "905:\tlearn: 0.3689713\ttotal: 19.9s\tremaining: 2.06s\n",
      "906:\tlearn: 0.3689659\ttotal: 19.9s\tremaining: 2.04s\n",
      "907:\tlearn: 0.3689579\ttotal: 19.9s\tremaining: 2.02s\n",
      "908:\tlearn: 0.3689522\ttotal: 19.9s\tremaining: 1.99s\n",
      "909:\tlearn: 0.3689389\ttotal: 19.9s\tremaining: 1.97s\n",
      "910:\tlearn: 0.3689303\ttotal: 20s\tremaining: 1.95s\n",
      "911:\tlearn: 0.3689241\ttotal: 20s\tremaining: 1.93s\n",
      "912:\tlearn: 0.3689129\ttotal: 20s\tremaining: 1.91s\n",
      "913:\tlearn: 0.3689038\ttotal: 20s\tremaining: 1.88s\n",
      "914:\tlearn: 0.3688960\ttotal: 20.1s\tremaining: 1.86s\n",
      "915:\tlearn: 0.3688877\ttotal: 20.1s\tremaining: 1.84s\n",
      "916:\tlearn: 0.3688809\ttotal: 20.1s\tremaining: 1.82s\n",
      "917:\tlearn: 0.3688700\ttotal: 20.1s\tremaining: 1.8s\n",
      "918:\tlearn: 0.3688637\ttotal: 20.1s\tremaining: 1.77s\n",
      "919:\tlearn: 0.3688551\ttotal: 20.2s\tremaining: 1.75s\n",
      "920:\tlearn: 0.3688419\ttotal: 20.2s\tremaining: 1.73s\n",
      "921:\tlearn: 0.3688305\ttotal: 20.2s\tremaining: 1.71s\n",
      "922:\tlearn: 0.3688228\ttotal: 20.2s\tremaining: 1.69s\n",
      "923:\tlearn: 0.3688164\ttotal: 20.2s\tremaining: 1.67s\n",
      "924:\tlearn: 0.3688094\ttotal: 20.3s\tremaining: 1.64s\n",
      "925:\tlearn: 0.3688000\ttotal: 20.3s\tremaining: 1.62s\n",
      "926:\tlearn: 0.3687930\ttotal: 20.3s\tremaining: 1.6s\n",
      "927:\tlearn: 0.3687857\ttotal: 20.3s\tremaining: 1.58s\n",
      "928:\tlearn: 0.3687757\ttotal: 20.3s\tremaining: 1.55s\n",
      "929:\tlearn: 0.3687654\ttotal: 20.4s\tremaining: 1.53s\n",
      "930:\tlearn: 0.3687571\ttotal: 20.4s\tremaining: 1.51s\n",
      "931:\tlearn: 0.3687461\ttotal: 20.4s\tremaining: 1.49s\n",
      "932:\tlearn: 0.3687373\ttotal: 20.4s\tremaining: 1.47s\n",
      "933:\tlearn: 0.3687277\ttotal: 20.5s\tremaining: 1.45s\n",
      "934:\tlearn: 0.3687153\ttotal: 20.5s\tremaining: 1.42s\n",
      "935:\tlearn: 0.3687032\ttotal: 20.5s\tremaining: 1.4s\n",
      "936:\tlearn: 0.3686946\ttotal: 20.5s\tremaining: 1.38s\n",
      "937:\tlearn: 0.3686844\ttotal: 20.5s\tremaining: 1.36s\n",
      "938:\tlearn: 0.3686746\ttotal: 20.6s\tremaining: 1.34s\n",
      "939:\tlearn: 0.3686656\ttotal: 20.6s\tremaining: 1.31s\n",
      "940:\tlearn: 0.3686565\ttotal: 20.6s\tremaining: 1.29s\n",
      "941:\tlearn: 0.3686486\ttotal: 20.6s\tremaining: 1.27s\n",
      "942:\tlearn: 0.3686400\ttotal: 20.7s\tremaining: 1.25s\n",
      "943:\tlearn: 0.3686324\ttotal: 20.7s\tremaining: 1.23s\n",
      "944:\tlearn: 0.3686249\ttotal: 20.7s\tremaining: 1.2s\n",
      "945:\tlearn: 0.3686151\ttotal: 20.7s\tremaining: 1.18s\n",
      "946:\tlearn: 0.3686066\ttotal: 20.7s\tremaining: 1.16s\n",
      "947:\tlearn: 0.3685943\ttotal: 20.8s\tremaining: 1.14s\n",
      "948:\tlearn: 0.3685873\ttotal: 20.8s\tremaining: 1.12s\n",
      "949:\tlearn: 0.3685790\ttotal: 20.8s\tremaining: 1.09s\n",
      "950:\tlearn: 0.3685707\ttotal: 20.8s\tremaining: 1.07s\n",
      "951:\tlearn: 0.3685624\ttotal: 20.8s\tremaining: 1.05s\n",
      "952:\tlearn: 0.3685487\ttotal: 20.9s\tremaining: 1.03s\n",
      "953:\tlearn: 0.3685345\ttotal: 20.9s\tremaining: 1.01s\n",
      "954:\tlearn: 0.3685244\ttotal: 20.9s\tremaining: 986ms\n",
      "955:\tlearn: 0.3685161\ttotal: 20.9s\tremaining: 964ms\n",
      "956:\tlearn: 0.3685094\ttotal: 21s\tremaining: 942ms\n",
      "957:\tlearn: 0.3684999\ttotal: 21s\tremaining: 920ms\n",
      "958:\tlearn: 0.3684943\ttotal: 21s\tremaining: 898ms\n",
      "959:\tlearn: 0.3684839\ttotal: 21s\tremaining: 876ms\n",
      "960:\tlearn: 0.3684706\ttotal: 21s\tremaining: 854ms\n",
      "961:\tlearn: 0.3684586\ttotal: 21.1s\tremaining: 832ms\n",
      "962:\tlearn: 0.3684504\ttotal: 21.1s\tremaining: 810ms\n",
      "963:\tlearn: 0.3684431\ttotal: 21.1s\tremaining: 788ms\n",
      "964:\tlearn: 0.3684370\ttotal: 21.1s\tremaining: 766ms\n",
      "965:\tlearn: 0.3684274\ttotal: 21.2s\tremaining: 745ms\n",
      "966:\tlearn: 0.3684203\ttotal: 21.2s\tremaining: 723ms\n",
      "967:\tlearn: 0.3684156\ttotal: 21.2s\tremaining: 701ms\n",
      "968:\tlearn: 0.3684079\ttotal: 21.2s\tremaining: 679ms\n",
      "969:\tlearn: 0.3683996\ttotal: 21.2s\tremaining: 657ms\n",
      "970:\tlearn: 0.3683898\ttotal: 21.3s\tremaining: 635ms\n",
      "971:\tlearn: 0.3683807\ttotal: 21.3s\tremaining: 613ms\n",
      "972:\tlearn: 0.3683722\ttotal: 21.3s\tremaining: 591ms\n",
      "973:\tlearn: 0.3683642\ttotal: 21.3s\tremaining: 569ms\n",
      "974:\tlearn: 0.3683578\ttotal: 21.3s\tremaining: 547ms\n",
      "975:\tlearn: 0.3683500\ttotal: 21.4s\tremaining: 525ms\n",
      "976:\tlearn: 0.3683404\ttotal: 21.4s\tremaining: 504ms\n",
      "977:\tlearn: 0.3683323\ttotal: 21.4s\tremaining: 482ms\n",
      "978:\tlearn: 0.3683223\ttotal: 21.4s\tremaining: 460ms\n",
      "979:\tlearn: 0.3683135\ttotal: 21.5s\tremaining: 438ms\n",
      "980:\tlearn: 0.3683061\ttotal: 21.5s\tremaining: 416ms\n"
     ]
    },
    {
     "name": "stdout",
     "output_type": "stream",
     "text": [
      "981:\tlearn: 0.3682984\ttotal: 21.5s\tremaining: 394ms\n",
      "982:\tlearn: 0.3682895\ttotal: 21.5s\tremaining: 372ms\n",
      "983:\tlearn: 0.3682821\ttotal: 21.5s\tremaining: 350ms\n",
      "984:\tlearn: 0.3682710\ttotal: 21.6s\tremaining: 328ms\n",
      "985:\tlearn: 0.3682630\ttotal: 21.6s\tremaining: 306ms\n",
      "986:\tlearn: 0.3682529\ttotal: 21.6s\tremaining: 285ms\n",
      "987:\tlearn: 0.3682450\ttotal: 21.6s\tremaining: 263ms\n",
      "988:\tlearn: 0.3682394\ttotal: 21.7s\tremaining: 241ms\n",
      "989:\tlearn: 0.3682319\ttotal: 21.7s\tremaining: 219ms\n",
      "990:\tlearn: 0.3682235\ttotal: 21.7s\tremaining: 197ms\n",
      "991:\tlearn: 0.3682161\ttotal: 21.7s\tremaining: 175ms\n",
      "992:\tlearn: 0.3682080\ttotal: 21.7s\tremaining: 153ms\n",
      "993:\tlearn: 0.3681983\ttotal: 21.8s\tremaining: 131ms\n",
      "994:\tlearn: 0.3681896\ttotal: 21.8s\tremaining: 109ms\n",
      "995:\tlearn: 0.3681777\ttotal: 21.8s\tremaining: 87.6ms\n",
      "996:\tlearn: 0.3681680\ttotal: 21.8s\tremaining: 65.7ms\n",
      "997:\tlearn: 0.3681593\ttotal: 21.9s\tremaining: 43.8ms\n",
      "998:\tlearn: 0.3681477\ttotal: 21.9s\tremaining: 21.9ms\n",
      "999:\tlearn: 0.3681421\ttotal: 21.9s\tremaining: 0us\n",
      "0.3681420595348827 0.37880358369176864\n"
     ]
    },
    {
     "data": {
      "text/html": [
       "<div>\n",
       "<style scoped>\n",
       "    .dataframe tbody tr th:only-of-type {\n",
       "        vertical-align: middle;\n",
       "    }\n",
       "\n",
       "    .dataframe tbody tr th {\n",
       "        vertical-align: top;\n",
       "    }\n",
       "\n",
       "    .dataframe thead th {\n",
       "        text-align: right;\n",
       "    }\n",
       "</style>\n",
       "<table border=\"1\" class=\"dataframe\">\n",
       "  <thead>\n",
       "    <tr style=\"text-align: right;\">\n",
       "      <th></th>\n",
       "      <th>Model_Name</th>\n",
       "      <th>RMSE Train</th>\n",
       "      <th>RMSE Test</th>\n",
       "      <th>MAE Train</th>\n",
       "      <th>MAE Test</th>\n",
       "    </tr>\n",
       "  </thead>\n",
       "  <tbody>\n",
       "    <tr>\n",
       "      <th>0</th>\n",
       "      <td>Full Model</td>\n",
       "      <td>0.456195</td>\n",
       "      <td>0.456465</td>\n",
       "      <td>0.357047</td>\n",
       "      <td>0.357877</td>\n",
       "    </tr>\n",
       "    <tr>\n",
       "      <th>1</th>\n",
       "      <td>RandomForest Model</td>\n",
       "      <td>0.143596</td>\n",
       "      <td>0.384379</td>\n",
       "      <td>0.111337</td>\n",
       "      <td>0.300428</td>\n",
       "    </tr>\n",
       "    <tr>\n",
       "      <th>2</th>\n",
       "      <td>XGBOOST Model</td>\n",
       "      <td>0.362545</td>\n",
       "      <td>0.37746</td>\n",
       "      <td>0.282585</td>\n",
       "      <td>0.294343</td>\n",
       "    </tr>\n",
       "    <tr>\n",
       "      <th>3</th>\n",
       "      <td>GradientBoosting Model</td>\n",
       "      <td>0.378602</td>\n",
       "      <td>0.379842</td>\n",
       "      <td>0.295389</td>\n",
       "      <td>0.296503</td>\n",
       "    </tr>\n",
       "    <tr>\n",
       "      <th>4</th>\n",
       "      <td>AdaBoost Model</td>\n",
       "      <td>0.388724</td>\n",
       "      <td>0.389444</td>\n",
       "      <td>0.305315</td>\n",
       "      <td>0.306112</td>\n",
       "    </tr>\n",
       "    <tr>\n",
       "      <th>5</th>\n",
       "      <td>CatBoost Model</td>\n",
       "      <td>0.368142</td>\n",
       "      <td>0.378804</td>\n",
       "      <td>0.287353</td>\n",
       "      <td>0.295805</td>\n",
       "    </tr>\n",
       "  </tbody>\n",
       "</table>\n",
       "</div>"
      ],
      "text/plain": [
       "               Model_Name RMSE Train RMSE Test MAE Train  MAE Test\n",
       "0              Full Model   0.456195  0.456465  0.357047  0.357877\n",
       "1      RandomForest Model   0.143596  0.384379  0.111337  0.300428\n",
       "2           XGBOOST Model   0.362545   0.37746  0.282585  0.294343\n",
       "3  GradientBoosting Model   0.378602  0.379842  0.295389  0.296503\n",
       "4          AdaBoost Model   0.388724  0.389444  0.305315  0.306112\n",
       "5          CatBoost Model   0.368142  0.378804  0.287353  0.295805"
      ]
     },
     "execution_count": 179,
     "metadata": {},
     "output_type": "execute_result"
    }
   ],
   "source": [
    "from catboost import CatBoostRegressor\n",
    "cat_model = CatBoostRegressor(random_state=10).fit(xtrain,ytrain)\n",
    "\n",
    "\n",
    "pred_train = cat_model.predict(xtrain)\n",
    "mae_train = mean_absolute_error(ytrain, pred_train)\n",
    "\n",
    "pred_test = cat_model.predict(xtest)\n",
    "mae_test = mean_absolute_error(ytest, pred_test)\n",
    "\n",
    "\n",
    "#MSE\n",
    "\n",
    "mse_train = mean_squared_error(ytrain, pred_train)\n",
    "mse_test = mean_squared_error(ytest, pred_test)\n",
    "\n",
    "\n",
    "# Root Mean Squared Error\n",
    "\n",
    "rmse_train = np.sqrt(mse_train)\n",
    "rmse_test = np.sqrt(mse_test)\n",
    "\n",
    "\n",
    "print(rmse_train,rmse_test)\n",
    "\n",
    "mlmodel = pd.Series({'Model_Name':'CatBoost Model','RMSE Train':rmse_train,'RMSE Test':rmse_test,'MAE Train':mae_train,\n",
    "                    'MAE Test':mae_test})\n",
    "results = results.append(mlmodel, ignore_index = True)\n",
    "results"
   ]
  },
  {
   "cell_type": "code",
   "execution_count": 180,
   "id": "4eacf141",
   "metadata": {
    "scrolled": false
   },
   "outputs": [
    {
     "data": {
      "text/html": [
       "<div>\n",
       "<style scoped>\n",
       "    .dataframe tbody tr th:only-of-type {\n",
       "        vertical-align: middle;\n",
       "    }\n",
       "\n",
       "    .dataframe tbody tr th {\n",
       "        vertical-align: top;\n",
       "    }\n",
       "\n",
       "    .dataframe thead th {\n",
       "        text-align: right;\n",
       "    }\n",
       "</style>\n",
       "<table border=\"1\" class=\"dataframe\">\n",
       "  <thead>\n",
       "    <tr style=\"text-align: right;\">\n",
       "      <th></th>\n",
       "      <th>Model_Name</th>\n",
       "      <th>RMSE Train</th>\n",
       "      <th>RMSE Test</th>\n",
       "      <th>MAE Train</th>\n",
       "      <th>MAE Test</th>\n",
       "    </tr>\n",
       "  </thead>\n",
       "  <tbody>\n",
       "    <tr>\n",
       "      <th>0</th>\n",
       "      <td>Full Model</td>\n",
       "      <td>0.456195</td>\n",
       "      <td>0.456465</td>\n",
       "      <td>0.357047</td>\n",
       "      <td>0.357877</td>\n",
       "    </tr>\n",
       "    <tr>\n",
       "      <th>1</th>\n",
       "      <td>RandomForest Model</td>\n",
       "      <td>0.143596</td>\n",
       "      <td>0.384379</td>\n",
       "      <td>0.111337</td>\n",
       "      <td>0.300428</td>\n",
       "    </tr>\n",
       "    <tr>\n",
       "      <th>2</th>\n",
       "      <td>XGBOOST Model</td>\n",
       "      <td>0.362545</td>\n",
       "      <td>0.37746</td>\n",
       "      <td>0.282585</td>\n",
       "      <td>0.294343</td>\n",
       "    </tr>\n",
       "    <tr>\n",
       "      <th>3</th>\n",
       "      <td>GradientBoosting Model</td>\n",
       "      <td>0.378602</td>\n",
       "      <td>0.379842</td>\n",
       "      <td>0.295389</td>\n",
       "      <td>0.296503</td>\n",
       "    </tr>\n",
       "    <tr>\n",
       "      <th>4</th>\n",
       "      <td>AdaBoost Model</td>\n",
       "      <td>0.388724</td>\n",
       "      <td>0.389444</td>\n",
       "      <td>0.305315</td>\n",
       "      <td>0.306112</td>\n",
       "    </tr>\n",
       "    <tr>\n",
       "      <th>5</th>\n",
       "      <td>CatBoost Model</td>\n",
       "      <td>0.368142</td>\n",
       "      <td>0.378804</td>\n",
       "      <td>0.287353</td>\n",
       "      <td>0.295805</td>\n",
       "    </tr>\n",
       "  </tbody>\n",
       "</table>\n",
       "</div>"
      ],
      "text/plain": [
       "               Model_Name RMSE Train RMSE Test MAE Train  MAE Test\n",
       "0              Full Model   0.456195  0.456465  0.357047  0.357877\n",
       "1      RandomForest Model   0.143596  0.384379  0.111337  0.300428\n",
       "2           XGBOOST Model   0.362545   0.37746  0.282585  0.294343\n",
       "3  GradientBoosting Model   0.378602  0.379842  0.295389  0.296503\n",
       "4          AdaBoost Model   0.388724  0.389444  0.305315  0.306112\n",
       "5          CatBoost Model   0.368142  0.378804  0.287353  0.295805"
      ]
     },
     "execution_count": 180,
     "metadata": {},
     "output_type": "execute_result"
    }
   ],
   "source": [
    "results"
   ]
  },
  {
   "cell_type": "code",
   "execution_count": 181,
   "id": "fab31189",
   "metadata": {},
   "outputs": [],
   "source": [
    "from sklearn.model_selection import GridSearchCV"
   ]
  },
  {
   "cell_type": "code",
   "execution_count": null,
   "id": "c70a5af0",
   "metadata": {},
   "outputs": [],
   "source": [
    "# from sklearn.ensemble import GradientBoostingRegressor\n",
    "# gd = GradientBoostingRegressor()\n",
    "# gd_s = GridSearchCV(gd,param_grid=[{'min_samples_split':[2,3,1],'learning_rate':[0.1,0.01,0.5]}]).fit(xtrain,ytrain)\n",
    "# gd_s.best_params_"
   ]
  },
  {
   "cell_type": "code",
   "execution_count": null,
   "id": "7557ad08",
   "metadata": {},
   "outputs": [],
   "source": [
    "# X_ = pd.concat([pd.DataFrame(sc.fit_transform(X.select_dtypes(include=np.number)),\n",
    "#                              columns=X.select_dtypes(include=np.number).columns,\n",
    "#                              index=list(X.index)),\n",
    "#                 pd.get_dummies(X.select_dtypes(include=np.object_),drop_first=True)],axis=1)"
   ]
  }
 ],
 "metadata": {
  "kernelspec": {
   "display_name": "Python 3 (ipykernel)",
   "language": "python",
   "name": "python3"
  },
  "language_info": {
   "codemirror_mode": {
    "name": "ipython",
    "version": 3
   },
   "file_extension": ".py",
   "mimetype": "text/x-python",
   "name": "python",
   "nbconvert_exporter": "python",
   "pygments_lexer": "ipython3",
   "version": "3.9.7"
  }
 },
 "nbformat": 4,
 "nbformat_minor": 5
}
